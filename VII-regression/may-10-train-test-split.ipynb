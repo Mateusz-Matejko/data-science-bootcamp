{
 "cells": [
  {
   "cell_type": "code",
   "execution_count": 2,
   "id": "4ef0a6ca",
   "metadata": {},
   "outputs": [],
   "source": [
    "import pandas as pd\n",
    "import numpy as np\n",
    "from sklearn.tree import DecisionTreeRegressor\n",
    "import matplotlib.pyplot as plt\n",
    "\n",
    "import ssl\n",
    "ssl._create_default_https_context = ssl._create_unverified_context"
   ]
  },
  {
   "cell_type": "code",
   "execution_count": 3,
   "id": "c22c8e6b",
   "metadata": {},
   "outputs": [
    {
     "data": {
      "text/html": [
       "<div>\n",
       "<style scoped>\n",
       "    .dataframe tbody tr th:only-of-type {\n",
       "        vertical-align: middle;\n",
       "    }\n",
       "\n",
       "    .dataframe tbody tr th {\n",
       "        vertical-align: top;\n",
       "    }\n",
       "\n",
       "    .dataframe thead th {\n",
       "        text-align: right;\n",
       "    }\n",
       "</style>\n",
       "<table border=\"1\" class=\"dataframe\">\n",
       "  <thead>\n",
       "    <tr style=\"text-align: right;\">\n",
       "      <th></th>\n",
       "      <th>Size</th>\n",
       "      <th>Bedrooms</th>\n",
       "      <th>Price</th>\n",
       "    </tr>\n",
       "  </thead>\n",
       "  <tbody>\n",
       "    <tr>\n",
       "      <th>0</th>\n",
       "      <td>2104</td>\n",
       "      <td>3</td>\n",
       "      <td>399900</td>\n",
       "    </tr>\n",
       "    <tr>\n",
       "      <th>1</th>\n",
       "      <td>1600</td>\n",
       "      <td>3</td>\n",
       "      <td>329900</td>\n",
       "    </tr>\n",
       "    <tr>\n",
       "      <th>2</th>\n",
       "      <td>2400</td>\n",
       "      <td>3</td>\n",
       "      <td>369000</td>\n",
       "    </tr>\n",
       "    <tr>\n",
       "      <th>3</th>\n",
       "      <td>1416</td>\n",
       "      <td>2</td>\n",
       "      <td>232000</td>\n",
       "    </tr>\n",
       "    <tr>\n",
       "      <th>4</th>\n",
       "      <td>3000</td>\n",
       "      <td>4</td>\n",
       "      <td>539900</td>\n",
       "    </tr>\n",
       "  </tbody>\n",
       "</table>\n",
       "</div>"
      ],
      "text/plain": [
       "   Size  Bedrooms   Price\n",
       "0  2104         3  399900\n",
       "1  1600         3  329900\n",
       "2  2400         3  369000\n",
       "3  1416         2  232000\n",
       "4  3000         4  539900"
      ]
     },
     "execution_count": 3,
     "metadata": {},
     "output_type": "execute_result"
    }
   ],
   "source": [
    "url='https://raw.githubusercontent.com/girishkuniyal/Predict-housing-prices-in-Portland/master/ex1data2.txt'\n",
    "df=pd.read_csv(url,header=None)\n",
    "df.columns=['Size','Bedrooms','Price']\n",
    "df.head()"
   ]
  },
  {
   "cell_type": "code",
   "execution_count": 4,
   "id": "2046a369",
   "metadata": {},
   "outputs": [],
   "source": [
    "X = df[['Size', 'Bedrooms']]\n",
    "y = df['Price']"
   ]
  },
  {
   "cell_type": "markdown",
   "id": "d2ee7181",
   "metadata": {},
   "source": [
    "### Podział na Trenigowy i testowy"
   ]
  },
  {
   "cell_type": "code",
   "execution_count": 5,
   "id": "26dc4b06",
   "metadata": {},
   "outputs": [],
   "source": [
    "X_train, X_test, y_train, y_test = train_test_split( X, y, test_size=0.2, random_state=42 )"
   ]
  },
  {
   "cell_type": "code",
   "execution_count": 6,
   "id": "bdfceb8f",
   "metadata": {},
   "outputs": [
    {
     "name": "stdout",
     "output_type": "stream",
     "text": [
      "(47, 2) (47,)\n",
      "(37, 2) (37,)\n",
      "(10, 2) (10,)\n"
     ]
    }
   ],
   "source": [
    "print(X.shape, y.shape)\n",
    "print(X_train.shape, y_train.shape)\n",
    "print(X_test.shape, y_test.shape)"
   ]
  },
  {
   "cell_type": "markdown",
   "id": "7392e300",
   "metadata": {},
   "source": [
    "### Dokładamy walidacyjny"
   ]
  },
  {
   "cell_type": "code",
   "execution_count": 14,
   "id": "605050f4",
   "metadata": {},
   "outputs": [],
   "source": [
    "X_train, X_test, y_train, y_test = train_test_split( X, y, test_size=0.2, random_state=42 )"
   ]
  },
  {
   "cell_type": "code",
   "execution_count": 15,
   "id": "42675417",
   "metadata": {},
   "outputs": [],
   "source": [
    "X_train, X_val, y_train, y_val = train_test_split(X_train, y_train, test_size=0.25, random_state=1)"
   ]
  },
  {
   "cell_type": "code",
   "execution_count": 16,
   "id": "7f9b9603",
   "metadata": {},
   "outputs": [
    {
     "name": "stdout",
     "output_type": "stream",
     "text": [
      "(47, 2) (47,)\n",
      "(27, 2) (27,)\n",
      "(10, 2) (10,)\n",
      "(10, 2) (10,)\n"
     ]
    }
   ],
   "source": [
    "print(X.shape, y.shape)\n",
    "print(X_train.shape, y_train.shape)\n",
    "print(X_test.shape, y_test.shape)\n",
    "print(X_val.shape, y_val.shape)"
   ]
  },
  {
   "cell_type": "markdown",
   "id": "f662c6ab",
   "metadata": {},
   "source": [
    "### Kroswalidacja"
   ]
  },
  {
   "cell_type": "code",
   "execution_count": 17,
   "id": "d7e45e3d",
   "metadata": {},
   "outputs": [],
   "source": [
    "# k krotna walidacja"
   ]
  },
  {
   "cell_type": "code",
   "execution_count": 18,
   "id": "0ef1294d",
   "metadata": {},
   "outputs": [],
   "source": [
    "import pandas \n",
    "from sklearn.model_selection import KFold"
   ]
  },
  {
   "cell_type": "code",
   "execution_count": 20,
   "id": "4d002a2f",
   "metadata": {},
   "outputs": [],
   "source": [
    "X = df[['Size', 'Bedrooms']]\n",
    "y = df['Price']"
   ]
  },
  {
   "cell_type": "code",
   "execution_count": 29,
   "id": "3dd3797f",
   "metadata": {},
   "outputs": [
    {
     "name": "stdout",
     "output_type": "stream",
     "text": [
      "(37, 2) (10, 2)\n",
      "(37, 2) (10, 2)\n",
      "(38, 2) (9, 2)\n",
      "(38, 2) (9, 2)\n",
      "(38, 2) (9, 2)\n"
     ]
    }
   ],
   "source": [
    "cross_validation = KFold(n_splits=5, shuffle=True, random_state=42)\n",
    "# n_splits = amout of splits\n",
    "for train, test in cross_validation.split(X, y):\n",
    "    X_train, y_train = X.iloc[train], y.iloc[train]\n",
    "    X_test, y_test = X.iloc[test], y.iloc[test]\n",
    "    print(X_train.shape, X_test.shape)"
   ]
  },
  {
   "cell_type": "markdown",
   "id": "c2fd7315",
   "metadata": {},
   "source": [
    "### Walidacja leave one out"
   ]
  },
  {
   "cell_type": "code",
   "execution_count": 31,
   "id": "51449600",
   "metadata": {},
   "outputs": [],
   "source": [
    "import pandas\n",
    "from sklearn.model_selection import LeaveOneOut"
   ]
  },
  {
   "cell_type": "code",
   "execution_count": 32,
   "id": "e891151d",
   "metadata": {},
   "outputs": [],
   "source": [
    "cv = LeaveOneOut()"
   ]
  },
  {
   "cell_type": "code",
   "execution_count": 33,
   "id": "0b4950ee",
   "metadata": {},
   "outputs": [
    {
     "name": "stdout",
     "output_type": "stream",
     "text": [
      "(46, 2) (1, 2)\n",
      "(46, 2) (1, 2)\n",
      "(46, 2) (1, 2)\n",
      "(46, 2) (1, 2)\n",
      "(46, 2) (1, 2)\n",
      "(46, 2) (1, 2)\n",
      "(46, 2) (1, 2)\n",
      "(46, 2) (1, 2)\n",
      "(46, 2) (1, 2)\n",
      "(46, 2) (1, 2)\n",
      "(46, 2) (1, 2)\n",
      "(46, 2) (1, 2)\n",
      "(46, 2) (1, 2)\n",
      "(46, 2) (1, 2)\n",
      "(46, 2) (1, 2)\n",
      "(46, 2) (1, 2)\n",
      "(46, 2) (1, 2)\n",
      "(46, 2) (1, 2)\n",
      "(46, 2) (1, 2)\n",
      "(46, 2) (1, 2)\n",
      "(46, 2) (1, 2)\n",
      "(46, 2) (1, 2)\n",
      "(46, 2) (1, 2)\n",
      "(46, 2) (1, 2)\n",
      "(46, 2) (1, 2)\n",
      "(46, 2) (1, 2)\n",
      "(46, 2) (1, 2)\n",
      "(46, 2) (1, 2)\n",
      "(46, 2) (1, 2)\n",
      "(46, 2) (1, 2)\n",
      "(46, 2) (1, 2)\n",
      "(46, 2) (1, 2)\n",
      "(46, 2) (1, 2)\n",
      "(46, 2) (1, 2)\n",
      "(46, 2) (1, 2)\n",
      "(46, 2) (1, 2)\n",
      "(46, 2) (1, 2)\n",
      "(46, 2) (1, 2)\n",
      "(46, 2) (1, 2)\n",
      "(46, 2) (1, 2)\n",
      "(46, 2) (1, 2)\n",
      "(46, 2) (1, 2)\n",
      "(46, 2) (1, 2)\n",
      "(46, 2) (1, 2)\n",
      "(46, 2) (1, 2)\n",
      "(46, 2) (1, 2)\n",
      "(46, 2) (1, 2)\n"
     ]
    }
   ],
   "source": [
    "cv=LeaveOneOut()\n",
    "for train,test in cv.split(X,y):\n",
    "  X_train,y_train=X.iloc[train],y.iloc[train]\n",
    "  X_test,y_test=X.iloc[test],y.iloc[test]\n",
    "  print(X_train.shape,X_test.shape)"
   ]
  },
  {
   "cell_type": "code",
   "execution_count": 34,
   "id": "99d8a162",
   "metadata": {},
   "outputs": [],
   "source": [
    "import numpy as np"
   ]
  },
  {
   "cell_type": "code",
   "execution_count": 44,
   "id": "6ee39201",
   "metadata": {},
   "outputs": [
    {
     "name": "stdout",
     "output_type": "stream",
     "text": [
      "[['EwU', 'SebŻ', 'Mikołaj'], ['PawŻ', 'IzR', 'PatS'], ['MonG', 'KaD', 'PatŚ'], ['MatB', 'MarS', 'PatK'], ['MatM', 'MonK', 'MiłD'], ['NatP', 'PawA', 'MagM']]\n",
      "Length of set: 18\n",
      "[['MonK', 'MiłD', 'PawA'],\n",
      " ['MonG', 'MagM', 'KaD'],\n",
      " ['PawŻ', 'IzR', 'SebŻ'],\n",
      " ['PatK', 'PatS', 'NatP'],\n",
      " ['MarS', 'EwU', 'Mikołaj'],\n",
      " ['MatB', 'PatŚ', 'MatM']]\n"
     ]
    }
   ],
   "source": [
    "import random\n",
    "import pprint\n",
    "\n",
    "list_of_participants = [\"EwU\", \"IzR\", \"KaD\", \"MagM\", \"MarS\", \"MatM\", \"MatB\", \"Mikołaj\", \"MiłD\", \"MonG\", \"MonK\", \"NatP\", \"PatK\", \"PatŚ\", \"PatS\", \"PawA\", \"PawŻ\", \"SebŻ\"]\n",
    "print(\"Length of list:\",len(list_of_participants))\n",
    "print(\"Length of set:\",len(set(list_of_participants)))\n",
    "\n",
    "random.shuffle(list_of_participants)\n",
    "\n",
    "groups_of_three = []\n",
    "group = []\n",
    "\n",
    "for participant in list_of_participants:\n",
    "    group.append(participant)\n",
    "    if len(group) == 3:\n",
    "        groups_of_three.append(group)\n",
    "        group = []\n",
    "    if not list_of_participants:\n",
    "        groups_of_three.append(group)\n",
    "        break\n",
    "\n",
    "# dodajemy ostatni, niepełny podzbiór, jeśli istnieje\n",
    "if group:\n",
    "    groups_of_three.append(group)\n",
    "\n",
    "pprint.pprint(groups_of_three)\n"
   ]
  },
  {
   "cell_type": "markdown",
   "id": "5a9ffdd1",
   "metadata": {},
   "source": []
  },
  {
   "cell_type": "markdown",
   "id": "9bbe0f77",
   "metadata": {},
   "source": [
    "### MAE"
   ]
  },
  {
   "cell_type": "code",
   "execution_count": 45,
   "id": "17408880",
   "metadata": {},
   "outputs": [],
   "source": [
    "import pandas as pd\n",
    "from sklearn.linear_model import LinearRegression\n",
    "from sklearn.metrics import mean_absolute_error"
   ]
  },
  {
   "cell_type": "code",
   "execution_count": 49,
   "id": "6d5fd48c",
   "metadata": {},
   "outputs": [],
   "source": [
    "X=df[['Size']]\n",
    "y=df['Price']\n",
    "X_train,X_test,y_train,y_test=train_test_split(X,y,test_size=0.2,random_state=42)"
   ]
  },
  {
   "cell_type": "code",
   "execution_count": 50,
   "id": "3b9783d4",
   "metadata": {},
   "outputs": [],
   "source": [
    "model=LinearRegression()\n",
    "model.fit(X_train,y_train)\n",
    "y_predict=model.predict(X_test)"
   ]
  },
  {
   "cell_type": "code",
   "execution_count": 51,
   "id": "cb5ae821",
   "metadata": {},
   "outputs": [
    {
     "data": {
      "text/plain": [
       "69978.5029654342"
      ]
     },
     "execution_count": 51,
     "metadata": {},
     "output_type": "execute_result"
    }
   ],
   "source": [
    "mean_absolute_error(y_test, y_predict)"
   ]
  },
  {
   "cell_type": "code",
   "execution_count": null,
   "id": "fa8618ba",
   "metadata": {},
   "outputs": [],
   "source": []
  },
  {
   "cell_type": "code",
   "execution_count": 52,
   "id": "c3f04723",
   "metadata": {},
   "outputs": [],
   "source": [
    "X=df[['Size','Bedrooms']]\n",
    "y=df['Price']\n",
    "X_train,X_test,y_train,y_test=train_test_split(X,y,test_size=0.2,random_state=42)"
   ]
  },
  {
   "cell_type": "code",
   "execution_count": 53,
   "id": "922bc832",
   "metadata": {},
   "outputs": [
    {
     "data": {
      "text/html": [
       "<style>#sk-container-id-1 {color: black;background-color: white;}#sk-container-id-1 pre{padding: 0;}#sk-container-id-1 div.sk-toggleable {background-color: white;}#sk-container-id-1 label.sk-toggleable__label {cursor: pointer;display: block;width: 100%;margin-bottom: 0;padding: 0.3em;box-sizing: border-box;text-align: center;}#sk-container-id-1 label.sk-toggleable__label-arrow:before {content: \"▸\";float: left;margin-right: 0.25em;color: #696969;}#sk-container-id-1 label.sk-toggleable__label-arrow:hover:before {color: black;}#sk-container-id-1 div.sk-estimator:hover label.sk-toggleable__label-arrow:before {color: black;}#sk-container-id-1 div.sk-toggleable__content {max-height: 0;max-width: 0;overflow: hidden;text-align: left;background-color: #f0f8ff;}#sk-container-id-1 div.sk-toggleable__content pre {margin: 0.2em;color: black;border-radius: 0.25em;background-color: #f0f8ff;}#sk-container-id-1 input.sk-toggleable__control:checked~div.sk-toggleable__content {max-height: 200px;max-width: 100%;overflow: auto;}#sk-container-id-1 input.sk-toggleable__control:checked~label.sk-toggleable__label-arrow:before {content: \"▾\";}#sk-container-id-1 div.sk-estimator input.sk-toggleable__control:checked~label.sk-toggleable__label {background-color: #d4ebff;}#sk-container-id-1 div.sk-label input.sk-toggleable__control:checked~label.sk-toggleable__label {background-color: #d4ebff;}#sk-container-id-1 input.sk-hidden--visually {border: 0;clip: rect(1px 1px 1px 1px);clip: rect(1px, 1px, 1px, 1px);height: 1px;margin: -1px;overflow: hidden;padding: 0;position: absolute;width: 1px;}#sk-container-id-1 div.sk-estimator {font-family: monospace;background-color: #f0f8ff;border: 1px dotted black;border-radius: 0.25em;box-sizing: border-box;margin-bottom: 0.5em;}#sk-container-id-1 div.sk-estimator:hover {background-color: #d4ebff;}#sk-container-id-1 div.sk-parallel-item::after {content: \"\";width: 100%;border-bottom: 1px solid gray;flex-grow: 1;}#sk-container-id-1 div.sk-label:hover label.sk-toggleable__label {background-color: #d4ebff;}#sk-container-id-1 div.sk-serial::before {content: \"\";position: absolute;border-left: 1px solid gray;box-sizing: border-box;top: 0;bottom: 0;left: 50%;z-index: 0;}#sk-container-id-1 div.sk-serial {display: flex;flex-direction: column;align-items: center;background-color: white;padding-right: 0.2em;padding-left: 0.2em;position: relative;}#sk-container-id-1 div.sk-item {position: relative;z-index: 1;}#sk-container-id-1 div.sk-parallel {display: flex;align-items: stretch;justify-content: center;background-color: white;position: relative;}#sk-container-id-1 div.sk-item::before, #sk-container-id-1 div.sk-parallel-item::before {content: \"\";position: absolute;border-left: 1px solid gray;box-sizing: border-box;top: 0;bottom: 0;left: 50%;z-index: -1;}#sk-container-id-1 div.sk-parallel-item {display: flex;flex-direction: column;z-index: 1;position: relative;background-color: white;}#sk-container-id-1 div.sk-parallel-item:first-child::after {align-self: flex-end;width: 50%;}#sk-container-id-1 div.sk-parallel-item:last-child::after {align-self: flex-start;width: 50%;}#sk-container-id-1 div.sk-parallel-item:only-child::after {width: 0;}#sk-container-id-1 div.sk-dashed-wrapped {border: 1px dashed gray;margin: 0 0.4em 0.5em 0.4em;box-sizing: border-box;padding-bottom: 0.4em;background-color: white;}#sk-container-id-1 div.sk-label label {font-family: monospace;font-weight: bold;display: inline-block;line-height: 1.2em;}#sk-container-id-1 div.sk-label-container {text-align: center;}#sk-container-id-1 div.sk-container {/* jupyter's `normalize.less` sets `[hidden] { display: none; }` but bootstrap.min.css set `[hidden] { display: none !important; }` so we also need the `!important` here to be able to override the default hidden behavior on the sphinx rendered scikit-learn.org. See: https://github.com/scikit-learn/scikit-learn/issues/21755 */display: inline-block !important;position: relative;}#sk-container-id-1 div.sk-text-repr-fallback {display: none;}</style><div id=\"sk-container-id-1\" class=\"sk-top-container\"><div class=\"sk-text-repr-fallback\"><pre>LinearRegression()</pre><b>In a Jupyter environment, please rerun this cell to show the HTML representation or trust the notebook. <br />On GitHub, the HTML representation is unable to render, please try loading this page with nbviewer.org.</b></div><div class=\"sk-container\" hidden><div class=\"sk-item\"><div class=\"sk-estimator sk-toggleable\"><input class=\"sk-toggleable__control sk-hidden--visually\" id=\"sk-estimator-id-1\" type=\"checkbox\" checked><label for=\"sk-estimator-id-1\" class=\"sk-toggleable__label sk-toggleable__label-arrow\">LinearRegression</label><div class=\"sk-toggleable__content\"><pre>LinearRegression()</pre></div></div></div></div></div>"
      ],
      "text/plain": [
       "LinearRegression()"
      ]
     },
     "execution_count": 53,
     "metadata": {},
     "output_type": "execute_result"
    }
   ],
   "source": [
    "model=LinearRegression()\n",
    "model.fit(X_train,y_train)"
   ]
  },
  {
   "cell_type": "code",
   "execution_count": 56,
   "id": "f281f22d",
   "metadata": {},
   "outputs": [
    {
     "data": {
      "text/plain": [
       "72334.7536035667"
      ]
     },
     "execution_count": 56,
     "metadata": {},
     "output_type": "execute_result"
    }
   ],
   "source": [
    "y_predict=model.predict(X_test)\n",
    "mean_absolute_error(y_test, y_predict)"
   ]
  },
  {
   "cell_type": "code",
   "execution_count": null,
   "id": "fc25ce58",
   "metadata": {},
   "outputs": [],
   "source": []
  },
  {
   "cell_type": "code",
   "execution_count": 57,
   "id": "a5ce1de6",
   "metadata": {},
   "outputs": [],
   "source": [
    "import pandas as pd\n",
    "from sklearn.linear_model import LinearRegression\n",
    "from sklearn.metrics import mean_absolute_percentage_error"
   ]
  },
  {
   "cell_type": "code",
   "execution_count": 63,
   "id": "eaf03e71",
   "metadata": {},
   "outputs": [],
   "source": [
    "X=df[['Size']]\n",
    "y=df['Price']"
   ]
  },
  {
   "cell_type": "code",
   "execution_count": 62,
   "id": "858caa3e",
   "metadata": {},
   "outputs": [],
   "source": [
    "X_train,X_test,y_train,y_test=train_test_split(X,y,test_size=0.2,random_state=42)\n",
    "model=LinearRegression()\n",
    "model.fit(X_train,y_train)\n",
    "y_predict=model.predict(X_test)"
   ]
  },
  {
   "cell_type": "code",
   "execution_count": 64,
   "id": "e9b1a531",
   "metadata": {},
   "outputs": [
    {
     "data": {
      "text/plain": [
       "0.16923890848871587"
      ]
     },
     "execution_count": 64,
     "metadata": {},
     "output_type": "execute_result"
    }
   ],
   "source": [
    "mean_absolute_percentage_error(y_test, y_predict)"
   ]
  },
  {
   "cell_type": "code",
   "execution_count": null,
   "id": "770fbfcf",
   "metadata": {},
   "outputs": [],
   "source": []
  }
 ],
 "metadata": {
  "kernelspec": {
   "display_name": "Python 3 (ipykernel)",
   "language": "python",
   "name": "python3"
  },
  "language_info": {
   "codemirror_mode": {
    "name": "ipython",
    "version": 3
   },
   "file_extension": ".py",
   "mimetype": "text/x-python",
   "name": "python",
   "nbconvert_exporter": "python",
   "pygments_lexer": "ipython3",
   "version": "3.10.10"
  }
 },
 "nbformat": 4,
 "nbformat_minor": 5
}
