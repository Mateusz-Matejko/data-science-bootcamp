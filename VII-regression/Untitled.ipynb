{
 "cells": [
  {
   "cell_type": "code",
   "execution_count": 61,
   "id": "75af2f1b",
   "metadata": {},
   "outputs": [],
   "source": [
    "import seaborn as sns\n",
    "import pandas as pd\n",
    "import numpy as np\n",
    "from sklearn.tree import DecisionTreeRegressor\n",
    "import matplotlib.pyplot as plt\n",
    "from sklearn.metrics import mean_absolute_error\n",
    "from sklearn import tree\n",
    "\n",
    "\n",
    "import ssl\n",
    "ssl._create_default_https_context = ssl._create_unverified_context"
   ]
  },
  {
   "cell_type": "code",
   "execution_count": 73,
   "id": "ea616c6f",
   "metadata": {},
   "outputs": [],
   "source": [
    "df = pd.read_json(\"https://raw.githubusercontent.com/Mateusz-Matejko/rental-real-estate-market-in-gdansk/master/project/data/time-series-and-original-data/collected-oct-27/original-data/original-data-oct27.json\")"
   ]
  },
  {
   "cell_type": "code",
   "execution_count": 74,
   "id": "b5387934",
   "metadata": {},
   "outputs": [
    {
     "data": {
      "text/html": [
       "<div>\n",
       "<style scoped>\n",
       "    .dataframe tbody tr th:only-of-type {\n",
       "        vertical-align: middle;\n",
       "    }\n",
       "\n",
       "    .dataframe tbody tr th {\n",
       "        vertical-align: top;\n",
       "    }\n",
       "\n",
       "    .dataframe thead th {\n",
       "        text-align: right;\n",
       "    }\n",
       "</style>\n",
       "<table border=\"1\" class=\"dataframe\">\n",
       "  <thead>\n",
       "    <tr style=\"text-align: right;\">\n",
       "      <th></th>\n",
       "      <th>rent</th>\n",
       "      <th>publish-date</th>\n",
       "      <th>title</th>\n",
       "      <th>link</th>\n",
       "      <th>Prywatne</th>\n",
       "      <th>Poziom</th>\n",
       "      <th>Umeblowane</th>\n",
       "      <th>Rodzaj zabudowy</th>\n",
       "      <th>Powierzchnia</th>\n",
       "      <th>Liczba pokoi</th>\n",
       "      <th>Czynsz (dodatkowo)</th>\n",
       "      <th>Firmowe</th>\n",
       "    </tr>\n",
       "  </thead>\n",
       "  <tbody>\n",
       "    <tr>\n",
       "      <th>0</th>\n",
       "      <td>3 600 zł</td>\n",
       "      <td>24 października 2022</td>\n",
       "      <td>Wynajmę mieszkanie dla 3 studentek</td>\n",
       "      <td>https://www.olx.pl/d/oferta/wynajme-mieszkanie...</td>\n",
       "      <td>Tak</td>\n",
       "      <td>1</td>\n",
       "      <td>Tak</td>\n",
       "      <td>Dom wolnostojący</td>\n",
       "      <td>44 m²</td>\n",
       "      <td>3 pokoje</td>\n",
       "      <td>1 zł</td>\n",
       "      <td>NaN</td>\n",
       "    </tr>\n",
       "    <tr>\n",
       "      <th>1</th>\n",
       "      <td>2 100 zł</td>\n",
       "      <td>21 października 2022</td>\n",
       "      <td>NOWA CENA! Mieszkanie w Nowym Porcie (50m2). O...</td>\n",
       "      <td>https://www.olx.pl/d/oferta/nowa-cena-mieszkan...</td>\n",
       "      <td>NaN</td>\n",
       "      <td>2</td>\n",
       "      <td>Tak</td>\n",
       "      <td>Blok</td>\n",
       "      <td>50 m²</td>\n",
       "      <td>2 pokoje</td>\n",
       "      <td>800 zł</td>\n",
       "      <td>Tak</td>\n",
       "    </tr>\n",
       "    <tr>\n",
       "      <th>2</th>\n",
       "      <td>2 600 zł\\n do negocjacji</td>\n",
       "      <td>21 października 2022</td>\n",
       "      <td>Mieszkanie 52m2 Gdańsk Przymorze, długoterminowo</td>\n",
       "      <td>https://www.olx.pl/d/oferta/mieszkanie-52m2-gd...</td>\n",
       "      <td>Tak</td>\n",
       "      <td>2</td>\n",
       "      <td>Tak</td>\n",
       "      <td>Blok</td>\n",
       "      <td>54 m²</td>\n",
       "      <td>3 pokoje</td>\n",
       "      <td>550 zł</td>\n",
       "      <td>NaN</td>\n",
       "    </tr>\n",
       "    <tr>\n",
       "      <th>3</th>\n",
       "      <td>2 500 zł\\n do negocjacji</td>\n",
       "      <td>26 października 2022</td>\n",
       "      <td>Mieszkanie do wynajęcia</td>\n",
       "      <td>https://www.olx.pl/d/oferta/mieszkanie-do-wyna...</td>\n",
       "      <td>Tak</td>\n",
       "      <td>1</td>\n",
       "      <td>Tak</td>\n",
       "      <td>Kamienica</td>\n",
       "      <td>37 m²</td>\n",
       "      <td>2 pokoje</td>\n",
       "      <td>300 zł</td>\n",
       "      <td>NaN</td>\n",
       "    </tr>\n",
       "    <tr>\n",
       "      <th>4</th>\n",
       "      <td>1 400 zł</td>\n",
       "      <td>20 października 2022</td>\n",
       "      <td>Wynajmę kawalerkę w centrum Gdańska</td>\n",
       "      <td>https://www.olx.pl/d/oferta/wynajme-kawalerke-...</td>\n",
       "      <td>Tak</td>\n",
       "      <td>4</td>\n",
       "      <td>Tak</td>\n",
       "      <td>Blok</td>\n",
       "      <td>18 m²</td>\n",
       "      <td>Kawalerka</td>\n",
       "      <td>350 zł</td>\n",
       "      <td>NaN</td>\n",
       "    </tr>\n",
       "  </tbody>\n",
       "</table>\n",
       "</div>"
      ],
      "text/plain": [
       "                       rent           publish-date   \n",
       "0                  3 600 zł   24 października 2022  \\\n",
       "1                  2 100 zł   21 października 2022   \n",
       "2  2 600 zł\\n do negocjacji   21 października 2022   \n",
       "3  2 500 zł\\n do negocjacji   26 października 2022   \n",
       "4                  1 400 zł   20 października 2022   \n",
       "\n",
       "                                               title   \n",
       "0                 Wynajmę mieszkanie dla 3 studentek  \\\n",
       "1  NOWA CENA! Mieszkanie w Nowym Porcie (50m2). O...   \n",
       "2   Mieszkanie 52m2 Gdańsk Przymorze, długoterminowo   \n",
       "3                            Mieszkanie do wynajęcia   \n",
       "4                Wynajmę kawalerkę w centrum Gdańska   \n",
       "\n",
       "                                                link Prywatne Poziom   \n",
       "0  https://www.olx.pl/d/oferta/wynajme-mieszkanie...      Tak      1  \\\n",
       "1  https://www.olx.pl/d/oferta/nowa-cena-mieszkan...      NaN      2   \n",
       "2  https://www.olx.pl/d/oferta/mieszkanie-52m2-gd...      Tak      2   \n",
       "3  https://www.olx.pl/d/oferta/mieszkanie-do-wyna...      Tak      1   \n",
       "4  https://www.olx.pl/d/oferta/wynajme-kawalerke-...      Tak      4   \n",
       "\n",
       "  Umeblowane    Rodzaj zabudowy Powierzchnia Liczba pokoi Czynsz (dodatkowo)   \n",
       "0        Tak   Dom wolnostojący        44 m²     3 pokoje               1 zł  \\\n",
       "1        Tak               Blok        50 m²     2 pokoje             800 zł   \n",
       "2        Tak               Blok        54 m²     3 pokoje             550 zł   \n",
       "3        Tak          Kamienica        37 m²     2 pokoje             300 zł   \n",
       "4        Tak               Blok        18 m²    Kawalerka             350 zł   \n",
       "\n",
       "  Firmowe  \n",
       "0     NaN  \n",
       "1     Tak  \n",
       "2     NaN  \n",
       "3     NaN  \n",
       "4     NaN  "
      ]
     },
     "execution_count": 74,
     "metadata": {},
     "output_type": "execute_result"
    }
   ],
   "source": [
    "df.head()"
   ]
  },
  {
   "cell_type": "code",
   "execution_count": 75,
   "id": "c32ff91e",
   "metadata": {},
   "outputs": [
    {
     "name": "stdout",
     "output_type": "stream",
     "text": [
      "<class 'pandas.core.frame.DataFrame'>\n",
      "RangeIndex: 614 entries, 0 to 613\n",
      "Data columns (total 12 columns):\n",
      " #   Column              Non-Null Count  Dtype \n",
      "---  ------              --------------  ----- \n",
      " 0   rent                614 non-null    object\n",
      " 1   publish-date        614 non-null    object\n",
      " 2   title               614 non-null    object\n",
      " 3   link                614 non-null    object\n",
      " 4   Prywatne            526 non-null    object\n",
      " 5   Poziom              591 non-null    object\n",
      " 6   Umeblowane          614 non-null    object\n",
      " 7   Rodzaj zabudowy     614 non-null    object\n",
      " 8   Powierzchnia        614 non-null    object\n",
      " 9   Liczba pokoi        614 non-null    object\n",
      " 10  Czynsz (dodatkowo)  614 non-null    object\n",
      " 11  Firmowe             88 non-null     object\n",
      "dtypes: object(12)\n",
      "memory usage: 57.7+ KB\n"
     ]
    }
   ],
   "source": [
    "df.info()"
   ]
  },
  {
   "cell_type": "code",
   "execution_count": 65,
   "id": "199e9617",
   "metadata": {},
   "outputs": [
    {
     "data": {
      "text/plain": [
       "(12,)"
      ]
     },
     "execution_count": 65,
     "metadata": {},
     "output_type": "execute_result"
    }
   ],
   "source": [
    "df.columns.shape"
   ]
  },
  {
   "cell_type": "code",
   "execution_count": 76,
   "id": "da4a4f5e",
   "metadata": {},
   "outputs": [
    {
     "data": {
      "text/plain": [
       "12"
      ]
     },
     "execution_count": 76,
     "metadata": {},
     "output_type": "execute_result"
    }
   ],
   "source": [
    "new_columns = [\"rent_price\", \"publish_date\", \"title\", \"link\", \"private\", \"level\", \n",
    "               \"furnished\", \"building_type\", \"surface\", \"rooms\", \"rent_extra\", \"brooker\"]\n",
    "len(new_columns)"
   ]
  },
  {
   "cell_type": "code",
   "execution_count": 77,
   "id": "374f3cc8",
   "metadata": {},
   "outputs": [],
   "source": [
    "df.columns = new_columns"
   ]
  },
  {
   "cell_type": "code",
   "execution_count": 78,
   "id": "8a908226",
   "metadata": {},
   "outputs": [
    {
     "data": {
      "text/plain": [
       "Index(['rent_price', 'publish_date', 'title', 'link', 'private', 'level',\n",
       "       'furnished', 'building_type', 'surface', 'rooms', 'rent_extra',\n",
       "       'brooker'],\n",
       "      dtype='object')"
      ]
     },
     "execution_count": 78,
     "metadata": {},
     "output_type": "execute_result"
    }
   ],
   "source": [
    "df.columns"
   ]
  },
  {
   "cell_type": "code",
   "execution_count": 79,
   "id": "a4c9740d",
   "metadata": {},
   "outputs": [
    {
     "data": {
      "text/html": [
       "<div>\n",
       "<style scoped>\n",
       "    .dataframe tbody tr th:only-of-type {\n",
       "        vertical-align: middle;\n",
       "    }\n",
       "\n",
       "    .dataframe tbody tr th {\n",
       "        vertical-align: top;\n",
       "    }\n",
       "\n",
       "    .dataframe thead th {\n",
       "        text-align: right;\n",
       "    }\n",
       "</style>\n",
       "<table border=\"1\" class=\"dataframe\">\n",
       "  <thead>\n",
       "    <tr style=\"text-align: right;\">\n",
       "      <th></th>\n",
       "      <th>rent_price</th>\n",
       "      <th>publish_date</th>\n",
       "      <th>title</th>\n",
       "      <th>link</th>\n",
       "      <th>private</th>\n",
       "      <th>level</th>\n",
       "      <th>furnished</th>\n",
       "      <th>building_type</th>\n",
       "      <th>surface</th>\n",
       "      <th>rooms</th>\n",
       "      <th>rent_extra</th>\n",
       "      <th>brooker</th>\n",
       "    </tr>\n",
       "  </thead>\n",
       "  <tbody>\n",
       "    <tr>\n",
       "      <th>0</th>\n",
       "      <td>3 600 zł</td>\n",
       "      <td>24 października 2022</td>\n",
       "      <td>Wynajmę mieszkanie dla 3 studentek</td>\n",
       "      <td>https://www.olx.pl/d/oferta/wynajme-mieszkanie...</td>\n",
       "      <td>Tak</td>\n",
       "      <td>1</td>\n",
       "      <td>Tak</td>\n",
       "      <td>Dom wolnostojący</td>\n",
       "      <td>44 m²</td>\n",
       "      <td>3 pokoje</td>\n",
       "      <td>1 zł</td>\n",
       "      <td>NaN</td>\n",
       "    </tr>\n",
       "    <tr>\n",
       "      <th>1</th>\n",
       "      <td>2 100 zł</td>\n",
       "      <td>21 października 2022</td>\n",
       "      <td>NOWA CENA! Mieszkanie w Nowym Porcie (50m2). O...</td>\n",
       "      <td>https://www.olx.pl/d/oferta/nowa-cena-mieszkan...</td>\n",
       "      <td>NaN</td>\n",
       "      <td>2</td>\n",
       "      <td>Tak</td>\n",
       "      <td>Blok</td>\n",
       "      <td>50 m²</td>\n",
       "      <td>2 pokoje</td>\n",
       "      <td>800 zł</td>\n",
       "      <td>Tak</td>\n",
       "    </tr>\n",
       "    <tr>\n",
       "      <th>2</th>\n",
       "      <td>2 600 zł\\n do negocjacji</td>\n",
       "      <td>21 października 2022</td>\n",
       "      <td>Mieszkanie 52m2 Gdańsk Przymorze, długoterminowo</td>\n",
       "      <td>https://www.olx.pl/d/oferta/mieszkanie-52m2-gd...</td>\n",
       "      <td>Tak</td>\n",
       "      <td>2</td>\n",
       "      <td>Tak</td>\n",
       "      <td>Blok</td>\n",
       "      <td>54 m²</td>\n",
       "      <td>3 pokoje</td>\n",
       "      <td>550 zł</td>\n",
       "      <td>NaN</td>\n",
       "    </tr>\n",
       "    <tr>\n",
       "      <th>3</th>\n",
       "      <td>2 500 zł\\n do negocjacji</td>\n",
       "      <td>26 października 2022</td>\n",
       "      <td>Mieszkanie do wynajęcia</td>\n",
       "      <td>https://www.olx.pl/d/oferta/mieszkanie-do-wyna...</td>\n",
       "      <td>Tak</td>\n",
       "      <td>1</td>\n",
       "      <td>Tak</td>\n",
       "      <td>Kamienica</td>\n",
       "      <td>37 m²</td>\n",
       "      <td>2 pokoje</td>\n",
       "      <td>300 zł</td>\n",
       "      <td>NaN</td>\n",
       "    </tr>\n",
       "    <tr>\n",
       "      <th>4</th>\n",
       "      <td>1 400 zł</td>\n",
       "      <td>20 października 2022</td>\n",
       "      <td>Wynajmę kawalerkę w centrum Gdańska</td>\n",
       "      <td>https://www.olx.pl/d/oferta/wynajme-kawalerke-...</td>\n",
       "      <td>Tak</td>\n",
       "      <td>4</td>\n",
       "      <td>Tak</td>\n",
       "      <td>Blok</td>\n",
       "      <td>18 m²</td>\n",
       "      <td>Kawalerka</td>\n",
       "      <td>350 zł</td>\n",
       "      <td>NaN</td>\n",
       "    </tr>\n",
       "  </tbody>\n",
       "</table>\n",
       "</div>"
      ],
      "text/plain": [
       "                 rent_price           publish_date   \n",
       "0                  3 600 zł   24 października 2022  \\\n",
       "1                  2 100 zł   21 października 2022   \n",
       "2  2 600 zł\\n do negocjacji   21 października 2022   \n",
       "3  2 500 zł\\n do negocjacji   26 października 2022   \n",
       "4                  1 400 zł   20 października 2022   \n",
       "\n",
       "                                               title   \n",
       "0                 Wynajmę mieszkanie dla 3 studentek  \\\n",
       "1  NOWA CENA! Mieszkanie w Nowym Porcie (50m2). O...   \n",
       "2   Mieszkanie 52m2 Gdańsk Przymorze, długoterminowo   \n",
       "3                            Mieszkanie do wynajęcia   \n",
       "4                Wynajmę kawalerkę w centrum Gdańska   \n",
       "\n",
       "                                                link private level furnished   \n",
       "0  https://www.olx.pl/d/oferta/wynajme-mieszkanie...     Tak     1       Tak  \\\n",
       "1  https://www.olx.pl/d/oferta/nowa-cena-mieszkan...     NaN     2       Tak   \n",
       "2  https://www.olx.pl/d/oferta/mieszkanie-52m2-gd...     Tak     2       Tak   \n",
       "3  https://www.olx.pl/d/oferta/mieszkanie-do-wyna...     Tak     1       Tak   \n",
       "4  https://www.olx.pl/d/oferta/wynajme-kawalerke-...     Tak     4       Tak   \n",
       "\n",
       "       building_type surface       rooms rent_extra brooker  \n",
       "0   Dom wolnostojący   44 m²    3 pokoje       1 zł     NaN  \n",
       "1               Blok   50 m²    2 pokoje     800 zł     Tak  \n",
       "2               Blok   54 m²    3 pokoje     550 zł     NaN  \n",
       "3          Kamienica   37 m²    2 pokoje     300 zł     NaN  \n",
       "4               Blok   18 m²   Kawalerka     350 zł     NaN  "
      ]
     },
     "execution_count": 79,
     "metadata": {},
     "output_type": "execute_result"
    }
   ],
   "source": [
    "df.head()"
   ]
  },
  {
   "cell_type": "markdown",
   "id": "b5aa76fc",
   "metadata": {},
   "source": [
    "### handling ren_extra"
   ]
  },
  {
   "cell_type": "code",
   "execution_count": 80,
   "id": "315f03f1",
   "metadata": {},
   "outputs": [],
   "source": [
    "df[\"rent_extra\"] = df[\"rent_extra\"].str.replace(\"zł\", \"\").str.replace(\",\",\"\").str.strip().str.replace(\" \",\"\").astype(int)"
   ]
  },
  {
   "cell_type": "code",
   "execution_count": 81,
   "id": "890e2350",
   "metadata": {},
   "outputs": [],
   "source": [
    "df[\"rent_price\"] = df[\"rent_price\"].str.replace(\"zł\", \"\").str.replace(\",\",\"\").str.strip().str.replace(\" \",\"\").str.replace(\"\\ndonegocjacji\", \"\").astype(int)"
   ]
  },
  {
   "cell_type": "code",
   "execution_count": 82,
   "id": "4a4f651a",
   "metadata": {},
   "outputs": [
    {
     "data": {
      "text/plain": [
       "array([' 3 pokoje', ' 2 pokoje', ' Kawalerka', ' 4 i więcej'],\n",
       "      dtype=object)"
      ]
     },
     "execution_count": 82,
     "metadata": {},
     "output_type": "execute_result"
    }
   ],
   "source": [
    "df[\"rooms\"].unique()"
   ]
  },
  {
   "cell_type": "code",
   "execution_count": 83,
   "id": "b853124e",
   "metadata": {},
   "outputs": [],
   "source": [
    "rooms_dict = {\n",
    "    ' Kawalerka': 1, \n",
    "    ' 3 pokoje': 3, \n",
    "    ' 2 pokoje': 2, \n",
    "    ' 4 i więcej': 4,\n",
    "}\n",
    "\n",
    "df[\"rooms\"] = df[\"rooms\"].map(rooms_dict)"
   ]
  },
  {
   "cell_type": "code",
   "execution_count": 84,
   "id": "bf540c47",
   "metadata": {},
   "outputs": [
    {
     "data": {
      "text/plain": [
       "array([' 44 m²', ' 50 m²', ' 54 m²', ' 37 m²', ' 18 m²', ' 42 m²',\n",
       "       ' 40 m²', ' 33,36 m²', ' 30 m²', ' 38 m²', ' 35 m²', ' 22 m²',\n",
       "       ' 32 m²', ' 23 m²', ' 53 m²', ' 17 m²', ' 39 m²', ' 45 m²',\n",
       "       ' 55 m²', ' 29 m²', ' 25 m²', ' 34 m²', ' 64 m²', ' 20 m²',\n",
       "       ' 26,40 m²', ' 43 m²', ' 27 m²', ' 61 m²', ' 65 m²', ' 60 m²',\n",
       "       ' 56 m²', ' 41 m²', ' 46 m²', ' 24 m²', ' 36 m²', ' 63 m²',\n",
       "       ' 26 m²', ' 31 m²', ' 67 m²', ' 47 m²', ' 70 m²', ' 75 m²',\n",
       "       ' 48 m²', ' 52 m²', ' 25,50 m²', ' 33 m²', ' 15 m²', ' 45,60 m²',\n",
       "       ' 51 m²', ' 28 m²', ' 25,47 m²', ' 37,50 m²', ' 49 m²',\n",
       "       ' 40,25 m²', ' 69 m²', ' 46,20 m²', ' 85 m²', ' 57 m²', ' 79 m²',\n",
       "       ' 76 m²', ' 58 m²', ' 26,60 m²', ' 47,80 m²', ' 19 m²',\n",
       "       ' 34,30 m²', ' 50,50 m²', ' 44,58 m²', ' 40,50 m²', ' 71 m²',\n",
       "       ' 77 m²', ' 59,50 m²', ' 72 m²', ' 78 m²', ' 42,43 m²', ' 84 m²',\n",
       "       ' 170 m²', ' 48,20 m²', ' 62 m²', ' 36,60 m²', ' 30,50 m²',\n",
       "       ' 48,50 m²', ' 31,50 m²', ' 48,78 m²', ' 66,50 m²', ' 52,90 m²'],\n",
       "      dtype=object)"
      ]
     },
     "execution_count": 84,
     "metadata": {},
     "output_type": "execute_result"
    }
   ],
   "source": [
    "df.surface.unique()"
   ]
  },
  {
   "cell_type": "code",
   "execution_count": 85,
   "id": "aaefb3bf",
   "metadata": {},
   "outputs": [],
   "source": [
    "just_space = lambda x:str(x[1:-3])"
   ]
  },
  {
   "cell_type": "code",
   "execution_count": 86,
   "id": "aaef1ed2",
   "metadata": {},
   "outputs": [],
   "source": [
    "df[\"surface\"] = df[\"surface\"].apply(just_space)"
   ]
  },
  {
   "cell_type": "code",
   "execution_count": 87,
   "id": "563779c2",
   "metadata": {},
   "outputs": [],
   "source": [
    "df[\"surface\"] = pd.to_numeric(df[\"surface\"].str.replace(\",\",\".\"))"
   ]
  },
  {
   "cell_type": "code",
   "execution_count": 88,
   "id": "81036483",
   "metadata": {},
   "outputs": [
    {
     "data": {
      "text/plain": [
       "array([' 1', ' 2', ' 4', ' 3', ' Parter', ' 5', ' 8', nan, ' 6', ' 7',\n",
       "       ' 10', ' Powyżej 10', ' 9'], dtype=object)"
      ]
     },
     "execution_count": 88,
     "metadata": {},
     "output_type": "execute_result"
    }
   ],
   "source": [
    "df[\"level\"].unique()"
   ]
  },
  {
   "cell_type": "code",
   "execution_count": 89,
   "id": "3a3aad32",
   "metadata": {},
   "outputs": [
    {
     "data": {
      "text/html": [
       "<div>\n",
       "<style scoped>\n",
       "    .dataframe tbody tr th:only-of-type {\n",
       "        vertical-align: middle;\n",
       "    }\n",
       "\n",
       "    .dataframe tbody tr th {\n",
       "        vertical-align: top;\n",
       "    }\n",
       "\n",
       "    .dataframe thead th {\n",
       "        text-align: right;\n",
       "    }\n",
       "</style>\n",
       "<table border=\"1\" class=\"dataframe\">\n",
       "  <thead>\n",
       "    <tr style=\"text-align: right;\">\n",
       "      <th></th>\n",
       "      <th>rent_price</th>\n",
       "      <th>publish_date</th>\n",
       "      <th>title</th>\n",
       "      <th>link</th>\n",
       "      <th>private</th>\n",
       "      <th>level</th>\n",
       "      <th>furnished</th>\n",
       "      <th>building_type</th>\n",
       "      <th>surface</th>\n",
       "      <th>rooms</th>\n",
       "      <th>rent_extra</th>\n",
       "      <th>brooker</th>\n",
       "    </tr>\n",
       "  </thead>\n",
       "  <tbody>\n",
       "    <tr>\n",
       "      <th>0</th>\n",
       "      <td>3600</td>\n",
       "      <td>24 października 2022</td>\n",
       "      <td>Wynajmę mieszkanie dla 3 studentek</td>\n",
       "      <td>https://www.olx.pl/d/oferta/wynajme-mieszkanie...</td>\n",
       "      <td>Tak</td>\n",
       "      <td>1</td>\n",
       "      <td>Tak</td>\n",
       "      <td>Dom wolnostojący</td>\n",
       "      <td>44.0</td>\n",
       "      <td>3</td>\n",
       "      <td>1</td>\n",
       "      <td>NaN</td>\n",
       "    </tr>\n",
       "    <tr>\n",
       "      <th>1</th>\n",
       "      <td>2100</td>\n",
       "      <td>21 października 2022</td>\n",
       "      <td>NOWA CENA! Mieszkanie w Nowym Porcie (50m2). O...</td>\n",
       "      <td>https://www.olx.pl/d/oferta/nowa-cena-mieszkan...</td>\n",
       "      <td>NaN</td>\n",
       "      <td>2</td>\n",
       "      <td>Tak</td>\n",
       "      <td>Blok</td>\n",
       "      <td>50.0</td>\n",
       "      <td>2</td>\n",
       "      <td>800</td>\n",
       "      <td>Tak</td>\n",
       "    </tr>\n",
       "    <tr>\n",
       "      <th>2</th>\n",
       "      <td>2600</td>\n",
       "      <td>21 października 2022</td>\n",
       "      <td>Mieszkanie 52m2 Gdańsk Przymorze, długoterminowo</td>\n",
       "      <td>https://www.olx.pl/d/oferta/mieszkanie-52m2-gd...</td>\n",
       "      <td>Tak</td>\n",
       "      <td>2</td>\n",
       "      <td>Tak</td>\n",
       "      <td>Blok</td>\n",
       "      <td>54.0</td>\n",
       "      <td>3</td>\n",
       "      <td>550</td>\n",
       "      <td>NaN</td>\n",
       "    </tr>\n",
       "    <tr>\n",
       "      <th>3</th>\n",
       "      <td>2500</td>\n",
       "      <td>26 października 2022</td>\n",
       "      <td>Mieszkanie do wynajęcia</td>\n",
       "      <td>https://www.olx.pl/d/oferta/mieszkanie-do-wyna...</td>\n",
       "      <td>Tak</td>\n",
       "      <td>1</td>\n",
       "      <td>Tak</td>\n",
       "      <td>Kamienica</td>\n",
       "      <td>37.0</td>\n",
       "      <td>2</td>\n",
       "      <td>300</td>\n",
       "      <td>NaN</td>\n",
       "    </tr>\n",
       "    <tr>\n",
       "      <th>4</th>\n",
       "      <td>1400</td>\n",
       "      <td>20 października 2022</td>\n",
       "      <td>Wynajmę kawalerkę w centrum Gdańska</td>\n",
       "      <td>https://www.olx.pl/d/oferta/wynajme-kawalerke-...</td>\n",
       "      <td>Tak</td>\n",
       "      <td>4</td>\n",
       "      <td>Tak</td>\n",
       "      <td>Blok</td>\n",
       "      <td>18.0</td>\n",
       "      <td>1</td>\n",
       "      <td>350</td>\n",
       "      <td>NaN</td>\n",
       "    </tr>\n",
       "  </tbody>\n",
       "</table>\n",
       "</div>"
      ],
      "text/plain": [
       "   rent_price           publish_date   \n",
       "0        3600   24 października 2022  \\\n",
       "1        2100   21 października 2022   \n",
       "2        2600   21 października 2022   \n",
       "3        2500   26 października 2022   \n",
       "4        1400   20 października 2022   \n",
       "\n",
       "                                               title   \n",
       "0                 Wynajmę mieszkanie dla 3 studentek  \\\n",
       "1  NOWA CENA! Mieszkanie w Nowym Porcie (50m2). O...   \n",
       "2   Mieszkanie 52m2 Gdańsk Przymorze, długoterminowo   \n",
       "3                            Mieszkanie do wynajęcia   \n",
       "4                Wynajmę kawalerkę w centrum Gdańska   \n",
       "\n",
       "                                                link private level furnished   \n",
       "0  https://www.olx.pl/d/oferta/wynajme-mieszkanie...     Tak     1       Tak  \\\n",
       "1  https://www.olx.pl/d/oferta/nowa-cena-mieszkan...     NaN     2       Tak   \n",
       "2  https://www.olx.pl/d/oferta/mieszkanie-52m2-gd...     Tak     2       Tak   \n",
       "3  https://www.olx.pl/d/oferta/mieszkanie-do-wyna...     Tak     1       Tak   \n",
       "4  https://www.olx.pl/d/oferta/wynajme-kawalerke-...     Tak     4       Tak   \n",
       "\n",
       "       building_type  surface  rooms  rent_extra brooker  \n",
       "0   Dom wolnostojący     44.0      3           1     NaN  \n",
       "1               Blok     50.0      2         800     Tak  \n",
       "2               Blok     54.0      3         550     NaN  \n",
       "3          Kamienica     37.0      2         300     NaN  \n",
       "4               Blok     18.0      1         350     NaN  "
      ]
     },
     "execution_count": 89,
     "metadata": {},
     "output_type": "execute_result"
    }
   ],
   "source": [
    "df.head()"
   ]
  },
  {
   "cell_type": "code",
   "execution_count": 90,
   "id": "5449c759",
   "metadata": {},
   "outputs": [],
   "source": [
    "df[\"private\"].fillna(\"Nie\", inplace=True)"
   ]
  },
  {
   "cell_type": "code",
   "execution_count": 91,
   "id": "28368961",
   "metadata": {},
   "outputs": [],
   "source": [
    "private_dict = {\n",
    "    \"Tak\": True,\n",
    "    \"Nie\": False\n",
    "}\n",
    "\n",
    "df[\"private\"] = df[\"private\"].map(private_dict)"
   ]
  },
  {
   "cell_type": "code",
   "execution_count": 92,
   "id": "a2f45729",
   "metadata": {},
   "outputs": [
    {
     "data": {
      "text/plain": [
       "array([ True, False])"
      ]
     },
     "execution_count": 92,
     "metadata": {},
     "output_type": "execute_result"
    }
   ],
   "source": [
    "df.private.unique()"
   ]
  },
  {
   "cell_type": "code",
   "execution_count": 93,
   "id": "0e7db1b0",
   "metadata": {},
   "outputs": [
    {
     "data": {
      "text/plain": [
       "array([' Tak', ' Nie'], dtype=object)"
      ]
     },
     "execution_count": 93,
     "metadata": {},
     "output_type": "execute_result"
    }
   ],
   "source": [
    "df[\"furnished\"].unique()"
   ]
  },
  {
   "cell_type": "code",
   "execution_count": 94,
   "id": "0a6e038f",
   "metadata": {},
   "outputs": [
    {
     "data": {
      "text/plain": [
       "<Axes: xlabel='furnished', ylabel='Count'>"
      ]
     },
     "execution_count": 94,
     "metadata": {},
     "output_type": "execute_result"
    },
    {
     "data": {
      "image/png": "[encoded data removed]",
      "text/plain": [
       "<Figure size 640x480 with 1 Axes>"
      ]
     },
     "metadata": {},
     "output_type": "display_data"
    }
   ],
   "source": [
    "sns.histplot(df[\"furnished\"])"
   ]
  },
  {
   "cell_type": "code",
   "execution_count": 95,
   "id": "86e7c54b",
   "metadata": {},
   "outputs": [
    {
     "data": {
      "text/plain": [
       "array([' Dom wolnostojący', ' Blok', ' Kamienica', ' Apartamentowiec',\n",
       "       ' Szeregowiec', ' Pozostałe', ' Loft'], dtype=object)"
      ]
     },
     "execution_count": 95,
     "metadata": {},
     "output_type": "execute_result"
    }
   ],
   "source": [
    "df.building_type.unique()"
   ]
  },
  {
   "cell_type": "code",
   "execution_count": 96,
   "id": "775808ff",
   "metadata": {},
   "outputs": [
    {
     "data": {
      "text/plain": [
       "<Axes: xlabel='building_type', ylabel='Count'>"
      ]
     },
     "execution_count": 96,
     "metadata": {},
     "output_type": "execute_result"
    },
    {
     "data": {
      "image/png": "[encoded data removed]",
      "text/plain": [
       "<Figure size 640x480 with 1 Axes>"
      ]
     },
     "metadata": {},
     "output_type": "display_data"
    }
   ],
   "source": [
    "sns.histplot(df[\"building_type\"])"
   ]
  },
  {
   "cell_type": "code",
   "execution_count": 98,
   "id": "320987eb",
   "metadata": {},
   "outputs": [],
   "source": [
    "building_type_dict = {' Blok': 1, ' Kamienica': 2, ' Apartamentowiec' : 3, \n",
    "                      ' Dom wolnostojący': 4, ' Szeregowiec': 4, ' Pozostałe': 4, \"Loft\": 4}"
   ]
  },
  {
   "cell_type": "code",
   "execution_count": 99,
   "id": "0d069b3a",
   "metadata": {},
   "outputs": [],
   "source": [
    "df[\"building_type\"] = df[\"building_type\"].map(building_type_dict)"
   ]
  },
  {
   "cell_type": "code",
   "execution_count": 100,
   "id": "951a1e27",
   "metadata": {},
   "outputs": [
    {
     "data": {
      "text/plain": [
       "array([' 24 października 2022', ' 21 października 2022',\n",
       "       ' 26 października 2022', ' 20 października 2022',\n",
       "       ' 18 października 2022', ' 22 października 2022',\n",
       "       ' 16 października 2022', ' 25 października 2022',\n",
       "       ' dzisiaj o 09:24', ' 23 października 2022',\n",
       "       ' 06 października 2022', ' 17 października 2022',\n",
       "       ' 29 września 2022', ' 10 października 2022',\n",
       "       ' 07 października 2022', ' 15 października 2022',\n",
       "       ' 12 października 2022', ' 19 października 2022',\n",
       "       ' 11 października 2022', ' 05 października 2022',\n",
       "       ' 14 października 2022', ' dzisiaj o 04:51',\n",
       "       ' 04 października 2022', ' 30 września 2022', ' dzisiaj o 10:35',\n",
       "       ' dzisiaj o 09:44', ' 09 października 2022', ' 28 września 2022',\n",
       "       ' 27 września 2022', ' 01 października 2022',\n",
       "       ' 03 października 2022', ' 13 października 2022',\n",
       "       ' dzisiaj o 10:36', ' 08 października 2022',\n",
       "       ' 02 października 2022', ' dzisiaj o 11:56', ' dzisiaj o 12:38',\n",
       "       ' dzisiaj o 13:20', ' dzisiaj o 12:13', ' dzisiaj o 14:32',\n",
       "       ' dzisiaj o 10:12', ' dzisiaj o 06:11', ' dzisiaj o 14:57',\n",
       "       ' dzisiaj o 15:40', ' dzisiaj o 15:12', ' dzisiaj o 14:21',\n",
       "       ' dzisiaj o 16:16'], dtype=object)"
      ]
     },
     "execution_count": 100,
     "metadata": {},
     "output_type": "execute_result"
    }
   ],
   "source": [
    "df[\"publish_date\"].unique()"
   ]
  },
  {
   "cell_type": "code",
   "execution_count": 101,
   "id": "97de17bf",
   "metadata": {},
   "outputs": [
    {
     "data": {
      "text/html": [
       "<div>\n",
       "<style scoped>\n",
       "    .dataframe tbody tr th:only-of-type {\n",
       "        vertical-align: middle;\n",
       "    }\n",
       "\n",
       "    .dataframe tbody tr th {\n",
       "        vertical-align: top;\n",
       "    }\n",
       "\n",
       "    .dataframe thead th {\n",
       "        text-align: right;\n",
       "    }\n",
       "</style>\n",
       "<table border=\"1\" class=\"dataframe\">\n",
       "  <thead>\n",
       "    <tr style=\"text-align: right;\">\n",
       "      <th></th>\n",
       "      <th>rent_price</th>\n",
       "      <th>publish_date</th>\n",
       "      <th>title</th>\n",
       "      <th>link</th>\n",
       "      <th>private</th>\n",
       "      <th>level</th>\n",
       "      <th>furnished</th>\n",
       "      <th>building_type</th>\n",
       "      <th>surface</th>\n",
       "      <th>rooms</th>\n",
       "      <th>rent_extra</th>\n",
       "      <th>brooker</th>\n",
       "    </tr>\n",
       "  </thead>\n",
       "  <tbody>\n",
       "    <tr>\n",
       "      <th>0</th>\n",
       "      <td>3600</td>\n",
       "      <td>24 października 2022</td>\n",
       "      <td>Wynajmę mieszkanie dla 3 studentek</td>\n",
       "      <td>https://www.olx.pl/d/oferta/wynajme-mieszkanie...</td>\n",
       "      <td>True</td>\n",
       "      <td>1</td>\n",
       "      <td>Tak</td>\n",
       "      <td>4.0</td>\n",
       "      <td>44.0</td>\n",
       "      <td>3</td>\n",
       "      <td>1</td>\n",
       "      <td>NaN</td>\n",
       "    </tr>\n",
       "    <tr>\n",
       "      <th>1</th>\n",
       "      <td>2100</td>\n",
       "      <td>21 października 2022</td>\n",
       "      <td>NOWA CENA! Mieszkanie w Nowym Porcie (50m2). O...</td>\n",
       "      <td>https://www.olx.pl/d/oferta/nowa-cena-mieszkan...</td>\n",
       "      <td>False</td>\n",
       "      <td>2</td>\n",
       "      <td>Tak</td>\n",
       "      <td>1.0</td>\n",
       "      <td>50.0</td>\n",
       "      <td>2</td>\n",
       "      <td>800</td>\n",
       "      <td>Tak</td>\n",
       "    </tr>\n",
       "    <tr>\n",
       "      <th>2</th>\n",
       "      <td>2600</td>\n",
       "      <td>21 października 2022</td>\n",
       "      <td>Mieszkanie 52m2 Gdańsk Przymorze, długoterminowo</td>\n",
       "      <td>https://www.olx.pl/d/oferta/mieszkanie-52m2-gd...</td>\n",
       "      <td>True</td>\n",
       "      <td>2</td>\n",
       "      <td>Tak</td>\n",
       "      <td>1.0</td>\n",
       "      <td>54.0</td>\n",
       "      <td>3</td>\n",
       "      <td>550</td>\n",
       "      <td>NaN</td>\n",
       "    </tr>\n",
       "    <tr>\n",
       "      <th>3</th>\n",
       "      <td>2500</td>\n",
       "      <td>26 października 2022</td>\n",
       "      <td>Mieszkanie do wynajęcia</td>\n",
       "      <td>https://www.olx.pl/d/oferta/mieszkanie-do-wyna...</td>\n",
       "      <td>True</td>\n",
       "      <td>1</td>\n",
       "      <td>Tak</td>\n",
       "      <td>2.0</td>\n",
       "      <td>37.0</td>\n",
       "      <td>2</td>\n",
       "      <td>300</td>\n",
       "      <td>NaN</td>\n",
       "    </tr>\n",
       "    <tr>\n",
       "      <th>4</th>\n",
       "      <td>1400</td>\n",
       "      <td>20 października 2022</td>\n",
       "      <td>Wynajmę kawalerkę w centrum Gdańska</td>\n",
       "      <td>https://www.olx.pl/d/oferta/wynajme-kawalerke-...</td>\n",
       "      <td>True</td>\n",
       "      <td>4</td>\n",
       "      <td>Tak</td>\n",
       "      <td>1.0</td>\n",
       "      <td>18.0</td>\n",
       "      <td>1</td>\n",
       "      <td>350</td>\n",
       "      <td>NaN</td>\n",
       "    </tr>\n",
       "  </tbody>\n",
       "</table>\n",
       "</div>"
      ],
      "text/plain": [
       "   rent_price           publish_date   \n",
       "0        3600   24 października 2022  \\\n",
       "1        2100   21 października 2022   \n",
       "2        2600   21 października 2022   \n",
       "3        2500   26 października 2022   \n",
       "4        1400   20 października 2022   \n",
       "\n",
       "                                               title   \n",
       "0                 Wynajmę mieszkanie dla 3 studentek  \\\n",
       "1  NOWA CENA! Mieszkanie w Nowym Porcie (50m2). O...   \n",
       "2   Mieszkanie 52m2 Gdańsk Przymorze, długoterminowo   \n",
       "3                            Mieszkanie do wynajęcia   \n",
       "4                Wynajmę kawalerkę w centrum Gdańska   \n",
       "\n",
       "                                                link  private level furnished   \n",
       "0  https://www.olx.pl/d/oferta/wynajme-mieszkanie...     True     1       Tak  \\\n",
       "1  https://www.olx.pl/d/oferta/nowa-cena-mieszkan...    False     2       Tak   \n",
       "2  https://www.olx.pl/d/oferta/mieszkanie-52m2-gd...     True     2       Tak   \n",
       "3  https://www.olx.pl/d/oferta/mieszkanie-do-wyna...     True     1       Tak   \n",
       "4  https://www.olx.pl/d/oferta/wynajme-kawalerke-...     True     4       Tak   \n",
       "\n",
       "   building_type  surface  rooms  rent_extra brooker  \n",
       "0            4.0     44.0      3           1     NaN  \n",
       "1            1.0     50.0      2         800     Tak  \n",
       "2            1.0     54.0      3         550     NaN  \n",
       "3            2.0     37.0      2         300     NaN  \n",
       "4            1.0     18.0      1         350     NaN  "
      ]
     },
     "execution_count": 101,
     "metadata": {},
     "output_type": "execute_result"
    }
   ],
   "source": [
    "df.head()"
   ]
  },
  {
   "cell_type": "code",
   "execution_count": 102,
   "id": "61678475",
   "metadata": {},
   "outputs": [
    {
     "data": {
      "text/plain": [
       "(614, 12)"
      ]
     },
     "execution_count": 102,
     "metadata": {},
     "output_type": "execute_result"
    }
   ],
   "source": [
    "df.shape"
   ]
  },
  {
   "cell_type": "code",
   "execution_count": 103,
   "id": "76b7a962",
   "metadata": {},
   "outputs": [],
   "source": [
    "df.drop_duplicates(subset=[\"link\"], keep='first', inplace=True, ignore_index=False)"
   ]
  },
  {
   "cell_type": "code",
   "execution_count": 104,
   "id": "211b8665",
   "metadata": {},
   "outputs": [
    {
     "data": {
      "text/plain": [
       "(422, 12)"
      ]
     },
     "execution_count": 104,
     "metadata": {},
     "output_type": "execute_result"
    }
   ],
   "source": [
    "df.shape"
   ]
  },
  {
   "cell_type": "markdown",
   "id": "8ca8a330",
   "metadata": {},
   "source": [
    "### Dealing with outliers"
   ]
  },
  {
   "cell_type": "code",
   "execution_count": null,
   "id": "68e3a3ab",
   "metadata": {},
   "outputs": [],
   "source": [
    "## Wyrzucić \n",
    "# 8 gdzie rent_price > \n",
    "\n"
   ]
  },
  {
   "cell_type": "code",
   "execution_count": 118,
   "id": "78d67524",
   "metadata": {},
   "outputs": [
    {
     "ename": "SyntaxError",
     "evalue": "cannot assign to function call here. Maybe you meant '==' instead of '='? (2268849662.py, line 1)",
     "output_type": "error",
     "traceback": [
      "\u001b[0;36m  Cell \u001b[0;32mIn[118], line 1\u001b[0;36m\u001b[0m\n\u001b[0;31m    df.where(df[\"rent_extra\"] > 1500) = 1\u001b[0m\n\u001b[0m    ^\u001b[0m\n\u001b[0;31mSyntaxError\u001b[0m\u001b[0;31m:\u001b[0m cannot assign to function call here. Maybe you meant '==' instead of '='?\n"
     ]
    }
   ],
   "source": [
    "df[\"rent_extra\"] = df.where(df[\"rent_extra\"] > 1500)"
   ]
  },
  {
   "cell_type": "code",
   "execution_count": null,
   "id": "6aa78b04",
   "metadata": {},
   "outputs": [],
   "source": [
    "df.count`"
   ]
  },
  {
   "cell_type": "code",
   "execution_count": 122,
   "id": "b01ac049",
   "metadata": {},
   "outputs": [
    {
     "ename": "TypeError",
     "evalue": "Cannot do inplace boolean setting on mixed-types with a non np.nan value",
     "output_type": "error",
     "traceback": [
      "\u001b[0;31m---------------------------------------------------------------------------\u001b[0m",
      "\u001b[0;31mTypeError\u001b[0m                                 Traceback (most recent call last)",
      "Cell \u001b[0;32mIn[122], line 1\u001b[0m\n\u001b[0;32m----> 1\u001b[0m \u001b[43mdf\u001b[49m\u001b[38;5;241;43m.\u001b[39;49m\u001b[43mwhere\u001b[49m\u001b[43m(\u001b[49m\u001b[43mcond\u001b[49m\u001b[38;5;241;43m=\u001b[39;49m\u001b[43m \u001b[49m\u001b[43m(\u001b[49m\u001b[43mdf\u001b[49m\u001b[43m[\u001b[49m\u001b[38;5;124;43m\"\u001b[39;49m\u001b[38;5;124;43mrent_extra\u001b[39;49m\u001b[38;5;124;43m\"\u001b[39;49m\u001b[43m]\u001b[49m\u001b[43m \u001b[49m\u001b[38;5;241;43m>\u001b[39;49m\u001b[43m \u001b[49m\u001b[38;5;241;43m1500\u001b[39;49m\u001b[43m)\u001b[49m\u001b[43m,\u001b[49m\u001b[43m \u001b[49m\u001b[43mother\u001b[49m\u001b[38;5;241;43m=\u001b[39;49m\u001b[38;5;241;43m1\u001b[39;49m\u001b[43m,\u001b[49m\u001b[43m \u001b[49m\u001b[43minplace\u001b[49m\u001b[38;5;241;43m=\u001b[39;49m\u001b[38;5;28;43;01mTrue\u001b[39;49;00m\u001b[43m,\u001b[49m\u001b[43m \u001b[49m\u001b[43maxis\u001b[49m\u001b[38;5;241;43m=\u001b[39;49m\u001b[38;5;28;43;01mNone\u001b[39;49;00m\u001b[43m,\u001b[49m\u001b[43m \u001b[49m\u001b[43mlevel\u001b[49m\u001b[38;5;241;43m=\u001b[39;49m\u001b[38;5;28;43;01mNone\u001b[39;49;00m\u001b[43m)\u001b[49m\n",
      "File \u001b[0;32m~/Documents/Code/data-science-bootcamp/final-venv/lib/python3.10/site-packages/pandas/core/frame.py:11527\u001b[0m, in \u001b[0;36mDataFrame.where\u001b[0;34m(self, cond, other, inplace, axis, level)\u001b[0m\n\u001b[1;32m  11518\u001b[0m \u001b[38;5;28;01mdef\u001b[39;00m \u001b[38;5;21mwhere\u001b[39m(\n\u001b[1;32m  11519\u001b[0m     \u001b[38;5;28mself\u001b[39m,\n\u001b[1;32m  11520\u001b[0m     cond,\n\u001b[0;32m   (...)\u001b[0m\n\u001b[1;32m  11525\u001b[0m     level: Level \u001b[38;5;241m=\u001b[39m \u001b[38;5;28;01mNone\u001b[39;00m,\n\u001b[1;32m  11526\u001b[0m ) \u001b[38;5;241m-\u001b[39m\u001b[38;5;241m>\u001b[39m DataFrame \u001b[38;5;241m|\u001b[39m \u001b[38;5;28;01mNone\u001b[39;00m:\n\u001b[0;32m> 11527\u001b[0m     \u001b[38;5;28;01mreturn\u001b[39;00m \u001b[38;5;28;43msuper\u001b[39;49m\u001b[43m(\u001b[49m\u001b[43m)\u001b[49m\u001b[38;5;241;43m.\u001b[39;49m\u001b[43mwhere\u001b[49m\u001b[43m(\u001b[49m\n\u001b[1;32m  11528\u001b[0m \u001b[43m        \u001b[49m\u001b[43mcond\u001b[49m\u001b[43m,\u001b[49m\n\u001b[1;32m  11529\u001b[0m \u001b[43m        \u001b[49m\u001b[43mother\u001b[49m\u001b[43m,\u001b[49m\n\u001b[1;32m  11530\u001b[0m \u001b[43m        \u001b[49m\u001b[43minplace\u001b[49m\u001b[38;5;241;43m=\u001b[39;49m\u001b[43minplace\u001b[49m\u001b[43m,\u001b[49m\n\u001b[1;32m  11531\u001b[0m \u001b[43m        \u001b[49m\u001b[43maxis\u001b[49m\u001b[38;5;241;43m=\u001b[39;49m\u001b[43maxis\u001b[49m\u001b[43m,\u001b[49m\n\u001b[1;32m  11532\u001b[0m \u001b[43m        \u001b[49m\u001b[43mlevel\u001b[49m\u001b[38;5;241;43m=\u001b[39;49m\u001b[43mlevel\u001b[49m\u001b[43m,\u001b[49m\n\u001b[1;32m  11533\u001b[0m \u001b[43m    \u001b[49m\u001b[43m)\u001b[49m\n",
      "File \u001b[0;32m~/Documents/Code/data-science-bootcamp/final-venv/lib/python3.10/site-packages/pandas/core/generic.py:9940\u001b[0m, in \u001b[0;36mNDFrame.where\u001b[0;34m(self, cond, other, inplace, axis, level)\u001b[0m\n\u001b[1;32m   9802\u001b[0m \u001b[38;5;250m\u001b[39m\u001b[38;5;124;03m\"\"\"\u001b[39;00m\n\u001b[1;32m   9803\u001b[0m \u001b[38;5;124;03mReplace values where the condition is {cond_rev}.\u001b[39;00m\n\u001b[1;32m   9804\u001b[0m \n\u001b[0;32m   (...)\u001b[0m\n\u001b[1;32m   9937\u001b[0m \u001b[38;5;124;03m4  True  True\u001b[39;00m\n\u001b[1;32m   9938\u001b[0m \u001b[38;5;124;03m\"\"\"\u001b[39;00m\n\u001b[1;32m   9939\u001b[0m other \u001b[38;5;241m=\u001b[39m common\u001b[38;5;241m.\u001b[39mapply_if_callable(other, \u001b[38;5;28mself\u001b[39m)\n\u001b[0;32m-> 9940\u001b[0m \u001b[38;5;28;01mreturn\u001b[39;00m \u001b[38;5;28;43mself\u001b[39;49m\u001b[38;5;241;43m.\u001b[39;49m\u001b[43m_where\u001b[49m\u001b[43m(\u001b[49m\u001b[43mcond\u001b[49m\u001b[43m,\u001b[49m\u001b[43m \u001b[49m\u001b[43mother\u001b[49m\u001b[43m,\u001b[49m\u001b[43m \u001b[49m\u001b[43minplace\u001b[49m\u001b[43m,\u001b[49m\u001b[43m \u001b[49m\u001b[43maxis\u001b[49m\u001b[43m,\u001b[49m\u001b[43m \u001b[49m\u001b[43mlevel\u001b[49m\u001b[43m)\u001b[49m\n",
      "File \u001b[0;32m~/Documents/Code/data-science-bootcamp/final-venv/lib/python3.10/site-packages/pandas/core/generic.py:9736\u001b[0m, in \u001b[0;36mNDFrame._where\u001b[0;34m(self, cond, other, inplace, axis, level)\u001b[0m\n\u001b[1;32m   9730\u001b[0m     align \u001b[38;5;241m=\u001b[39m \u001b[38;5;28mself\u001b[39m\u001b[38;5;241m.\u001b[39m_get_axis_number(axis) \u001b[38;5;241m==\u001b[39m \u001b[38;5;241m1\u001b[39m\n\u001b[1;32m   9732\u001b[0m \u001b[38;5;28;01mif\u001b[39;00m inplace:\n\u001b[1;32m   9733\u001b[0m     \u001b[38;5;66;03m# we may have different type blocks come out of putmask, so\u001b[39;00m\n\u001b[1;32m   9734\u001b[0m     \u001b[38;5;66;03m# reconstruct the block manager\u001b[39;00m\n\u001b[0;32m-> 9736\u001b[0m     \u001b[38;5;28;43mself\u001b[39;49m\u001b[38;5;241;43m.\u001b[39;49m\u001b[43m_check_inplace_setting\u001b[49m\u001b[43m(\u001b[49m\u001b[43mother\u001b[49m\u001b[43m)\u001b[49m\n\u001b[1;32m   9737\u001b[0m     new_data \u001b[38;5;241m=\u001b[39m \u001b[38;5;28mself\u001b[39m\u001b[38;5;241m.\u001b[39m_mgr\u001b[38;5;241m.\u001b[39mputmask(mask\u001b[38;5;241m=\u001b[39mcond, new\u001b[38;5;241m=\u001b[39mother, align\u001b[38;5;241m=\u001b[39malign)\n\u001b[1;32m   9738\u001b[0m     result \u001b[38;5;241m=\u001b[39m \u001b[38;5;28mself\u001b[39m\u001b[38;5;241m.\u001b[39m_constructor(new_data)\n",
      "File \u001b[0;32m~/Documents/Code/data-science-bootcamp/final-venv/lib/python3.10/site-packages/pandas/core/generic.py:6103\u001b[0m, in \u001b[0;36mNDFrame._check_inplace_setting\u001b[0;34m(self, value)\u001b[0m\n\u001b[1;32m   6100\u001b[0m     \u001b[38;5;28;01mif\u001b[39;00m is_float(value) \u001b[38;5;129;01mand\u001b[39;00m np\u001b[38;5;241m.\u001b[39misnan(value) \u001b[38;5;129;01mor\u001b[39;00m value \u001b[38;5;129;01mis\u001b[39;00m lib\u001b[38;5;241m.\u001b[39mno_default:\n\u001b[1;32m   6101\u001b[0m         \u001b[38;5;28;01mreturn\u001b[39;00m \u001b[38;5;28;01mTrue\u001b[39;00m\n\u001b[0;32m-> 6103\u001b[0m     \u001b[38;5;28;01mraise\u001b[39;00m \u001b[38;5;167;01mTypeError\u001b[39;00m(\n\u001b[1;32m   6104\u001b[0m         \u001b[38;5;124m\"\u001b[39m\u001b[38;5;124mCannot do inplace boolean setting on \u001b[39m\u001b[38;5;124m\"\u001b[39m\n\u001b[1;32m   6105\u001b[0m         \u001b[38;5;124m\"\u001b[39m\u001b[38;5;124mmixed-types with a non np.nan value\u001b[39m\u001b[38;5;124m\"\u001b[39m\n\u001b[1;32m   6106\u001b[0m     )\n\u001b[1;32m   6108\u001b[0m \u001b[38;5;28;01mreturn\u001b[39;00m \u001b[38;5;28;01mTrue\u001b[39;00m\n",
      "\u001b[0;31mTypeError\u001b[0m: Cannot do inplace boolean setting on mixed-types with a non np.nan value"
     ]
    }
   ],
   "source": [
    "df.where(cond= (df[\"rent_extra\"] > 1500), other=1, inplace=True, axis=None, level=None)"
   ]
  },
  {
   "cell_type": "code",
   "execution_count": null,
   "id": "1bbcd5d5",
   "metadata": {},
   "outputs": [],
   "source": []
  }
 ],
 "metadata": {
  "kernelspec": {
   "display_name": "Python 3 (ipykernel)",
   "language": "python",
   "name": "python3"
  },
  "language_info": {
   "codemirror_mode": {
    "name": "ipython",
    "version": 3
   },
   "file_extension": ".py",
   "mimetype": "text/x-python",
   "name": "python",
   "nbconvert_exporter": "python",
   "pygments_lexer": "ipython3",
   "version": "3.10.10"
  }
 },
 "nbformat": 4,
 "nbformat_minor": 5
}
