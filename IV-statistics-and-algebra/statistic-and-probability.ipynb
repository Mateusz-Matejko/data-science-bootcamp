{
 "cells": [
  {
   "cell_type": "markdown",
   "id": "0a5af51f",
   "metadata": {},
   "source": [
    "### Statistics"
   ]
  },
  {
   "cell_type": "code",
   "execution_count": 1,
   "id": "dba3ad29",
   "metadata": {},
   "outputs": [],
   "source": [
    "Watch scipy.stats library cuz it contatins many probability distribution\n",
    "- Berlouniego ( Poissona ) \n",
    "- Wielomianowy ( Dwumianowy, Binomial)\n",
    "- Normalny ( Gaussa )\n",
    "- t-Studenta\n",
    "\n",
    "Pojęcia: \n",
    "    - Mediana\n",
    "    - Średnia\n",
    "    - Odchylenie standardowe i wariancja\n",
    "    - Korelacja\n",
    "    - Kowariancja\n",
    "    - Oczekiwana średnia / szanse na wygraną * możliwa wygrana. "
   ]
  },
  {
   "cell_type": "markdown",
   "id": "cd20bfc5",
   "metadata": {},
   "source": [
    "Statystyki opisowe! Konieczne jest zapoznanie się porządne z tematem."
   ]
  },
  {
   "cell_type": "code",
   "execution_count": 1,
   "id": "36e75cbb",
   "metadata": {},
   "outputs": [],
   "source": [
    "import numpy as np\n",
    "import scipy as sc"
   ]
  },
  {
   "cell_type": "code",
   "execution_count": 6,
   "id": "5176b6be",
   "metadata": {},
   "outputs": [],
   "source": [
    "sample_matrix = np.array([\n",
    "    [1, 15, 4, 10],\n",
    "    [13, 15, 19, -10],\n",
    "    [13, 155, 11, 15],\n",
    "    [16, 16, 61, 16],\n",
    "    ])"
   ]
  },
  {
   "cell_type": "code",
   "execution_count": 8,
   "id": "11025181",
   "metadata": {},
   "outputs": [
    {
     "data": {
      "text/plain": [
       "array([[  1,  15,   4,  10],\n",
       "       [ 13,  15,  19, -10],\n",
       "       [ 13, 155,  11,  15],\n",
       "       [ 16,  16,  61,  16]])"
      ]
     },
     "execution_count": 8,
     "metadata": {},
     "output_type": "execute_result"
    }
   ],
   "source": [
    "sample_matrix"
   ]
  },
  {
   "cell_type": "code",
   "execution_count": 13,
   "id": "a232b3aa",
   "metadata": {},
   "outputs": [
    {
     "data": {
      "text/plain": [
       "23.125"
      ]
     },
     "execution_count": 13,
     "metadata": {},
     "output_type": "execute_result"
    }
   ],
   "source": [
    "#średnia\n",
    "np.mean(sample_matrix)"
   ]
  },
  {
   "cell_type": "code",
   "execution_count": 15,
   "id": "5d4147de",
   "metadata": {},
   "outputs": [
    {
     "data": {
      "text/plain": [
       "15.0"
      ]
     },
     "execution_count": 15,
     "metadata": {},
     "output_type": "execute_result"
    }
   ],
   "source": [
    "#mediana\n",
    "np.median(sample_matrix)"
   ]
  },
  {
   "cell_type": "code",
   "execution_count": 16,
   "id": "39add326",
   "metadata": {},
   "outputs": [],
   "source": [
    "sample_matrix = np.array([[  1,  15,   4,  10],\n",
    "       [ 13,  15,  19, -10],\n",
    "       [ 13, 155,  11,  15],\n",
    "       [ 16,  16,  61,  16]])"
   ]
  },
  {
   "cell_type": "code",
   "execution_count": 17,
   "id": "cce9e215",
   "metadata": {},
   "outputs": [
    {
     "data": {
      "text/plain": [
       "36.801621907193166"
      ]
     },
     "execution_count": 17,
     "metadata": {},
     "output_type": "execute_result"
    }
   ],
   "source": [
    "np.std(sample_matrix)"
   ]
  },
  {
   "cell_type": "code",
   "execution_count": 20,
   "id": "33d2c34f",
   "metadata": {},
   "outputs": [
    {
     "name": "stdout",
     "output_type": "stream",
     "text": [
      "[ 1 15  4 10]\n",
      "[ 13  15  19 -10]\n",
      "[ 13 155  11  15]\n",
      "[16 16 61 16]\n"
     ]
    },
    {
     "data": {
      "text/plain": [
       "[None, None, None, None]"
      ]
     },
     "execution_count": 20,
     "metadata": {},
     "output_type": "execute_result"
    }
   ],
   "source": [
    "[print(a) for a in sample_matrix]"
   ]
  },
  {
   "cell_type": "code",
   "execution_count": 37,
   "id": "282f8420",
   "metadata": {},
   "outputs": [],
   "source": [
    "arr = np.random.randint(1, 100, 30).reshape(6, 5)"
   ]
  },
  {
   "cell_type": "code",
   "execution_count": 38,
   "id": "0b9b7e96",
   "metadata": {},
   "outputs": [
    {
     "data": {
      "text/plain": [
       "array([[75, 33,  1, 89,  1],\n",
       "       [15, 83, 46, 91, 96],\n",
       "       [39, 29, 16, 23, 38],\n",
       "       [ 3, 35,  6, 95, 40],\n",
       "       [ 8, 62, 26, 41, 67],\n",
       "       [82, 31, 36, 13, 11]])"
      ]
     },
     "execution_count": 38,
     "metadata": {},
     "output_type": "execute_result"
    }
   ],
   "source": [
    "arr # oryginalne arr "
   ]
  },
  {
   "cell_type": "markdown",
   "id": "daca5e9e",
   "metadata": {},
   "source": [
    "Normalizacja wartości w datasecie "
   ]
  },
  {
   "cell_type": "code",
   "execution_count": 39,
   "id": "adfb0267",
   "metadata": {},
   "outputs": [
    {
     "data": {
      "text/plain": [
       "array([[73.64132422, 31.64132422, -0.35867578, 87.64132422, -0.35867578],\n",
       "       [13.64132422, 81.64132422, 44.64132422, 89.64132422, 94.64132422],\n",
       "       [37.64132422, 27.64132422, 14.64132422, 21.64132422, 36.64132422],\n",
       "       [ 1.64132422, 33.64132422,  4.64132422, 93.64132422, 38.64132422],\n",
       "       [ 6.64132422, 60.64132422, 24.64132422, 39.64132422, 65.64132422],\n",
       "       [80.64132422, 29.64132422, 34.64132422, 11.64132422,  9.64132422]])"
      ]
     },
     "execution_count": 39,
     "metadata": {},
     "output_type": "execute_result"
    }
   ],
   "source": [
    "arr = (arr - arr.mean() / arr.std())\n",
    "arr # znormalizowany arr"
   ]
  },
  {
   "cell_type": "code",
   "execution_count": 61,
   "id": "ccb60f44",
   "metadata": {},
   "outputs": [],
   "source": [
    "arr_1 = np.random.randint(1, 100, 4).reshape(2, 2)\n",
    "arr_2 = np.random.randint(1, 100, 4).reshape(2, 2)"
   ]
  },
  {
   "cell_type": "code",
   "execution_count": 62,
   "id": "5dfd0ca3",
   "metadata": {},
   "outputs": [
    {
     "data": {
      "text/plain": [
       "array([77.41446893, 91.58602513])"
      ]
     },
     "execution_count": 62,
     "metadata": {},
     "output_type": "execute_result"
    }
   ],
   "source": [
    "res = sum(( arr_1 - arr_2) ** 2) **0.5\n",
    "res"
   ]
  },
  {
   "cell_type": "code",
   "execution_count": 63,
   "id": "dc6c095c",
   "metadata": {},
   "outputs": [
    {
     "data": {
      "text/plain": [
       "array([77.41446893, 91.58602513])"
      ]
     },
     "execution_count": 63,
     "metadata": {},
     "output_type": "execute_result"
    }
   ],
   "source": [
    "f = lambda x, y: np.sqrt(sum((x - y) **2))\n",
    "f(arr_1, arr_2)"
   ]
  },
  {
   "cell_type": "markdown",
   "id": "407f014e",
   "metadata": {},
   "source": [
    "Above functions of euklidian distance"
   ]
  },
  {
   "cell_type": "code",
   "execution_count": 2,
   "id": "ed8a51d6",
   "metadata": {},
   "outputs": [],
   "source": [
    "import scipy.stats as scs"
   ]
  },
  {
   "cell_type": "markdown",
   "id": "4a54d85a",
   "metadata": {},
   "source": [
    "## Hypotesis testing"
   ]
  },
  {
   "cell_type": "code",
   "execution_count": 13,
   "id": "8c356ca8",
   "metadata": {},
   "outputs": [],
   "source": [
    "import numpy as np\n",
    "import scipy.stats as scs"
   ]
  },
  {
   "cell_type": "code",
   "execution_count": 33,
   "id": "07343a66",
   "metadata": {},
   "outputs": [
    {
     "name": "stdout",
     "output_type": "stream",
     "text": [
      "4.996 2.798\n"
     ]
    }
   ],
   "source": [
    "data_1 = [5.01, 5.02, 5.00, 4.99, 4.96]\n",
    "data_2 = [0.97, 1.01, 1.02, 8.00, 2.99]\n",
    "data_3 = np.array(sorted(data_1))\n",
    "\n",
    "data_4 = np.arange(1, 1515, 5)\n",
    "data_5 = np.random.normal(size = 1000)\n",
    "\n",
    "data_1 = np.array(data_1)\n",
    "data_2 = np.array(data_2)\n",
    "\n",
    "print(data_1.mean(), data_2.mean())"
   ]
  },
  {
   "cell_type": "code",
   "execution_count": 16,
   "id": "46c34a58",
   "metadata": {},
   "outputs": [
    {
     "data": {
      "text/plain": [
       "TtestResult(statistic=-0.3885143449428653, pvalue=0.7174283599145157, df=4)"
      ]
     },
     "execution_count": 16,
     "metadata": {},
     "output_type": "execute_result"
    }
   ],
   "source": [
    "# stats.ttest_1samp() - find P-value -> probability of similarity\n",
    "scs.ttest_1samp(data_1, popmean=5)"
   ]
  },
  {
   "cell_type": "code",
   "execution_count": 18,
   "id": "da15d93f",
   "metadata": {},
   "outputs": [
    {
     "data": {
      "text/plain": [
       "TtestResult(statistic=-1.623391521731075, pvalue=0.17982775482279942, df=4)"
      ]
     },
     "execution_count": 18,
     "metadata": {},
     "output_type": "execute_result"
    }
   ],
   "source": [
    "scs.ttest_1samp(data_2, popmean=5)"
   ]
  },
  {
   "cell_type": "code",
   "execution_count": 22,
   "id": "26237bc6",
   "metadata": {},
   "outputs": [
    {
     "data": {
      "text/plain": [
       "Ttest_indResult(statistic=1.6203959046657326, pvalue=0.14380620673076863)"
      ]
     },
     "execution_count": 22,
     "metadata": {},
     "output_type": "execute_result"
    }
   ],
   "source": [
    "scs.ttest_ind(data_1, data_2)"
   ]
  },
  {
   "cell_type": "code",
   "execution_count": 26,
   "id": "6dae5a0a",
   "metadata": {},
   "outputs": [
    {
     "data": {
      "text/plain": [
       "Ttest_indResult(statistic=0.0, pvalue=1.0)"
      ]
     },
     "execution_count": 26,
     "metadata": {},
     "output_type": "execute_result"
    }
   ],
   "source": [
    "scs.ttest_ind(data_1, data_3)"
   ]
  },
  {
   "cell_type": "code",
   "execution_count": 31,
   "id": "a388eefe",
   "metadata": {},
   "outputs": [
    {
     "data": {
      "text/plain": [
       "NormaltestResult(statistic=165.16651401966465, pvalue=1.363161096000046e-36)"
      ]
     },
     "execution_count": 31,
     "metadata": {},
     "output_type": "execute_result"
    }
   ],
   "source": [
    "# Sprawdzanie, czy dane są z rozkładu normalnego \n",
    "scs.normaltest(data_4)\n",
    "\n",
    "# Jeśli p-value w teście normalnym jest bardzo niskie np. niże od 0.005\n",
    "#, to odrzucamy Hipoteze zerową, która mówi, że jest to rozkład normalny."
   ]
  },
  {
   "cell_type": "code",
   "execution_count": 38,
   "id": "faf15b1a",
   "metadata": {},
   "outputs": [
    {
     "data": {
      "text/plain": [
       "NormaltestResult(statistic=3.0391764785165925, pvalue=0.2188019624645129)"
      ]
     },
     "execution_count": 38,
     "metadata": {},
     "output_type": "execute_result"
    }
   ],
   "source": [
    "scs.normaltest(data_5)\n",
    "\n",
    "# Jeśli p-value w teście normalnym, jest wyższe niż 0.05, możemy uznać, że jest to rozkład normalny."
   ]
  },
  {
   "cell_type": "code",
   "execution_count": null,
   "id": "0746db75",
   "metadata": {},
   "outputs": [],
   "source": [
    "Przykłady testów: \n",
    "    - Test Shapiro Wilka - bardziej konserwatywny test na rozkład normalny\n",
    "    - Test Równości wariancji\n",
    "    Do testów minimum 30 obserwacji (są to testy deterministyczne, dają ten sam wynik dla tych samych danych)"
   ]
  },
  {
   "cell_type": "code",
   "execution_count": null,
   "id": "ce9a96ef",
   "metadata": {},
   "outputs": [],
   "source": [
    "# ZADANIE 10: \n",
    "#    - Do ogarnięcia w domu"
   ]
  },
  {
   "cell_type": "markdown",
   "id": "754c81af",
   "metadata": {},
   "source": [
    "### Probability"
   ]
  },
  {
   "cell_type": "code",
   "execution_count": null,
   "id": "7c204698",
   "metadata": {},
   "outputs": [],
   "source": []
  }
 ],
 "metadata": {
  "kernelspec": {
   "display_name": "Python 3 (ipykernel)",
   "language": "python",
   "name": "python3"
  },
  "language_info": {
   "codemirror_mode": {
    "name": "ipython",
    "version": 3
   },
   "file_extension": ".py",
   "mimetype": "text/x-python",
   "name": "python",
   "nbconvert_exporter": "python",
   "pygments_lexer": "ipython3",
   "version": "3.11.2"
  }
 },
 "nbformat": 4,
 "nbformat_minor": 5
}
