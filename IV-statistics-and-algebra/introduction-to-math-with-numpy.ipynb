{
 "cells": [
  {
   "cell_type": "code",
   "execution_count": 2,
   "id": "8c58067f",
   "metadata": {},
   "outputs": [],
   "source": [
    "import numpy as np\n",
    "import sys"
   ]
  },
  {
   "cell_type": "markdown",
   "id": "7a9dea27",
   "metadata": {},
   "source": [
    "Few word about creation of matrix & vector. \n",
    "\n",
    "np.arange(_) - wiemy, z jakiego zakresu elementy chcemy, ewentualnie ich odstępy.\n",
    "np.arange( 1, 110 + 1, 5) - dostaniemy wartości od 1 do 110 włącznie, ze skokami co 5"
   ]
  },
  {
   "cell_type": "code",
   "execution_count": 22,
   "id": "6e2e8d53",
   "metadata": {},
   "outputs": [
    {
     "data": {
      "text/plain": [
       "array([ 0,  1,  2,  3,  4,  5,  6,  7,  8,  9, 10, 11, 12])"
      ]
     },
     "execution_count": 22,
     "metadata": {},
     "output_type": "execute_result"
    }
   ],
   "source": [
    "sample_vector_even = np.arange(1, 12+1, 2)\n",
    "sample_vector"
   ]
  },
  {
   "cell_type": "markdown",
   "id": "0c1e5c4a",
   "metadata": {},
   "source": [
    "np.Linspace(_) - wiemy ile elementów chcemy i z jakiego zakresu\n",
    "np.Linspace( 1, 10 +1, 3) - da nam 3 liczby od 1 do 10 włcznie z różnymi odstępami"
   ]
  },
  {
   "cell_type": "code",
   "execution_count": 20,
   "id": "f36c4cb7",
   "metadata": {},
   "outputs": [
    {
     "data": {
      "text/plain": [
       "array([ 1. ,  5.5, 10. ])"
      ]
     },
     "execution_count": 20,
     "metadata": {},
     "output_type": "execute_result"
    }
   ],
   "source": [
    "np.linspace(1, 10, 3)"
   ]
  },
  {
   "cell_type": "code",
   "execution_count": 23,
   "id": "1458103f",
   "metadata": {},
   "outputs": [
    {
     "data": {
      "text/plain": [
       "array([[100.  , 158.25, 216.5 , 274.75, 333.  ],\n",
       "       [467.  , 568.75, 670.5 , 772.25, 874.  ],\n",
       "       [250.  , 325.  , 400.  , 475.  , 550.  ]])"
      ]
     },
     "execution_count": 23,
     "metadata": {},
     "output_type": "execute_result"
    }
   ],
   "source": [
    "sample_matrix = np.array([\n",
    "    np.linspace(100, 333, 5),\n",
    "    np.linspace(467, 874, 5),\n",
    "    np.linspace(250, 550, 5)\n",
    "])\n",
    "\n",
    "sample_matrix"
   ]
  },
  {
   "cell_type": "markdown",
   "id": "803cbe04",
   "metadata": {},
   "source": [
    "object.shape - gives us tuple, of shape of given matrix ( nuber of rows, number of columns )\n",
    "object.size - gives us size of given object ( number of rows * number of columns )\n",
    "object.ndim - gives us amount of dimensions of given object"
   ]
  },
  {
   "cell_type": "code",
   "execution_count": 31,
   "id": "97dd5f51",
   "metadata": {},
   "outputs": [
    {
     "data": {
      "text/plain": [
       "(3, 5)"
      ]
     },
     "execution_count": 31,
     "metadata": {},
     "output_type": "execute_result"
    }
   ],
   "source": [
    "sample_matrix.shape"
   ]
  },
  {
   "cell_type": "code",
   "execution_count": 33,
   "id": "8ba1c41a",
   "metadata": {},
   "outputs": [
    {
     "data": {
      "text/plain": [
       "(13,)"
      ]
     },
     "execution_count": 33,
     "metadata": {},
     "output_type": "execute_result"
    }
   ],
   "source": [
    "sample_vector.shape"
   ]
  },
  {
   "cell_type": "code",
   "execution_count": 30,
   "id": "91e5ea3f",
   "metadata": {},
   "outputs": [
    {
     "data": {
      "text/plain": [
       "15"
      ]
     },
     "execution_count": 30,
     "metadata": {},
     "output_type": "execute_result"
    }
   ],
   "source": [
    "sample_matrix.size"
   ]
  },
  {
   "cell_type": "code",
   "execution_count": 34,
   "id": "264ec568",
   "metadata": {},
   "outputs": [
    {
     "data": {
      "text/plain": [
       "13"
      ]
     },
     "execution_count": 34,
     "metadata": {},
     "output_type": "execute_result"
    }
   ],
   "source": [
    "sample_vector.size"
   ]
  },
  {
   "cell_type": "code",
   "execution_count": 32,
   "id": "e3bff012",
   "metadata": {},
   "outputs": [
    {
     "data": {
      "text/plain": [
       "2"
      ]
     },
     "execution_count": 32,
     "metadata": {},
     "output_type": "execute_result"
    }
   ],
   "source": [
    "sample_matrix.ndim "
   ]
  },
  {
   "cell_type": "markdown",
   "id": "ca495864",
   "metadata": {},
   "source": [
    "How to get to specified elements? "
   ]
  },
  {
   "cell_type": "code",
   "execution_count": 41,
   "id": "69463d6f",
   "metadata": {},
   "outputs": [
    {
     "data": {
      "text/plain": [
       "475.0"
      ]
     },
     "execution_count": 41,
     "metadata": {},
     "output_type": "execute_result"
    }
   ],
   "source": [
    "sample_matrix[2][3]"
   ]
  },
  {
   "cell_type": "code",
   "execution_count": 46,
   "id": "c26a3978",
   "metadata": {},
   "outputs": [
    {
     "data": {
      "text/plain": [
       "array([[216.5 , 274.75, 333.  ],\n",
       "       [670.5 , 772.25, 874.  ],\n",
       "       [400.  , 475.  , 550.  ]])"
      ]
     },
     "execution_count": 46,
     "metadata": {},
     "output_type": "execute_result"
    }
   ],
   "source": [
    "sample_matrix[:,2:]"
   ]
  },
  {
   "cell_type": "markdown",
   "id": "5fd93604",
   "metadata": {},
   "source": [
    "Random functions in Numpy library\n",
    "\n",
    "np.random.random(size =1) - generates random number from range 0, 1\n",
    "np.random.norrmal(size = 1) - generuje losową liczbę z rozkładu normalnego \n",
    "np.random.uniform(size = 1) - generuje losową liczbę z rozkładu jednostajnego\n",
    "np.random.randint(low, high, size) - generates pseudo random integer. #Given numbers may be repetitive."
   ]
  },
  {
   "cell_type": "code",
   "execution_count": 53,
   "id": "6971ff06",
   "metadata": {},
   "outputs": [
    {
     "data": {
      "text/plain": [
       "array([0.39814997, 0.50537573, 0.83933962])"
      ]
     },
     "execution_count": 53,
     "metadata": {},
     "output_type": "execute_result"
    }
   ],
   "source": [
    "np.random.random(3)"
   ]
  },
  {
   "cell_type": "code",
   "execution_count": 58,
   "id": "8be20aff",
   "metadata": {},
   "outputs": [
    {
     "data": {
      "text/plain": [
       "array([ 20. ,  17. ,  67. , 456. , 100. ,   6. ,  12.5])"
      ]
     },
     "execution_count": 58,
     "metadata": {},
     "output_type": "execute_result"
    }
   ],
   "source": [
    "sample_vector = np.array([20, 17, 67, 456, 100, 6, 12.5])\n",
    "sample_vector"
   ]
  },
  {
   "cell_type": "code",
   "execution_count": 60,
   "id": "a8bf427b",
   "metadata": {},
   "outputs": [
    {
     "data": {
      "text/plain": [
       "(array([3, 4]),)"
      ]
     },
     "execution_count": 60,
     "metadata": {},
     "output_type": "execute_result"
    }
   ],
   "source": [
    "sample_vector_greater_than_99 = np.where(sample_vector > 99)\n",
    "sample_vector_greater_than_99"
   ]
  },
  {
   "cell_type": "code",
   "execution_count": null,
   "id": "fd67a822",
   "metadata": {},
   "outputs": [
    {
     "ename": "",
     "evalue": "",
     "output_type": "error",
     "traceback": [
      "\u001b[1;31mJupyter cannot be started. Error attempting to locate jupyter: Running cells with 'Python 3.11.2 64-bit' requires jupyter and notebook package.\n",
      "Run the following command to install 'jupyter and notebook' into the Python environment. \n",
      "Command: 'python -m pip install jupyter notebook -U\n",
      "or\n",
      "conda install jupyter notebook -U'\n",
      "Click <a href='https://aka.ms/installJupyterForVSCode'>here</a> for more info."
     ]
    }
   ],
   "source": [
    "sample_vector[sample_vector_greater_than_99]"
   ]
  },
  {
   "cell_type": "code",
   "execution_count": null,
   "id": "360c4c44",
   "metadata": {},
   "outputs": [
    {
     "ename": "",
     "evalue": "",
     "output_type": "error",
     "traceback": [
      "\u001b[1;31mJupyter cannot be started. Error attempting to locate jupyter: Running cells with 'Python 3.11.2 64-bit' requires notebook and jupyter package.\n",
      "Run the following command to install 'jupyter and notebook' into the Python environment. \n",
      "Command: 'python -m pip install jupyter notebook -U\n",
      "or\n",
      "conda install jupyter notebook -U'\n",
      "Click <a href='https://aka.ms/installJupyterForVSCode'>here</a> for more info."
     ]
    }
   ],
   "source": [
    "task_1_vector = np.arange(1, 9+1)\n",
    "task_1_vector[::-1]"
   ]
  },
  {
   "cell_type": "code",
   "execution_count": 88,
   "id": "6c28c032",
   "metadata": {},
   "outputs": [
    {
     "data": {
      "text/plain": [
       "array([ 1,  4, 23, 31])"
      ]
     },
     "execution_count": 88,
     "metadata": {},
     "output_type": "execute_result"
    }
   ],
   "source": [
    "vector_1 = np.array([1, 23, 4, 31, 1, 1, 4, 23, 4, 1])\n",
    "\n",
    "np.unique(vector_1)"
   ]
  },
  {
   "cell_type": "code",
   "execution_count": 89,
   "id": "6183a64f",
   "metadata": {},
   "outputs": [],
   "source": [
    "matrix_1 =np.array([\n",
    "    [1, 2, 3],\n",
    "    [4, 5, 6],\n",
    "    [7, 8, 9]\n",
    "])\n",
    "\n",
    "matrix_2 = np.array([\n",
    "    [10, 10, 10],\n",
    "    [20, 20, 20],\n",
    "    [30, 30, 30]\n",
    "])"
   ]
  },
  {
   "cell_type": "code",
   "execution_count": 93,
   "id": "ede96230",
   "metadata": {},
   "outputs": [
    {
     "data": {
      "text/plain": [
       "array([[11, 12, 13],\n",
       "       [24, 25, 26],\n",
       "       [37, 38, 39]])"
      ]
     },
     "execution_count": 93,
     "metadata": {},
     "output_type": "execute_result"
    }
   ],
   "source": [
    "np.add(matrix_1, matrix_2) #dodawanie macierzy"
   ]
  },
  {
   "cell_type": "code",
   "execution_count": 96,
   "id": "1850df5f",
   "metadata": {},
   "outputs": [
    {
     "data": {
      "text/plain": [
       "array([[ -9,  -8,  -7],\n",
       "       [-16, -15, -14],\n",
       "       [-23, -22, -21]])"
      ]
     },
     "execution_count": 96,
     "metadata": {},
     "output_type": "execute_result"
    }
   ],
   "source": [
    "np.subtract(matrix_1, matrix_2) #odejmowanie macierzy"
   ]
  },
  {
   "cell_type": "code",
   "execution_count": 98,
   "id": "36476617",
   "metadata": {},
   "outputs": [
    {
     "data": {
      "text/plain": [
       "array([[ 10,  20,  30],\n",
       "       [ 80, 100, 120],\n",
       "       [210, 240, 270]])"
      ]
     },
     "execution_count": 98,
     "metadata": {},
     "output_type": "execute_result"
    }
   ],
   "source": [
    "matrix_1 * matrix_2 #mnożenie macierzy"
   ]
  },
  {
   "cell_type": "code",
   "execution_count": 100,
   "id": "03a7035f",
   "metadata": {},
   "outputs": [
    {
     "data": {
      "text/plain": [
       "array([[10, 20, 30],\n",
       "       [40, 50, 60],\n",
       "       [70, 80, 90]])"
      ]
     },
     "execution_count": 100,
     "metadata": {},
     "output_type": "execute_result"
    }
   ],
   "source": [
    "matrix_1 * 10 #mnożenie macierzy przez skalar"
   ]
  },
  {
   "cell_type": "code",
   "execution_count": 102,
   "id": "b01c8685",
   "metadata": {},
   "outputs": [
    {
     "data": {
      "text/plain": [
       "array([[1, 4, 7],\n",
       "       [2, 5, 8],\n",
       "       [3, 6, 9]])"
      ]
     },
     "execution_count": 102,
     "metadata": {},
     "output_type": "execute_result"
    }
   ],
   "source": [
    "matrix_1.T #Transpozycja macieży, Przekątna macierzy bez zmian \n",
    "# Jeśli w macierzy \"i\" to wiersze a \"l\" to kolumny odwrócicmy ze sobą kolumny z wierzami gdzie pierwszy, \n",
    "# ostatni i środkowy element macierzy zostają dzięki temu bez zmian. "
   ]
  },
  {
   "cell_type": "code",
   "execution_count": 104,
   "id": "e5351c99",
   "metadata": {},
   "outputs": [
    {
     "data": {
      "text/plain": [
       "(3, 3)"
      ]
     },
     "execution_count": 104,
     "metadata": {},
     "output_type": "execute_result"
    }
   ],
   "source": [
    "matrix_1.shape"
   ]
  },
  {
   "cell_type": "code",
   "execution_count": 109,
   "id": "cde6309c",
   "metadata": {},
   "outputs": [
    {
     "data": {
      "text/plain": [
       "array([1, 2, 3, 4, 5, 6, 7, 8, 9])"
      ]
     },
     "execution_count": 109,
     "metadata": {},
     "output_type": "execute_result"
    }
   ],
   "source": [
    "vector_from_matrix_1 = np.ndarray.flatten(matrix_1)\n",
    "vector_from_matrix_1"
   ]
  },
  {
   "cell_type": "code",
   "execution_count": 112,
   "id": "7dc6bab2",
   "metadata": {},
   "outputs": [
    {
     "data": {
      "text/plain": [
       "array([[ 2,  3,  4],\n",
       "       [ 5,  6,  7],\n",
       "       [ 8,  9, 10]])"
      ]
     },
     "execution_count": 112,
     "metadata": {},
     "output_type": "execute_result"
    }
   ],
   "source": [
    "task_3_vector = np.arange(2, 10+1)\n",
    "task_3 = np.reshape(task_3_vector, (3,3))\n",
    "task_3"
   ]
  },
  {
   "cell_type": "code",
   "execution_count": 122,
   "id": "f3e7127a",
   "metadata": {},
   "outputs": [
    {
     "data": {
      "text/plain": [
       "array([[24, 20, 22],\n",
       "       [13, 22, 17]])"
      ]
     },
     "execution_count": 122,
     "metadata": {},
     "output_type": "execute_result"
    }
   ],
   "source": [
    "# BAD CODE:\n",
    "# ls = []\n",
    "# [ls.append(np.random.randint(10, 30+1)) for i in range(6)]\n",
    "# task_4 = np.array(ls)\n",
    "# task_4\n",
    "# \n",
    "# Good CODE: \n",
    "task_4 = np.random.randint(10, 30, size = 6)\n",
    "task_4 = np.reshape(task_4, (2,3))\n",
    "task_4"
   ]
  },
  {
   "cell_type": "code",
   "execution_count": 132,
   "id": "edb5c7ae",
   "metadata": {},
   "outputs": [
    {
     "data": {
      "text/plain": [
       "array([ 23,  45, 112, 150,  43, 254,  95,   8])"
      ]
     },
     "execution_count": 132,
     "metadata": {},
     "output_type": "execute_result"
    }
   ],
   "source": [
    "# Task 5\n",
    "task_5_sample = np.array([23, 45, 112, 150, 43, 254, 95, 8])\n",
    "task_5_sample[np.where(task_5_sample > 100)]\n",
    "task_5_sample"
   ]
  },
  {
   "cell_type": "code",
   "execution_count": 134,
   "id": "5ed76fbb",
   "metadata": {},
   "outputs": [
    {
     "data": {
      "text/plain": [
       "3"
      ]
     },
     "execution_count": 134,
     "metadata": {},
     "output_type": "execute_result"
    }
   ],
   "source": [
    "# Task 6\n",
    "matrix = np.array([\n",
    "    [1, 15, 4, 13],\n",
    "    [8, 21, 3, 12],\n",
    "    [11, 13, 11, 5],\n",
    "    [32, 13, 0, 2]\n",
    "])\n",
    "\n",
    "second_row_third_column = matrix[1, 2]\n",
    "second_row_third_column"
   ]
  },
  {
   "cell_type": "code",
   "execution_count": 139,
   "id": "2737b35a",
   "metadata": {},
   "outputs": [
    {
     "data": {
      "text/plain": [
       "32"
      ]
     },
     "execution_count": 139,
     "metadata": {},
     "output_type": "execute_result"
    }
   ],
   "source": [
    "matrix.max()"
   ]
  },
  {
   "cell_type": "code",
   "execution_count": 140,
   "id": "24d148cb",
   "metadata": {},
   "outputs": [
    {
     "data": {
      "text/plain": [
       "0"
      ]
     },
     "execution_count": 140,
     "metadata": {},
     "output_type": "execute_result"
    }
   ],
   "source": [
    "matrix.min()"
   ]
  },
  {
   "cell_type": "code",
   "execution_count": 145,
   "id": "1608065e",
   "metadata": {},
   "outputs": [
    {
     "data": {
      "text/plain": [
       "35"
      ]
     },
     "execution_count": 145,
     "metadata": {},
     "output_type": "execute_result"
    }
   ],
   "source": [
    "matrix.diagonal().sum()"
   ]
  }
 ],
 "metadata": {
  "kernelspec": {
   "display_name": "Python 3.11.2 64-bit",
   "language": "python",
   "name": "python3"
  },
  "language_info": {
   "codemirror_mode": {
    "name": "ipython",
    "version": 3
   },
   "file_extension": ".py",
   "mimetype": "text/x-python",
   "name": "python",
   "nbconvert_exporter": "python",
   "pygments_lexer": "ipython3",
   "version": "3.11.2"
  },
  "vscode": {
   "interpreter": {
    "hash": "aee8b7b246df8f9039afb4144a1f6fd8d2ca17a180786b69acc140d282b71a49"
   }
  }
 },
 "nbformat": 4,
 "nbformat_minor": 5
}
