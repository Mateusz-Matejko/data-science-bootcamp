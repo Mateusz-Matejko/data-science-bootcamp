{
 "cells": [
  {
   "cell_type": "code",
   "execution_count": null,
   "id": "f2b97cde",
   "metadata": {},
   "outputs": [],
   "source": []
  },
  {
   "cell_type": "code",
   "execution_count": 8,
   "id": "13751817",
   "metadata": {},
   "outputs": [
    {
     "name": "stdout",
     "output_type": "stream",
     "text": [
      "Length of list: 18\n",
      "Length of set: 18\n",
      "[['MiłaD', 'MonikaG', 'MartynaS'],\n",
      " ['NataliaP', 'MagdalenaM', 'SebastianŻ'],\n",
      " ['EwelinaU', 'MateuszM', 'PatrycjaK'],\n",
      " ['PawelA', 'IzabelaR', 'KacperD'],\n",
      " ['PatrykŚ', 'MonikaK', 'PatrykS'],\n",
      " ['MateuszB', 'PawwelŻ', 'Mikołaj']]\n"
     ]
    }
   ],
   "source": [
    "import random\n",
    "import pprint \n",
    "\n",
    "list_of_participants = [\"EwelinaU\", \"IzabelaR\", \"KacperD\", \"MagdalenaM\", \"MartynaS\", \"MateuszM\", \n",
    " \"MateuszB\", \"Mikołaj\", \"MiłaD\", \"MonikaG\", \"MonikaK\", \"NataliaP\", \n",
    " \"PatrycjaK\", \"PatrykŚ\", \"PatrykS\", \"PawelA\", \"PawwelŻ\", \"SebastianŻ\"]\n",
    "print(\"Length of list:\",len(list_of_participants))\n",
    "print(\"Length of set:\",len(set(list_of_participants)))\n",
    "\n",
    "random.shuffle(list_of_participants)\n",
    "\n",
    "groups_of_three = []\n",
    "team = []\n",
    "\n",
    "for participant in list_of_participants:\n",
    "    team.append(participant)\n",
    "    if len(team) == ppl_in_team:\n",
    "        groups_of_three.append(team)\n",
    "        team = []\n",
    "    if not list_of_participants:\n",
    "        groups_of_three.append(team)\n",
    "        break\n",
    "\n",
    "pprint.pprint(groups_of_three)"
   ]
  },
  {
   "cell_type": "code",
   "execution_count": null,
   "id": "d288eec7",
   "metadata": {},
   "outputs": [],
   "source": []
  }
 ],
 "metadata": {
  "kernelspec": {
   "display_name": "Python 3 (ipykernel)",
   "language": "python",
   "name": "python3"
  },
  "language_info": {
   "codemirror_mode": {
    "name": "ipython",
    "version": 3
   },
   "file_extension": ".py",
   "mimetype": "text/x-python",
   "name": "python",
   "nbconvert_exporter": "python",
   "pygments_lexer": "ipython3",
   "version": "3.11.2"
  }
 },
 "nbformat": 4,
 "nbformat_minor": 5
}
