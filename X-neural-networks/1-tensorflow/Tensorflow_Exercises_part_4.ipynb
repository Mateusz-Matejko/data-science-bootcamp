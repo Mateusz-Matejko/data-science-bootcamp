{
 "cells": [
  {
   "cell_type": "markdown",
   "metadata": {
    "id": "skP3AJxrCU_T"
   },
   "source": [
    "# Tensorflow - Models training process - Fourth Exercise (25 minutes)\n",
    "@author Tomasz Skrzypczyk"
   ]
  },
  {
   "cell_type": "markdown",
   "metadata": {
    "id": "THgKUdbTDGNo"
   },
   "source": [
    "# Data import"
   ]
  },
  {
   "cell_type": "code",
   "execution_count": 31,
   "metadata": {
    "id": "f8IzBDPVCLcW"
   },
   "outputs": [],
   "source": [
    "# do not modify this cell\n",
    "import tensorflow as tf\n",
    "import numpy as np\n",
    "import pandas as pd\n",
    "from sklearn.datasets import load_iris\n",
    "from sklearn.model_selection import train_test_split\n",
    "from sklearn.preprocessing import StandardScaler\n",
    "\n",
    "data = load_iris()\n",
    "columns = data.feature_names\n",
    "\n",
    "X = data.data\n",
    "y = data.target\n",
    "\n",
    "\n",
    "X_train, X_test, y_train, y_test = train_test_split(X, y,test_size= 0.1, random_state=42)\n",
    "X_train, X_val, y_train, y_val = train_test_split(X_train, y_train,test_size=0.1)\n",
    "\n",
    "scaler = StandardScaler()\n",
    "X_train = scaler.fit_transform(X_train)\n",
    "X_val = scaler.transform(X_val)\n",
    "X_test = scaler.transform(X_test)"
   ]
  },
  {
   "cell_type": "markdown",
   "metadata": {
    "id": "xN4Z33qcDIy9"
   },
   "source": [
    "# Model definition"
   ]
  },
  {
   "cell_type": "code",
   "execution_count": 32,
   "metadata": {
    "id": "AUHyamxLDL1z"
   },
   "outputs": [],
   "source": [
    "# do not modify this cell\n",
    "model = tf.keras.Sequential([tf.keras.layers.Dense(3, input_shape=(4,))])"
   ]
  },
  {
   "cell_type": "markdown",
   "metadata": {
    "id": "Gks49ln5DmbX"
   },
   "source": [
    "# Model compiling"
   ]
  },
  {
   "cell_type": "markdown",
   "metadata": {
    "id": "pzpbMJzkFYOp"
   },
   "source": [
    "What you have to do first is to **compile** your model. This is different than what you are used to using sklearn or even using other DeepLearning libraries.\n",
    "\n",
    "\n",
    "The training procedure is as follows:\n",
    "* define your model\n",
    "* compile it\n",
    "* train using fit method\n",
    "\n",
    "\n",
    "```\n",
    "compile(\n",
    "    optimizer='rmsprop',\n",
    "    loss=None,\n",
    "    metrics=None,\n",
    "    loss_weights=None,\n",
    "    weighted_metrics=None,\n",
    "    run_eagerly=None,\n",
    "    steps_per_execution=None,\n",
    "    jit_compile=None,\n",
    "    **kwargs\n",
    ")\n",
    "```\n",
    "\n",
    "At this step you should at least pass the *loss* parameter. The loss function of your model. This could be 'mse' in case of a regression model or 'categorical_crossentropy' in case of the classification.\n",
    "\n",
    "What you want to pass next is the *optimizer*. Setting the optimizer to 'adam' or using the default 'rmsprop' are frequent choices. You will learn about different optimizers later on.\n",
    "\n",
    "The last important parameter to define are the *metrics*. You should always pass a list of metric's objects or strings. Ex. `metrics=[\"accuracy\"]` or `metrics = [\"mae\"]`.\n",
    "\n",
    "\n",
    "\n"
   ]
  },
  {
   "cell_type": "code",
   "execution_count": 33,
   "metadata": {
    "id": "z8WuhzrgHZbw"
   },
   "outputs": [],
   "source": [
    "# compile your model, remember that this is a classification model\n",
    "# define the 'adam' optimizer, use accuracy as a metric and set the loss to 'sparse_categorical_crossentropy'\n",
    "\n",
    "model.compile(optimizer='adam', metrics='accuracy', loss='sparse_categorical_crossentropy')"
   ]
  },
  {
   "cell_type": "markdown",
   "metadata": {
    "id": "YIx6_FaIDoyr"
   },
   "source": [
    "# Model training"
   ]
  },
  {
   "cell_type": "markdown",
   "metadata": {
    "id": "vynJum51JOqF"
   },
   "source": [
    "fit method\n",
    "\n",
    "```\n",
    "fit(\n",
    "    x=None,\n",
    "    y=None,\n",
    "    batch_size=None,\n",
    "    epochs=1,\n",
    "    verbose='auto',\n",
    "    callbacks=None,\n",
    "    validation_split=0.0,\n",
    "    validation_data=None,\n",
    "    shuffle=True,\n",
    "    class_weight=None,\n",
    "    sample_weight=None,\n",
    "    initial_epoch=0,\n",
    "    steps_per_epoch=None,\n",
    "    validation_steps=None,\n",
    "    validation_batch_size=None,\n",
    "    validation_freq=1,\n",
    "    max_queue_size=10,\n",
    "    workers=1,\n",
    "    use_multiprocessing=False\n",
    ")\n",
    "\n",
    "```\n",
    "\n",
    "You really don't need to care about all the parameters!!\n",
    "\n",
    "Tip: pass your validation data as a tuple (X,y) !!!"
   ]
  },
  {
   "cell_type": "code",
   "execution_count": null,
   "metadata": {},
   "outputs": [],
   "source": []
  },
  {
   "cell_type": "code",
   "execution_count": 34,
   "metadata": {
    "colab": {
     "base_uri": "https://localhost:8080/"
    },
    "id": "LobE2l29IDhA",
    "outputId": "9fc3f25c-013a-4f37-9c25-df75d0c8ccd8"
   },
   "outputs": [
    {
     "name": "stdout",
     "output_type": "stream",
     "text": [
      "Epoch 1/100\n",
      "4/4 [==============================] - 0s 16ms/step - loss: 14.0732 - accuracy: 0.0165 - val_loss: 10.8094 - val_accuracy: 0.0714\n",
      "Epoch 2/100\n",
      "4/4 [==============================] - 0s 4ms/step - loss: 14.0294 - accuracy: 0.0165 - val_loss: 10.7931 - val_accuracy: 0.0714\n",
      "Epoch 3/100\n",
      "4/4 [==============================] - 0s 3ms/step - loss: 14.0169 - accuracy: 0.0165 - val_loss: 10.7781 - val_accuracy: 0.0714\n",
      "Epoch 4/100\n",
      "4/4 [==============================] - 0s 4ms/step - loss: 14.0063 - accuracy: 0.0165 - val_loss: 10.7641 - val_accuracy: 0.0714\n",
      "Epoch 5/100\n",
      "4/4 [==============================] - 0s 4ms/step - loss: 13.9968 - accuracy: 0.0248 - val_loss: 10.7511 - val_accuracy: 0.0714\n",
      "Epoch 6/100\n",
      "4/4 [==============================] - 0s 3ms/step - loss: 13.9196 - accuracy: 0.0248 - val_loss: 10.0246 - val_accuracy: 0.0714\n",
      "Epoch 7/100\n",
      "4/4 [==============================] - 0s 4ms/step - loss: 13.8992 - accuracy: 0.0248 - val_loss: 9.9451 - val_accuracy: 0.0714\n",
      "Epoch 8/100\n",
      "4/4 [==============================] - 0s 4ms/step - loss: 13.8835 - accuracy: 0.0248 - val_loss: 9.9087 - val_accuracy: 0.0714\n",
      "Epoch 9/100\n",
      "4/4 [==============================] - 0s 3ms/step - loss: 13.8747 - accuracy: 0.0331 - val_loss: 9.8837 - val_accuracy: 0.0714\n",
      "Epoch 10/100\n",
      "4/4 [==============================] - 0s 4ms/step - loss: 13.8674 - accuracy: 0.0331 - val_loss: 9.8636 - val_accuracy: 0.0714\n",
      "Epoch 11/100\n",
      "4/4 [==============================] - 0s 3ms/step - loss: 13.8605 - accuracy: 0.0331 - val_loss: 9.8452 - val_accuracy: 0.0714\n",
      "Epoch 12/100\n",
      "4/4 [==============================] - 0s 4ms/step - loss: 13.8534 - accuracy: 0.0331 - val_loss: 9.8286 - val_accuracy: 0.0714\n",
      "Epoch 13/100\n",
      "4/4 [==============================] - 0s 4ms/step - loss: 13.8461 - accuracy: 0.0331 - val_loss: 9.8127 - val_accuracy: 0.0714\n",
      "Epoch 14/100\n",
      "4/4 [==============================] - 0s 3ms/step - loss: 13.8395 - accuracy: 0.0331 - val_loss: 9.7970 - val_accuracy: 0.0714\n",
      "Epoch 15/100\n",
      "4/4 [==============================] - 0s 4ms/step - loss: 13.8329 - accuracy: 0.0331 - val_loss: 9.7810 - val_accuracy: 0.0714\n",
      "Epoch 16/100\n",
      "4/4 [==============================] - 0s 4ms/step - loss: 13.8249 - accuracy: 0.0331 - val_loss: 9.7658 - val_accuracy: 0.0714\n",
      "Epoch 17/100\n",
      "4/4 [==============================] - 0s 4ms/step - loss: 13.8175 - accuracy: 0.0331 - val_loss: 9.7497 - val_accuracy: 0.0714\n",
      "Epoch 18/100\n",
      "4/4 [==============================] - 0s 5ms/step - loss: 13.8100 - accuracy: 0.0331 - val_loss: 9.7333 - val_accuracy: 0.0714\n",
      "Epoch 19/100\n",
      "4/4 [==============================] - 0s 4ms/step - loss: 13.8022 - accuracy: 0.0331 - val_loss: 9.7167 - val_accuracy: 0.0714\n",
      "Epoch 20/100\n",
      "4/4 [==============================] - 0s 3ms/step - loss: 13.7940 - accuracy: 0.0331 - val_loss: 9.6995 - val_accuracy: 0.0714\n",
      "Epoch 21/100\n",
      "4/4 [==============================] - 0s 4ms/step - loss: 13.7024 - accuracy: 0.0331 - val_loss: 9.6784 - val_accuracy: 0.1429\n",
      "Epoch 22/100\n",
      "4/4 [==============================] - 0s 4ms/step - loss: 13.6806 - accuracy: 0.0331 - val_loss: 9.6554 - val_accuracy: 0.1429\n",
      "Epoch 23/100\n",
      "4/4 [==============================] - 0s 4ms/step - loss: 13.6664 - accuracy: 0.0331 - val_loss: 9.6322 - val_accuracy: 0.1429\n",
      "Epoch 24/100\n",
      "4/4 [==============================] - 0s 4ms/step - loss: 13.6539 - accuracy: 0.0413 - val_loss: 9.6141 - val_accuracy: 0.1429\n",
      "Epoch 25/100\n",
      "4/4 [==============================] - 0s 3ms/step - loss: 13.6417 - accuracy: 0.0413 - val_loss: 8.8685 - val_accuracy: 0.1429\n",
      "Epoch 26/100\n",
      "4/4 [==============================] - 0s 4ms/step - loss: 13.6299 - accuracy: 0.0413 - val_loss: 8.7953 - val_accuracy: 0.1429\n",
      "Epoch 27/100\n",
      "4/4 [==============================] - 0s 4ms/step - loss: 13.6188 - accuracy: 0.0413 - val_loss: 8.7498 - val_accuracy: 0.1429\n",
      "Epoch 28/100\n",
      "4/4 [==============================] - 0s 3ms/step - loss: 13.6064 - accuracy: 0.0413 - val_loss: 8.7155 - val_accuracy: 0.1429\n",
      "Epoch 29/100\n",
      "4/4 [==============================] - 0s 4ms/step - loss: 13.5953 - accuracy: 0.0413 - val_loss: 8.6872 - val_accuracy: 0.1429\n",
      "Epoch 30/100\n",
      "4/4 [==============================] - 0s 4ms/step - loss: 13.5824 - accuracy: 0.0413 - val_loss: 8.6622 - val_accuracy: 0.1429\n",
      "Epoch 31/100\n",
      "4/4 [==============================] - 0s 4ms/step - loss: 13.5701 - accuracy: 0.0496 - val_loss: 8.6387 - val_accuracy: 0.1429\n",
      "Epoch 32/100\n",
      "4/4 [==============================] - 0s 4ms/step - loss: 13.5565 - accuracy: 0.0496 - val_loss: 8.6174 - val_accuracy: 0.1429\n",
      "Epoch 33/100\n",
      "4/4 [==============================] - 0s 4ms/step - loss: 13.5431 - accuracy: 0.0496 - val_loss: 8.5960 - val_accuracy: 0.2143\n",
      "Epoch 34/100\n",
      "4/4 [==============================] - 0s 4ms/step - loss: 13.5283 - accuracy: 0.0496 - val_loss: 8.5754 - val_accuracy: 0.2143\n",
      "Epoch 35/100\n",
      "4/4 [==============================] - 0s 4ms/step - loss: 13.5133 - accuracy: 0.0661 - val_loss: 8.5541 - val_accuracy: 0.2143\n",
      "Epoch 36/100\n",
      "4/4 [==============================] - 0s 8ms/step - loss: 13.4267 - accuracy: 0.0661 - val_loss: 8.5328 - val_accuracy: 0.2143\n",
      "Epoch 37/100\n",
      "4/4 [==============================] - 0s 4ms/step - loss: 13.3803 - accuracy: 0.0661 - val_loss: 8.5100 - val_accuracy: 0.2143\n",
      "Epoch 38/100\n",
      "4/4 [==============================] - 0s 3ms/step - loss: 13.2737 - accuracy: 0.0744 - val_loss: 8.4887 - val_accuracy: 0.2143\n",
      "Epoch 39/100\n",
      "4/4 [==============================] - 0s 4ms/step - loss: 13.2551 - accuracy: 0.0744 - val_loss: 8.4701 - val_accuracy: 0.2143\n",
      "Epoch 40/100\n",
      "4/4 [==============================] - 0s 4ms/step - loss: 13.2384 - accuracy: 0.0744 - val_loss: 7.7752 - val_accuracy: 0.2143\n",
      "Epoch 41/100\n",
      "4/4 [==============================] - 0s 4ms/step - loss: 13.2216 - accuracy: 0.0744 - val_loss: 7.6553 - val_accuracy: 0.2143\n",
      "Epoch 42/100\n",
      "4/4 [==============================] - 0s 4ms/step - loss: 13.2047 - accuracy: 0.0744 - val_loss: 7.5976 - val_accuracy: 0.2143\n",
      "Epoch 43/100\n",
      "4/4 [==============================] - 0s 4ms/step - loss: 13.1133 - accuracy: 0.0826 - val_loss: 7.5463 - val_accuracy: 0.2143\n",
      "Epoch 44/100\n",
      "4/4 [==============================] - 0s 4ms/step - loss: 13.0689 - accuracy: 0.0826 - val_loss: 7.4982 - val_accuracy: 0.2143\n",
      "Epoch 45/100\n",
      "4/4 [==============================] - 0s 4ms/step - loss: 13.0471 - accuracy: 0.0992 - val_loss: 7.4583 - val_accuracy: 0.2857\n",
      "Epoch 46/100\n",
      "4/4 [==============================] - 0s 3ms/step - loss: 13.0210 - accuracy: 0.0992 - val_loss: 7.4237 - val_accuracy: 0.2857\n",
      "Epoch 47/100\n",
      "4/4 [==============================] - 0s 4ms/step - loss: 13.0006 - accuracy: 0.0992 - val_loss: 7.3894 - val_accuracy: 0.2857\n",
      "Epoch 48/100\n",
      "4/4 [==============================] - 0s 4ms/step - loss: 12.9723 - accuracy: 0.0992 - val_loss: 7.3564 - val_accuracy: 0.2857\n",
      "Epoch 49/100\n",
      "4/4 [==============================] - 0s 3ms/step - loss: 12.7980 - accuracy: 0.0992 - val_loss: 7.3137 - val_accuracy: 0.2857\n",
      "Epoch 50/100\n",
      "4/4 [==============================] - 0s 4ms/step - loss: 12.6593 - accuracy: 0.1240 - val_loss: 7.2718 - val_accuracy: 0.2857\n",
      "Epoch 51/100\n",
      "4/4 [==============================] - 0s 4ms/step - loss: 12.5374 - accuracy: 0.1240 - val_loss: 7.2377 - val_accuracy: 0.3571\n",
      "Epoch 52/100\n",
      "4/4 [==============================] - 0s 4ms/step - loss: 12.3410 - accuracy: 0.1240 - val_loss: 7.2075 - val_accuracy: 0.3571\n",
      "Epoch 53/100\n",
      "4/4 [==============================] - 0s 4ms/step - loss: 12.2299 - accuracy: 0.1240 - val_loss: 7.1806 - val_accuracy: 0.4286\n",
      "Epoch 54/100\n",
      "4/4 [==============================] - 0s 4ms/step - loss: 12.1315 - accuracy: 0.1240 - val_loss: 7.1544 - val_accuracy: 0.4286\n",
      "Epoch 55/100\n",
      "4/4 [==============================] - 0s 3ms/step - loss: 12.1008 - accuracy: 0.1240 - val_loss: 7.1298 - val_accuracy: 0.4286\n",
      "Epoch 56/100\n",
      "4/4 [==============================] - 0s 4ms/step - loss: 12.0814 - accuracy: 0.1240 - val_loss: 7.1057 - val_accuracy: 0.4286\n",
      "Epoch 57/100\n",
      "4/4 [==============================] - 0s 3ms/step - loss: 12.0625 - accuracy: 0.1240 - val_loss: 7.0822 - val_accuracy: 0.4286\n",
      "Epoch 58/100\n",
      "4/4 [==============================] - 0s 4ms/step - loss: 12.0485 - accuracy: 0.1322 - val_loss: 7.0585 - val_accuracy: 0.4286\n",
      "Epoch 59/100\n"
     ]
    },
    {
     "name": "stdout",
     "output_type": "stream",
     "text": [
      "4/4 [==============================] - 0s 3ms/step - loss: 12.0330 - accuracy: 0.1322 - val_loss: 7.0350 - val_accuracy: 0.4286\n",
      "Epoch 60/100\n",
      "4/4 [==============================] - 0s 4ms/step - loss: 12.0191 - accuracy: 0.1322 - val_loss: 7.0102 - val_accuracy: 0.4286\n",
      "Epoch 61/100\n",
      "4/4 [==============================] - 0s 4ms/step - loss: 12.0043 - accuracy: 0.1488 - val_loss: 6.9849 - val_accuracy: 0.4286\n",
      "Epoch 62/100\n",
      "4/4 [==============================] - 0s 3ms/step - loss: 11.9900 - accuracy: 0.1488 - val_loss: 6.9575 - val_accuracy: 0.4286\n",
      "Epoch 63/100\n",
      "4/4 [==============================] - 0s 4ms/step - loss: 11.9749 - accuracy: 0.1570 - val_loss: 6.9287 - val_accuracy: 0.4286\n",
      "Epoch 64/100\n",
      "4/4 [==============================] - 0s 3ms/step - loss: 11.9603 - accuracy: 0.1570 - val_loss: 6.8991 - val_accuracy: 0.4286\n",
      "Epoch 65/100\n",
      "4/4 [==============================] - 0s 4ms/step - loss: 11.9410 - accuracy: 0.1570 - val_loss: 6.8672 - val_accuracy: 0.4286\n",
      "Epoch 66/100\n",
      "4/4 [==============================] - 0s 3ms/step - loss: 11.9255 - accuracy: 0.1570 - val_loss: 6.8136 - val_accuracy: 0.4286\n",
      "Epoch 67/100\n",
      "4/4 [==============================] - 0s 3ms/step - loss: 11.8109 - accuracy: 0.1570 - val_loss: 6.0368 - val_accuracy: 0.4286\n",
      "Epoch 68/100\n",
      "4/4 [==============================] - 0s 4ms/step - loss: 11.6698 - accuracy: 0.1570 - val_loss: 6.0275 - val_accuracy: 0.4286\n",
      "Epoch 69/100\n",
      "4/4 [==============================] - 0s 3ms/step - loss: 11.6083 - accuracy: 0.1570 - val_loss: 6.0244 - val_accuracy: 0.4286\n",
      "Epoch 70/100\n",
      "4/4 [==============================] - 0s 4ms/step - loss: 11.5993 - accuracy: 0.1570 - val_loss: 6.0217 - val_accuracy: 0.4286\n",
      "Epoch 71/100\n",
      "4/4 [==============================] - 0s 4ms/step - loss: 11.5909 - accuracy: 0.1570 - val_loss: 6.0191 - val_accuracy: 0.4286\n",
      "Epoch 72/100\n",
      "4/4 [==============================] - 0s 3ms/step - loss: 11.5803 - accuracy: 0.1570 - val_loss: 6.0163 - val_accuracy: 0.4286\n",
      "Epoch 73/100\n",
      "4/4 [==============================] - 0s 4ms/step - loss: 11.5632 - accuracy: 0.1570 - val_loss: 6.0103 - val_accuracy: 0.4286\n",
      "Epoch 74/100\n",
      "4/4 [==============================] - 0s 3ms/step - loss: 11.4844 - accuracy: 0.1570 - val_loss: 6.0052 - val_accuracy: 0.4286\n",
      "Epoch 75/100\n",
      "4/4 [==============================] - 0s 4ms/step - loss: 11.4786 - accuracy: 0.1570 - val_loss: 6.0014 - val_accuracy: 0.4286\n",
      "Epoch 76/100\n",
      "4/4 [==============================] - 0s 3ms/step - loss: 11.4747 - accuracy: 0.1570 - val_loss: 5.9983 - val_accuracy: 0.4286\n",
      "Epoch 77/100\n",
      "4/4 [==============================] - 0s 3ms/step - loss: 11.4709 - accuracy: 0.1653 - val_loss: 5.9958 - val_accuracy: 0.4286\n",
      "Epoch 78/100\n",
      "4/4 [==============================] - 0s 3ms/step - loss: 11.4677 - accuracy: 0.1653 - val_loss: 5.9936 - val_accuracy: 0.4286\n",
      "Epoch 79/100\n",
      "4/4 [==============================] - 0s 3ms/step - loss: 11.4648 - accuracy: 0.1653 - val_loss: 5.9916 - val_accuracy: 0.4286\n",
      "Epoch 80/100\n",
      "4/4 [==============================] - 0s 4ms/step - loss: 11.4620 - accuracy: 0.1653 - val_loss: 5.9898 - val_accuracy: 0.4286\n",
      "Epoch 81/100\n",
      "4/4 [==============================] - 0s 3ms/step - loss: 11.4589 - accuracy: 0.1653 - val_loss: 5.9880 - val_accuracy: 0.4286\n",
      "Epoch 82/100\n",
      "4/4 [==============================] - 0s 4ms/step - loss: 11.4560 - accuracy: 0.1653 - val_loss: 5.9862 - val_accuracy: 0.4286\n",
      "Epoch 83/100\n",
      "4/4 [==============================] - 0s 4ms/step - loss: 11.4532 - accuracy: 0.1653 - val_loss: 5.9842 - val_accuracy: 0.4286\n",
      "Epoch 84/100\n",
      "4/4 [==============================] - 0s 3ms/step - loss: 11.4502 - accuracy: 0.1653 - val_loss: 5.9821 - val_accuracy: 0.4286\n",
      "Epoch 85/100\n",
      "4/4 [==============================] - 0s 3ms/step - loss: 11.4464 - accuracy: 0.1653 - val_loss: 5.9799 - val_accuracy: 0.4286\n",
      "Epoch 86/100\n",
      "4/4 [==============================] - 0s 3ms/step - loss: 11.4400 - accuracy: 0.1653 - val_loss: 5.9776 - val_accuracy: 0.4286\n",
      "Epoch 87/100\n",
      "4/4 [==============================] - 0s 4ms/step - loss: 11.4311 - accuracy: 0.1653 - val_loss: 5.9746 - val_accuracy: 0.4286\n",
      "Epoch 88/100\n",
      "4/4 [==============================] - 0s 3ms/step - loss: 11.3463 - accuracy: 0.1653 - val_loss: 5.9708 - val_accuracy: 0.4286\n",
      "Epoch 89/100\n",
      "4/4 [==============================] - 0s 3ms/step - loss: 11.3431 - accuracy: 0.1653 - val_loss: 5.9678 - val_accuracy: 0.4286\n",
      "Epoch 90/100\n",
      "4/4 [==============================] - 0s 3ms/step - loss: 11.3403 - accuracy: 0.1653 - val_loss: 5.9653 - val_accuracy: 0.4286\n",
      "Epoch 91/100\n",
      "4/4 [==============================] - 0s 3ms/step - loss: 11.3381 - accuracy: 0.1653 - val_loss: 5.9632 - val_accuracy: 0.4286\n",
      "Epoch 92/100\n",
      "4/4 [==============================] - 0s 3ms/step - loss: 11.3359 - accuracy: 0.1653 - val_loss: 5.9613 - val_accuracy: 0.4286\n",
      "Epoch 93/100\n",
      "4/4 [==============================] - 0s 3ms/step - loss: 11.3340 - accuracy: 0.1653 - val_loss: 5.9596 - val_accuracy: 0.4286\n",
      "Epoch 94/100\n",
      "4/4 [==============================] - 0s 4ms/step - loss: 11.3322 - accuracy: 0.1653 - val_loss: 5.9579 - val_accuracy: 0.4286\n",
      "Epoch 95/100\n",
      "4/4 [==============================] - 0s 3ms/step - loss: 11.3306 - accuracy: 0.1653 - val_loss: 5.9563 - val_accuracy: 0.4286\n",
      "Epoch 96/100\n",
      "4/4 [==============================] - 0s 3ms/step - loss: 11.3287 - accuracy: 0.1653 - val_loss: 5.9547 - val_accuracy: 0.4286\n",
      "Epoch 97/100\n",
      "4/4 [==============================] - 0s 3ms/step - loss: 11.3270 - accuracy: 0.1653 - val_loss: 5.9531 - val_accuracy: 0.4286\n",
      "Epoch 98/100\n",
      "4/4 [==============================] - 0s 4ms/step - loss: 11.3254 - accuracy: 0.1653 - val_loss: 5.9515 - val_accuracy: 0.4286\n",
      "Epoch 99/100\n",
      "4/4 [==============================] - 0s 4ms/step - loss: 11.3236 - accuracy: 0.1653 - val_loss: 5.9499 - val_accuracy: 0.4286\n",
      "Epoch 100/100\n",
      "4/4 [==============================] - 0s 3ms/step - loss: 11.3218 - accuracy: 0.1653 - val_loss: 5.9483 - val_accuracy: 0.4286\n"
     ]
    }
   ],
   "source": [
    "# run you training, pass the training data, training labels, validation data, set batch size to 32 and epochs to 100\n",
    "history = model.fit(x=X_train, y=y_train, validation_data=(X_val, y_val), batch_size=32, epochs=100)"
   ]
  },
  {
   "cell_type": "code",
   "execution_count": 39,
   "metadata": {
    "colab": {
     "base_uri": "https://localhost:8080/",
     "height": 282
    },
    "id": "Cj9mpQrTI12G",
    "outputId": "0f07a3cd-aae5-43c7-a1f7-0a3ca063c6aa"
   },
   "outputs": [
    {
     "data": {
      "image/png": "[encoded data removed]",
      "text/plain": [
       "<Figure size 640x480 with 1 Axes>"
      ]
     },
     "metadata": {},
     "output_type": "display_data"
    }
   ],
   "source": [
    "# if you create a dataframe using the history.history object you can easily plot the learning curves by using the plot method.\n",
    "# Try it out\n",
    "\n",
    "df = pd.DataFrame(history.history).plot()\n",
    "\n",
    "# if you are not sure how to do it see the tutorial:\n",
    "# https://machinelearningmastery.com/display-deep-learning-model-training-history-in-keras/"
   ]
  },
  {
   "cell_type": "markdown",
   "metadata": {
    "id": "woWBeQ2QDq0W"
   },
   "source": [
    "# Model usage"
   ]
  },
  {
   "cell_type": "markdown",
   "metadata": {
    "id": "6esCRXKyJ2U6"
   },
   "source": [
    "If you want to make predictions an the test set, simplu use the predict method.\n",
    "\n",
    "\n",
    "\n",
    "```\n",
    "predict(\n",
    "    x,\n",
    "    batch_size=None,\n",
    "    verbose='auto',\n",
    "    steps=None,\n",
    "    callbacks=None,\n",
    "    max_queue_size=10,\n",
    "    workers=1,\n",
    "    use_multiprocessing=False\n",
    ")\n",
    "```\n",
    "\n",
    "The only argument you should care about is the x - your data\n"
   ]
  },
  {
   "cell_type": "code",
   "execution_count": 36,
   "metadata": {
    "colab": {
     "base_uri": "https://localhost:8080/"
    },
    "id": "Y5yGp7jHKIRX",
    "outputId": "429909bf-86e4-41dd-e6ed-00d6dbfda17e"
   },
   "outputs": [
    {
     "name": "stdout",
     "output_type": "stream",
     "text": [
      "1/1 [==============================] - 0s 18ms/step\n"
     ]
    },
    {
     "data": {
      "text/plain": [
       "array([[-0.07701854,  0.19711223,  0.03925822],\n",
       "       [-0.9964558 , -0.10443588, -0.7182832 ],\n",
       "       [ 0.66622066,  0.9752186 , -1.435484  ],\n",
       "       [-0.09746598,  0.17425662, -0.07358746],\n",
       "       [ 0.21636233,  0.38012683, -0.5020407 ],\n",
       "       [-0.65180933, -0.41522226,  0.3311459 ],\n",
       "       [-0.15918851, -0.12684052,  0.48311535],\n",
       "       [ 0.16105601,  0.6138326 , -1.3712158 ],\n",
       "       [ 0.66517603, -0.12021911,  1.183021  ],\n",
       "       [ 0.0363214 , -0.10744327,  0.6716707 ],\n",
       "       [-0.16571689,  0.5723335 , -1.2531154 ],\n",
       "       [-0.5424032 , -0.769203  ,  1.6134822 ],\n",
       "       [-0.73916084, -0.38919225,  0.14425987],\n",
       "       [-0.62026435, -0.67422223,  1.3164535 ],\n",
       "       [-1.1825953 , -0.28902778, -0.24462433]], dtype=float32)"
      ]
     },
     "execution_count": 36,
     "metadata": {},
     "output_type": "execute_result"
    }
   ],
   "source": [
    "# make predictions on the test set\n",
    "\n",
    "predictions = model.predict(X_test)\n",
    "predictions # logits ak. logity"
   ]
  },
  {
   "cell_type": "markdown",
   "metadata": {
    "id": "JzADOL-FDt50"
   },
   "source": [
    "# Model evaluation"
   ]
  },
  {
   "cell_type": "markdown",
   "metadata": {
    "id": "XTyQt3RWNPiM"
   },
   "source": [
    "To evaluate your model, use the evaluate method. It will print the loss function value first and the metrics you passed to the model while compiling it.\n",
    "\n",
    "\n",
    "```\n",
    "evaluate(\n",
    "    x=None,\n",
    "    y=None,\n",
    "    batch_size=None,\n",
    "    verbose='auto',\n",
    "    sample_weight=None,\n",
    "    steps=None,\n",
    "    callbacks=None,\n",
    "    max_queue_size=10,\n",
    "    workers=1,\n",
    "    use_multiprocessing=False,\n",
    "    return_dict=False,\n",
    "    **kwargs\n",
    ")\n",
    "```\n",
    "\n",
    "Again, the only parameters you need to pass, and really care baout, are x and y\n",
    "\n",
    "\n",
    "\n",
    "\n"
   ]
  },
  {
   "cell_type": "code",
   "execution_count": 38,
   "metadata": {
    "colab": {
     "base_uri": "https://localhost:8080/"
    },
    "id": "_ydHWzeNC-6s",
    "outputId": "fce895f1-22b6-44b9-b183-d8fec0244fe3"
   },
   "outputs": [
    {
     "name": "stdout",
     "output_type": "stream",
     "text": [
      "1/1 [==============================] - 0s 10ms/step - loss: 10.6726 - accuracy: 0.2000\n"
     ]
    },
    {
     "data": {
      "text/plain": [
       "[10.672575950622559, 0.20000000298023224]"
      ]
     },
     "execution_count": 38,
     "metadata": {},
     "output_type": "execute_result"
    }
   ],
   "source": [
    "# evaluate your model using the test set\n",
    "\n",
    "model.evaluate(X_test, y_test)"
   ]
  },
  {
   "cell_type": "code",
   "execution_count": null,
   "metadata": {},
   "outputs": [],
   "source": []
  }
 ],
 "metadata": {
  "colab": {
   "provenance": []
  },
  "kernelspec": {
   "display_name": "Python 3 (ipykernel)",
   "language": "python",
   "name": "python3"
  },
  "language_info": {
   "codemirror_mode": {
    "name": "ipython",
    "version": 3
   },
   "file_extension": ".py",
   "mimetype": "text/x-python",
   "name": "python",
   "nbconvert_exporter": "python",
   "pygments_lexer": "ipython3",
   "version": "3.11.2"
  }
 },
 "nbformat": 4,
 "nbformat_minor": 1
}
