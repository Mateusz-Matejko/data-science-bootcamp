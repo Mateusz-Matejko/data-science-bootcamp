{
 "cells": [
  {
   "attachments": {},
   "cell_type": "markdown",
   "metadata": {},
   "source": [
    "# Wprowadzenie do sztucznych sieci neuronowych\n",
    "\n",
    "<div class=\"alert alert-block alert-success\">\n",
    "📍<b>MLP</b>\n",
    "    <br><br>"
   ]
  },
  {
   "cell_type": "markdown",
   "metadata": {},
   "source": [
    "### Regression (California housing dataset)"
   ]
  },
  {
   "cell_type": "markdown",
   "metadata": {},
   "source": [
    "This dataset was obtained from the StatLib repository. http://lib.stat.cmu.edu/datasets/\n",
    "\n",
    "The target variable is the median house value for California districts.\n",
    "\n",
    "This dataset was derived from the 1990 U.S. census, using one row per census block group. A block group is the smallest geographical unit for which the U.S. Census Bureau publishes sample data (a block group typically has a population of 600 to 3,000 people).\n",
    "\n",
    "Features:\n",
    "* MedInc median income in block\n",
    "* HouseAge median house age in block\n",
    "* AveRooms average number of rooms\n",
    "* AveBedrms average number of bedrooms\n",
    "* Population block population\n",
    "* AveOccup average house occupancy\n",
    "* Latitude house block latitude\n",
    "* Longitude house block longitude"
   ]
  },
  {
   "cell_type": "code",
   "execution_count": null,
   "metadata": {},
   "outputs": [],
   "source": [
    "from sklearn.neural_network import MLPRegressor\n",
    "from sklearn.model_selection import train_test_split\n",
    "from sklearn.datasets import fetch_california_housing\n",
    "from sklearn.preprocessing import StandardScaler\n",
    "from sklearn.metrics import r2_score\n",
    "import pandas as pd"
   ]
  },
  {
   "cell_type": "code",
   "execution_count": null,
   "metadata": {},
   "outputs": [],
   "source": [
    "cal_housing = fetch_california_housing()\n",
    "X = pd.DataFrame(cal_housing.data, columns=cal_housing.feature_names)\n",
    "y = cal_housing.target"
   ]
  },
  {
   "cell_type": "code",
   "execution_count": null,
   "metadata": {},
   "outputs": [],
   "source": []
  },
  {
   "attachments": {},
   "cell_type": "markdown",
   "metadata": {},
   "source": [
    "<div class=\"alert alert-block alert-info\">\n",
    "📝 <b>Zadanie 1.1</b><br>\n",
    "Przeskaluj dane korzystając ze StandardScalera.</div>"
   ]
  },
  {
   "cell_type": "code",
   "execution_count": null,
   "metadata": {},
   "outputs": [],
   "source": []
  },
  {
   "attachments": {},
   "cell_type": "markdown",
   "metadata": {},
   "source": [
    "<div class=\"alert alert-block alert-info\">\n",
    "📝 <b>Zadanie 1.2</b><br>\n",
    "Dokonaj podziału zbioru danych na zbiór treningowy i testowy, odkładając 20% obserwacji do zbioru testowego.</div>"
   ]
  },
  {
   "cell_type": "code",
   "execution_count": null,
   "metadata": {},
   "outputs": [],
   "source": []
  },
  {
   "attachments": {},
   "cell_type": "markdown",
   "metadata": {},
   "source": [
    "Architektura perceptrona"
   ]
  },
  {
   "attachments": {},
   "cell_type": "markdown",
   "metadata": {},
   "source": [
    "<div class=\"alert alert-block alert-info\">\n",
    "📝 <b>Zadanie 2.1</b><br>\n",
    "Przygotuj estymator modelu perceptrona wielowarstwowego o poniższych cechach:\n",
    "<ul>\n",
    "<li>architektura składająca się z 3 warstw ukrytych:</li>\n",
    "    <ul>\n",
    "    <li>pierwsza warstwa ukryta o 16 neuronach</li>\n",
    "    <li>druga warstwa ukryta o 8 neuronach</li>\n",
    "    <li>trzecia warstwa ukryta o 4 neuronach</li>\n",
    "    </ul>\n",
    "<li>funkcja aktywacji dla warstw ukrytych: relu</li>\n",
    "<li>optymalizator wag neuronów (solver): adam</li>\n",
    "<li>maksymalna liczba iteracji: 1000</li>\n",
    "<li>rozmiar wsadu (batch size): 64</li>\n",
    "<li>ziarno losowości (random_state): 42</li>\n",
    "</ul>\n",
    "</div>"
   ]
  },
  {
   "cell_type": "code",
   "execution_count": null,
   "metadata": {},
   "outputs": [],
   "source": []
  },
  {
   "cell_type": "code",
   "execution_count": null,
   "metadata": {},
   "outputs": [],
   "source": []
  },
  {
   "attachments": {},
   "cell_type": "markdown",
   "metadata": {},
   "source": [
    "Trening"
   ]
  },
  {
   "attachments": {},
   "cell_type": "markdown",
   "metadata": {},
   "source": [
    "<div class=\"alert alert-block alert-info\">\n",
    "📝 <b>Zadanie 2.2</b><br>\n",
    "Wytrenuj model perceptrona wielowarstwowego przygotowanego z poprzednim zadaniu.</div>"
   ]
  },
  {
   "cell_type": "code",
   "execution_count": null,
   "metadata": {},
   "outputs": [],
   "source": []
  },
  {
   "cell_type": "code",
   "execution_count": null,
   "metadata": {},
   "outputs": [],
   "source": []
  },
  {
   "attachments": {},
   "cell_type": "markdown",
   "metadata": {},
   "source": [
    "Prognoza"
   ]
  },
  {
   "attachments": {},
   "cell_type": "markdown",
   "metadata": {},
   "source": [
    "<div class=\"alert alert-block alert-info\">\n",
    "📝 <b>Zadanie 2.3</b><br>\n",
    "Dokonaj prognozy zbioru testowego. Oblicz wartość współczynnika R2.</div>"
   ]
  },
  {
   "cell_type": "code",
   "execution_count": null,
   "metadata": {},
   "outputs": [],
   "source": []
  },
  {
   "cell_type": "code",
   "execution_count": null,
   "metadata": {},
   "outputs": [],
   "source": []
  },
  {
   "attachments": {},
   "cell_type": "markdown",
   "metadata": {},
   "source": [
    "<div class=\"alert alert-block alert-info\">\n",
    "📝 <b>Zadanie 3.1</b><br>\n",
    "Przygotuj estymator modelu perceptrona wielowarstwowego o poniższych cechach:\n",
    "<ul>\n",
    "<li>architektura składająca się z 2 warstw ukrytych:</li>\n",
    "    <ul>\n",
    "    <li>pierwsza warstwa ukryta o 16 neuronach</li>\n",
    "    <li>druga warstwa ukryta o 8 neuronach</li>\n",
    "    </ul>\n",
    "<li>funkcja aktywacji dla warstw ukrytych: relu</li>\n",
    "<li>optymalizator wag neuronów (solver): adam</li>\n",
    "<li>maksymalna liczba iteracji: 1000</li>\n",
    "<li>rozmiar wsadu (batch size): 64</li>\n",
    "<li>ziarno losowości (random_state): 42</li>\n",
    "</ul>\n",
    "</div>"
   ]
  },
  {
   "cell_type": "code",
   "execution_count": null,
   "metadata": {},
   "outputs": [],
   "source": []
  },
  {
   "cell_type": "code",
   "execution_count": null,
   "metadata": {},
   "outputs": [],
   "source": []
  },
  {
   "attachments": {},
   "cell_type": "markdown",
   "metadata": {},
   "source": [
    "<div class=\"alert alert-block alert-info\">\n",
    "📝 <b>Zadanie 3.2</b><br>\n",
    "Wytrenuj powyższy model perceptrona wielowarstwowego, korzystając z danych przygotowanych w zadaniu 1.<br>\n",
    "Dokonaj prognozy zbioru testowego. Oblicz wartość współczynnika R2.</div>"
   ]
  },
  {
   "cell_type": "code",
   "execution_count": null,
   "metadata": {},
   "outputs": [],
   "source": []
  },
  {
   "cell_type": "code",
   "execution_count": null,
   "metadata": {},
   "outputs": [],
   "source": []
  }
 ],
 "metadata": {
  "kernelspec": {
   "display_name": "py38ml",
   "language": "python",
   "name": "python3"
  },
  "language_info": {
   "codemirror_mode": {
    "name": "ipython",
    "version": 3
   },
   "file_extension": ".py",
   "mimetype": "text/x-python",
   "name": "python",
   "nbconvert_exporter": "python",
   "pygments_lexer": "ipython3",
   "version": "3.8.15"
  },
  "orig_nbformat": 4,
  "vscode": {
   "interpreter": {
    "hash": "d82f3bafc0bfe26145b4b4405506cfdddd6cc205e24f6709dc9baaf0c1c8ebbd"
   }
  }
 },
 "nbformat": 4,
 "nbformat_minor": 2
}
