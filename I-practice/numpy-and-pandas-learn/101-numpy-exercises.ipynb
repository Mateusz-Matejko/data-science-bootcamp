{
 "cells": [
  {
   "cell_type": "code",
   "execution_count": 12,
   "id": "e0c2167d",
   "metadata": {},
   "outputs": [],
   "source": [
    "import numpy as np\n",
    "# link: https://www.machinelearningplus.com/python/101-numpy-exercises-python/?utm_content=cmp-true"
   ]
  },
  {
   "cell_type": "code",
   "execution_count": 13,
   "id": "3b5bf099",
   "metadata": {},
   "outputs": [
    {
     "name": "stdout",
     "output_type": "stream",
     "text": [
      "1.23.5\n"
     ]
    }
   ],
   "source": [
    "# 1. Import numpy as np and see the version\n",
    "print(np.__version__)"
   ]
  },
  {
   "cell_type": "code",
   "execution_count": 14,
   "id": "bc2cb1ac",
   "metadata": {},
   "outputs": [
    {
     "data": {
      "text/plain": [
       "array([0, 1, 2, 3, 4, 5, 6, 7, 8, 9])"
      ]
     },
     "execution_count": 14,
     "metadata": {},
     "output_type": "execute_result"
    }
   ],
   "source": [
    "# 2. How to create a 1D array?\n",
    "arr = np.arange(0, 10)\n",
    "arr"
   ]
  },
  {
   "cell_type": "code",
   "execution_count": 15,
   "id": "2a033f8c",
   "metadata": {},
   "outputs": [
    {
     "data": {
      "text/plain": [
       "array([[ True,  True,  True],\n",
       "       [ True,  True,  True],\n",
       "       [ True,  True,  True]])"
      ]
     },
     "execution_count": 15,
     "metadata": {},
     "output_type": "execute_result"
    }
   ],
   "source": [
    "# 3. How to create a boolean array? 3x3 \n",
    "arr = np.full((3, 3), True)\n",
    "arr"
   ]
  },
  {
   "cell_type": "code",
   "execution_count": 17,
   "id": "029e17c0",
   "metadata": {},
   "outputs": [
    {
     "data": {
      "text/plain": [
       "array([1, 3, 5, 7, 9])"
      ]
     },
     "execution_count": 17,
     "metadata": {},
     "output_type": "execute_result"
    }
   ],
   "source": [
    "# 4. How to extract items that satisfy a given condition from 1D array?\n",
    "arr = np.arange(0, 10)\n",
    "arr[arr %2 != 0]"
   ]
  },
  {
   "cell_type": "code",
   "execution_count": 20,
   "id": "c556a7df",
   "metadata": {},
   "outputs": [
    {
     "data": {
      "text/plain": [
       "array([ 0, -1,  2, -1,  4, -1,  6, -1,  8, -1])"
      ]
     },
     "execution_count": 20,
     "metadata": {},
     "output_type": "execute_result"
    }
   ],
   "source": [
    "# 5. How to replace items that satisfy a condition with another value in numpy array?\n",
    "arr[arr %2 != 0] = -1\n",
    "arr"
   ]
  },
  {
   "cell_type": "code",
   "execution_count": 31,
   "id": "21b7a1e3",
   "metadata": {},
   "outputs": [
    {
     "name": "stdout",
     "output_type": "stream",
     "text": [
      "[ 0 -1  2 -1  4 -1  6 -1  8 -1]\n",
      "[0 1 2 3 4 5 6 7 8 9]\n"
     ]
    }
   ],
   "source": [
    "# 6. How to replace items that satisfy a condition without affecting the original array?\n",
    "arr = np.arange(0, 10)\n",
    "arr_res = arr.copy()\n",
    "arr_res[arr_res %2 != 0] = -1\n",
    "\n",
    "print(arr_res)\n",
    "print(arr)"
   ]
  },
  {
   "cell_type": "code",
   "execution_count": 33,
   "id": "60758f85",
   "metadata": {},
   "outputs": [
    {
     "data": {
      "text/plain": [
       "array([[0, 1, 2, 3, 4],\n",
       "       [5, 6, 7, 8, 9]])"
      ]
     },
     "execution_count": 33,
     "metadata": {},
     "output_type": "execute_result"
    }
   ],
   "source": [
    "# 7. How to reshape an array?\n",
    "\n",
    "np.arange(10).reshape(2,5)"
   ]
  },
  {
   "cell_type": "code",
   "execution_count": 40,
   "id": "641306a3",
   "metadata": {},
   "outputs": [
    {
     "data": {
      "text/plain": [
       "array([[0, 1, 2, 3, 4],\n",
       "       [5, 6, 7, 8, 9],\n",
       "       [1, 1, 1, 1, 1],\n",
       "       [1, 1, 1, 1, 1]])"
      ]
     },
     "execution_count": 40,
     "metadata": {},
     "output_type": "execute_result"
    }
   ],
   "source": [
    "# 8. How to stack two arrays vertically?\n",
    "a = np.arange(10).reshape(2, -1)\n",
    "b = np.repeat(1, 10).reshape(2, -1)\n",
    "\n",
    "res = np.vstack([a, b])\n",
    "res"
   ]
  },
  {
   "cell_type": "code",
   "execution_count": 46,
   "id": "b75d88fe",
   "metadata": {},
   "outputs": [
    {
     "data": {
      "text/plain": [
       "array([[0, 1, 2, 3, 4, 1, 1, 1, 1, 1],\n",
       "       [5, 6, 7, 8, 9, 1, 1, 1, 1, 1]])"
      ]
     },
     "execution_count": 46,
     "metadata": {},
     "output_type": "execute_result"
    }
   ],
   "source": [
    "# 9. How to stack two arrays horizontally?\n",
    "a = np.arange(10).reshape(2, -1)\n",
    "b = np.repeat(1, 10).reshape(2, -1)\n",
    "\n",
    "res = np.hstack([a, b])\n",
    "res"
   ]
  },
  {
   "cell_type": "markdown",
   "id": "8e602785",
   "metadata": {},
   "source": [
    "### np._r \n",
    "let you to add up multiple array into one bigger one, like bellow"
   ]
  },
  {
   "cell_type": "code",
   "execution_count": 55,
   "id": "a6255cfc",
   "metadata": {},
   "outputs": [
    {
     "data": {
      "text/plain": [
       "array([1, 1, 1, 2, 2, 2, 3, 3, 3, 1, 2, 3, 1, 2, 3, 1, 2, 3])"
      ]
     },
     "execution_count": 55,
     "metadata": {},
     "output_type": "execute_result"
    }
   ],
   "source": [
    "# 10. How to generate custom sequences in numpy without hardcoding?\n",
    "a = np.array([1,2,3])\n",
    "\n",
    "res = np.r_[ np.repeat(a, 3), np.tile(a, 3)]\n",
    "res"
   ]
  },
  {
   "cell_type": "code",
   "execution_count": 74,
   "id": "271d240c",
   "metadata": {},
   "outputs": [],
   "source": [
    "# 11. How to get the common items between two python numpy arrays?\n",
    "a = np.array([1, 2, 3, 2, 3, 4, 3, 4, 5, 6])\n",
    "b = np.array([7, 2, 10, 2, 7, 4, 9, 4, 9, 8])"
   ]
  },
  {
   "cell_type": "markdown",
   "id": "1e6fe8bf",
   "metadata": {},
   "source": [
    "#### np.interesct()"
   ]
  },
  {
   "cell_type": "code",
   "execution_count": 81,
   "id": "f3b2e246",
   "metadata": {},
   "outputs": [
    {
     "data": {
      "text/plain": [
       "array([2, 4])"
      ]
     },
     "execution_count": 81,
     "metadata": {},
     "output_type": "execute_result"
    }
   ],
   "source": [
    "res = [np.append(res, i) for i in a if i in b]\n",
    "res\n",
    "\n",
    "np.intersect1d(a, b)"
   ]
  },
  {
   "cell_type": "code",
   "execution_count": 88,
   "id": "e2dadbb0",
   "metadata": {},
   "outputs": [
    {
     "data": {
      "text/plain": [
       "array([1, 2, 3, 4])"
      ]
     },
     "execution_count": 88,
     "metadata": {},
     "output_type": "execute_result"
    }
   ],
   "source": [
    "# 12. How to remove from one array those items that exist in another?\n",
    "a = np.array( [1, 2, 3, 4, 5])\n",
    "b = np.array( [5, 6, 7, 8, 9])\n",
    "\n",
    "com = np.intersect1d(a, b)\n",
    "a[a != com]\n",
    "\n",
    "#OR BETTER \n",
    "np.setdiff1d(a, b)"
   ]
  },
  {
   "cell_type": "code",
   "execution_count": 89,
   "id": "d5457b84",
   "metadata": {},
   "outputs": [],
   "source": [
    "# 13. How to get the positions where elements of two arrays match?"
   ]
  },
  {
   "cell_type": "code",
   "execution_count": 100,
   "id": "d8937ea9",
   "metadata": {},
   "outputs": [],
   "source": [
    "a = np.array([1,2,3,2,3,4,3,4,5,6])\n",
    "b = np.array([7,2,10,2,7,4,9,4,9,8])"
   ]
  },
  {
   "cell_type": "markdown",
   "id": "785a9a1c",
   "metadata": {},
   "source": [
    "#### np.where()"
   ]
  },
  {
   "cell_type": "code",
   "execution_count": 103,
   "id": "47e3a6ba",
   "metadata": {},
   "outputs": [
    {
     "data": {
      "text/plain": [
       "(array([1, 3, 5, 7]),)"
      ]
     },
     "execution_count": 103,
     "metadata": {},
     "output_type": "execute_result"
    }
   ],
   "source": [
    "np.where(a == b)"
   ]
  },
  {
   "cell_type": "code",
   "execution_count": 105,
   "id": "ef819f5d",
   "metadata": {},
   "outputs": [],
   "source": [
    "# 14. How to extract all numbers between a given range from a numpy array?\n",
    "\n",
    "a = np.array([2, 6, 1, 9, 10, 3, 27])"
   ]
  },
  {
   "cell_type": "code",
   "execution_count": 119,
   "id": "66835ebe",
   "metadata": {},
   "outputs": [
    {
     "data": {
      "text/plain": [
       "array([ 6,  9, 10])"
      ]
     },
     "execution_count": 119,
     "metadata": {},
     "output_type": "execute_result"
    }
   ],
   "source": [
    "# Method 1\n",
    "index = np.where((a >= 5) & (a <= 10))\n",
    "a[index]\n",
    "\n",
    "# Method 2:\n",
    "index = np.where(np.logical_and(a>=5, a<=10))\n",
    "a[index]\n",
    "#> (array([6, 9, 10]),)\n",
    "\n",
    "# My favorite!!\n",
    "a[ (5 <= a) & (a <= 10)]"
   ]
  },
  {
   "cell_type": "code",
   "execution_count": null,
   "id": "0a6a157c",
   "metadata": {},
   "outputs": [],
   "source": []
  }
 ],
 "metadata": {
  "kernelspec": {
   "display_name": "Python 3 (ipykernel)",
   "language": "python",
   "name": "python3"
  },
  "language_info": {
   "codemirror_mode": {
    "name": "ipython",
    "version": 3
   },
   "file_extension": ".py",
   "mimetype": "text/x-python",
   "name": "python",
   "nbconvert_exporter": "python",
   "pygments_lexer": "ipython3",
   "version": "3.10.10"
  }
 },
 "nbformat": 4,
 "nbformat_minor": 5
}
