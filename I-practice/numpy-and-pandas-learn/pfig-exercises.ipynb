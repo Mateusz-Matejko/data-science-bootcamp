{
 "cells": [
  {
   "cell_type": "code",
   "execution_count": 1,
   "id": "eeb8f571",
   "metadata": {},
   "outputs": [],
   "source": [
    "import numpy as np"
   ]
  },
  {
   "cell_type": "code",
   "execution_count": 2,
   "id": "ba07a5b0",
   "metadata": {},
   "outputs": [],
   "source": [
    "q = np.array([23, 312, 233, 1, 5, 84, 2, 21, 163, 35, 531, 13])"
   ]
  },
  {
   "cell_type": "code",
   "execution_count": 3,
   "id": "30fe53f1",
   "metadata": {},
   "outputs": [
    {
     "data": {
      "text/plain": [
       "array([312, 233, 163, 531])"
      ]
     },
     "execution_count": 3,
     "metadata": {},
     "output_type": "execute_result"
    }
   ],
   "source": [
    "q[q>100]"
   ]
  },
  {
   "cell_type": "code",
   "execution_count": 6,
   "id": "c41d6faa",
   "metadata": {},
   "outputs": [
    {
     "data": {
      "text/plain": [
       "(array([ 1,  2,  8, 10]),)"
      ]
     },
     "execution_count": 6,
     "metadata": {},
     "output_type": "execute_result"
    }
   ],
   "source": [
    "np.where(q>100)"
   ]
  },
  {
   "cell_type": "code",
   "execution_count": 7,
   "id": "9b98acf3",
   "metadata": {},
   "outputs": [
    {
     "data": {
      "text/plain": [
       "array([312, 233, 163, 531])"
      ]
     },
     "execution_count": 7,
     "metadata": {},
     "output_type": "execute_result"
    }
   ],
   "source": [
    "q[np.where(q>100)]"
   ]
  },
  {
   "cell_type": "code",
   "execution_count": 8,
   "id": "2d3ac1f3",
   "metadata": {},
   "outputs": [
    {
     "data": {
      "text/plain": [
       "array([[ 1, 15,  4, 13],\n",
       "       [ 8, 21,  3, 12],\n",
       "       [11, 13, 11,  5],\n",
       "       [32, 13,  0,  2]])"
      ]
     },
     "execution_count": 8,
     "metadata": {},
     "output_type": "execute_result"
    }
   ],
   "source": [
    "## Task 6\n",
    "ans = np.array([1, 15, 4, 13, 8, 21, 3, 12, 11, 13, 11, 5, 32, 13, 0, 2]).reshape(4, 4)\n",
    "ans"
   ]
  },
  {
   "cell_type": "code",
   "execution_count": 11,
   "id": "072b99e5",
   "metadata": {},
   "outputs": [
    {
     "data": {
      "text/plain": [
       "3"
      ]
     },
     "execution_count": 11,
     "metadata": {},
     "output_type": "execute_result"
    }
   ],
   "source": [
    "ans[1,2]"
   ]
  },
  {
   "cell_type": "code",
   "execution_count": 19,
   "id": "4a86f683",
   "metadata": {},
   "outputs": [
    {
     "data": {
      "text/plain": [
       "-19963.99999999999"
      ]
     },
     "execution_count": 19,
     "metadata": {},
     "output_type": "execute_result"
    }
   ],
   "source": [
    "det = np.linalg.det(ans)\n",
    "det"
   ]
  },
  {
   "cell_type": "code",
   "execution_count": null,
   "id": "b60d8ed7",
   "metadata": {},
   "outputs": [],
   "source": []
  }
 ],
 "metadata": {
  "kernelspec": {
   "display_name": "Python 3 (ipykernel)",
   "language": "python",
   "name": "python3"
  },
  "language_info": {
   "codemirror_mode": {
    "name": "ipython",
    "version": 3
   },
   "file_extension": ".py",
   "mimetype": "text/x-python",
   "name": "python",
   "nbconvert_exporter": "python",
   "pygments_lexer": "ipython3",
   "version": "3.10.10"
  }
 },
 "nbformat": 4,
 "nbformat_minor": 5
}
