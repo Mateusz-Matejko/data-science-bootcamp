{
 "cells": [
  {
   "cell_type": "markdown",
   "metadata": {
    "id": "L0VRJfK2tPbB"
   },
   "source": [
    "Zespoły klasyfikatorów\n",
    "----"
   ]
  },
  {
   "cell_type": "code",
   "execution_count": 1,
   "metadata": {
    "colab": {
     "base_uri": "https://localhost:8080/"
    },
    "executionInfo": {
     "elapsed": 494,
     "status": "ok",
     "timestamp": 1615727554248,
     "user": {
      "displayName": "Michał Więtczak",
      "photoUrl": "",
      "userId": "11169546932359314903"
     },
     "user_tz": -60
    },
    "id": "UPTbEd01tPbB",
    "outputId": "d76c7e5f-a72e-40e0-ba32-675566a34285"
   },
   "outputs": [
    {
     "name": "stdout",
     "output_type": "stream",
     "text": [
      "fatal: destination path 'ML-datasets' already exists and is not an empty directory.\r\n"
     ]
    }
   ],
   "source": [
    "!git clone https://github.com/matzim95/ML-datasets"
   ]
  },
  {
   "cell_type": "code",
   "execution_count": 7,
   "metadata": {},
   "outputs": [],
   "source": [
    "import pandas as pd\n",
    "from sklearn.model_selection import KFold, StratifiedKFold\n",
    "\n",
    "def load_dataset(filename, class_column, index_col=None):\n",
    "    dataset = pd.read_csv(f'/content/drive/MyDrive/Klasyfikacja/zajecia/group/ML-datasets/{filename}.csv', index_col=index_col)\n",
    "    dataset['class'] = dataset[class_column].astype('category').cat.codes\n",
    "    classes = dataset.pop(class_column).unique()\n",
    "    return dataset, classes\n",
    "\n",
    "def prepare_dataset(dataset_name):\n",
    "    params = {'iris': {'class_column': 'species', 'index_col': None},\n",
    "              'wine': {'class_column': 'Class', 'index_col': None},\n",
    "              'glass': {'class_column': 'Type', 'index_col': 'ID'}}\n",
    "    dataset, classes = load_dataset(dataset_name,\n",
    "                                    **params[dataset_name])\n",
    "    y = dataset.pop('class')\n",
    "    X = dataset\n",
    "    return X, y, classes"
   ]
  },
  {
   "cell_type": "markdown",
   "metadata": {},
   "source": [
    "Przetestujmy jak działa bagging:"
   ]
  },
  {
   "cell_type": "code",
   "execution_count": 4,
   "metadata": {},
   "outputs": [],
   "source": [
    "from sklearn.metrics import accuracy_score, precision_score, recall_score, f1_score\n",
    "import matplotlib.pyplot as plt\n",
    "import numpy as np\n",
    "from sklearn.metrics import confusion_matrix\n",
    "\n",
    "# average:\n",
    "#   None - wyniki dla każdej klasy osobno\n",
    "#   'binary' - dla wybranej w `pos_label` etykiety\n",
    "#   'micro' - dla całkowitej liczby TP, FN, FP\n",
    "#   'macro' - nieważona średnia dla każdej klasy\n",
    "#   'weighted' - ważona średnia dla każdej klasy\n",
    "\n",
    "def calculate_metrics(target, prediction, average='macro'):\n",
    "    accuracy = accuracy_score(target, prediction)\n",
    "    precision = precision_score(target, prediction, average=average)\n",
    "    recall = recall_score(target, prediction, average=average)\n",
    "    f1 = f1_score(target, prediction, average=average)\n",
    "    mislabeled = (target != prediction).sum()\n",
    "    total = len(target)\n",
    "    return accuracy, precision, recall, f1, mislabeled, total\n",
    "\n",
    "def print_results(metrics, classifier_id='classifier'):\n",
    "    print(f'Results for {classifier_id}')\n",
    "    print('----')\n",
    "    print(f'  Accuracy:  {metrics[0]}')\n",
    "    print(f'  Precision: {metrics[1]}')\n",
    "    print(f'  Recall:    {metrics[2]}')\n",
    "    print(f'  F1 score:  {metrics[3]}')\n",
    "    print(f'  Mislabeled {metrics[4]} out of {metrics[5]}')\n",
    "    print('\\n')\n",
    "\n",
    "def plot_confusion_matrix(cm, classes, title=None, title_appendix = '', cmap = plt.cm.Blues):\n",
    "\n",
    "  # Obsługa tytułu\n",
    "  if title_appendix:\n",
    "    title_appendix = f'({title_appendix})'\n",
    "  \n",
    "  if title is None:\n",
    "    title = f'Confusion Matrix {title_appendix}'\n",
    "\n",
    "  fig, ax = plt.subplots(figsize = (10,5))\n",
    "\n",
    "  img = ax.imshow(cm, cmap = cmap)\n",
    "\n",
    "  ax.figure.colorbar(img, ax = ax)\n",
    "\n",
    "  ax.set_xticks(np.arange(cm.shape[1]))\n",
    "  ax.set_xticklabels(classes, rotation = 45)\n",
    "\n",
    "  ax.set_yticks(np.arange(cm.shape[0]))\n",
    "  ax.set_yticklabels(classes, rotation = 45)\n",
    "\n",
    "  ax.set_title(title)\n",
    "  ax.set_ylabel('True label')\n",
    "  ax.set_xlabel('Predicted label')\n",
    "\n",
    "  fmt = '.2f' if cm.dtype =='float' else 'd'\n",
    "\n",
    "  for y, row in enumerate(cm):\n",
    "    for x, cell in enumerate(row):\n",
    "      ax.text(x,y, format(cell, fmt), ha ='center', color = 'white' if cell > cm.max()/2 else 'black')\n",
    "\n",
    "  fig.tight_layout()\n",
    "\n",
    "  return ax\n",
    "\n",
    "def normalize_confusion_matrix(confusion_matrix):\n",
    "  return confusion_matrix.astype('float') /confusion_matrix.sum(axis = 1)[np.newaxis].T\n",
    "\n",
    "\n",
    "from sklearn.preprocessing import MinMaxScaler\n",
    "from sklearn.model_selection import KFold, StratifiedKFold\n",
    "def count_model(classifier, kfold, X,y, classes, params = None, scaling = None, numeric_features = None, results = None, plot = None, print_params = None):\n",
    "  \n",
    "  if params is None:\n",
    "    params = {}\n",
    "    clf = classifier(**params)\n",
    "  else:\n",
    "    clf = classifier(**params)\n",
    "\n",
    "  predicted = []\n",
    "  target = []\n",
    "\n",
    "  if scaling == 'minmax':\n",
    "    scaler = MinMaxScaler()\n",
    "  elif scaling == 'standard':\n",
    "    scaler = StandardScaler()\n",
    "  else:\n",
    "    print('Wybierz scaler z listy: minmax, standard')\n",
    "\n",
    "  for train_index, test_index in kfold.split(X,y):\n",
    "    X_train, X_test = X.iloc[train_index].copy(), X.iloc[test_index].copy()\n",
    "    y_train, y_test = y.iloc[train_index].copy(), y.iloc[test_index].copy()\n",
    "\n",
    "    if scaling is not None:\n",
    "      X_train_scaled = X_train.copy()\n",
    "      X_test_scaled = X_test.copy()\n",
    "\n",
    "      X_train_scaled[numeric_features] = scaler.fit_transform(X_train[numeric_features])\n",
    "      X_test_scaled[numeric_features] = scaler.transform(X_test[numeric_features])\n",
    "\n",
    "      X_train = X_train_scaled\n",
    "      X_test = X_test_scaled\n",
    "\n",
    "    clf.fit(X_train, y_train)\n",
    "    y_pred = clf.predict(X_test)\n",
    "\n",
    "    target = np.concatenate((target, y_test))\n",
    "    predicted = np.concatenate((predicted, y_pred))\n",
    "\n",
    "  if print_params:\n",
    "    print('PARAMS:\\n\\n', clf.get_params(),'\\n')\n",
    "\n",
    "  if results:\n",
    "    print('RESULTS:\\n')\n",
    "    print_results(calculate_metrics(target, predicted))\n",
    "\n",
    "  if plot:\n",
    "    print('PLOT:\\n')\n",
    "    plot_confusion_matrix(confusion_matrix(target, predicted), classes)\n",
    "    plot_confusion_matrix(normalize_confusion_matrix(confusion_matrix(target, predicted)), classes)"
   ]
  },
  {
   "cell_type": "code",
   "execution_count": 8,
   "metadata": {},
   "outputs": [
    {
     "ename": "TypeError",
     "evalue": "load_dataset() missing 1 required positional argument: 'class_column'",
     "output_type": "error",
     "traceback": [
      "\u001b[0;31m---------------------------------------------------------------------------\u001b[0m",
      "\u001b[0;31mTypeError\u001b[0m                                 Traceback (most recent call last)",
      "Cell \u001b[0;32mIn[8], line 1\u001b[0m\n\u001b[0;32m----> 1\u001b[0m X, y, classes \u001b[38;5;241m=\u001b[39m \u001b[43mload_dataset\u001b[49m\u001b[43m(\u001b[49m\u001b[38;5;124;43m'\u001b[39;49m\u001b[38;5;124;43mwine\u001b[39;49m\u001b[38;5;124;43m'\u001b[39;49m\u001b[43m)\u001b[49m\n",
      "\u001b[0;31mTypeError\u001b[0m: load_dataset() missing 1 required positional argument: 'class_column'"
     ]
    }
   ],
   "source": [
    "X, y, classes = load_dataset('wine', \"\")"
   ]
  },
  {
   "cell_type": "code",
   "execution_count": null,
   "metadata": {},
   "outputs": [],
   "source": []
  },
  {
   "cell_type": "markdown",
   "metadata": {
    "id": "RF1MVeZptPbF"
   },
   "source": [
    "## Budowa modelu na danych rzeczywistych"
   ]
  },
  {
   "cell_type": "code",
   "execution_count": null,
   "metadata": {},
   "outputs": [],
   "source": []
  },
  {
   "cell_type": "code",
   "execution_count": null,
   "metadata": {},
   "outputs": [],
   "source": []
  },
  {
   "cell_type": "markdown",
   "metadata": {},
   "source": [
    "#### Bagging Classifier:"
   ]
  },
  {
   "cell_type": "code",
   "execution_count": null,
   "metadata": {},
   "outputs": [],
   "source": []
  },
  {
   "cell_type": "code",
   "execution_count": null,
   "metadata": {},
   "outputs": [],
   "source": []
  },
  {
   "cell_type": "markdown",
   "metadata": {},
   "source": [
    "#### Random Forrest"
   ]
  },
  {
   "cell_type": "code",
   "execution_count": null,
   "metadata": {},
   "outputs": [],
   "source": []
  },
  {
   "cell_type": "code",
   "execution_count": null,
   "metadata": {},
   "outputs": [],
   "source": []
  },
  {
   "cell_type": "markdown",
   "metadata": {},
   "source": [
    "Importances"
   ]
  },
  {
   "cell_type": "code",
   "execution_count": null,
   "metadata": {},
   "outputs": [],
   "source": []
  },
  {
   "cell_type": "code",
   "execution_count": null,
   "metadata": {},
   "outputs": [],
   "source": []
  },
  {
   "cell_type": "markdown",
   "metadata": {},
   "source": [
    "#### XGBoost:"
   ]
  },
  {
   "cell_type": "markdown",
   "metadata": {},
   "source": [
    "!pip install xgboost"
   ]
  },
  {
   "cell_type": "code",
   "execution_count": 139,
   "metadata": {},
   "outputs": [],
   "source": [
    "import xgboost as xgb"
   ]
  },
  {
   "cell_type": "code",
   "execution_count": 142,
   "metadata": {},
   "outputs": [],
   "source": []
  },
  {
   "cell_type": "code",
   "execution_count": null,
   "metadata": {},
   "outputs": [],
   "source": []
  },
  {
   "cell_type": "markdown",
   "metadata": {},
   "source": [
    "Importances"
   ]
  },
  {
   "cell_type": "code",
   "execution_count": null,
   "metadata": {},
   "outputs": [],
   "source": []
  },
  {
   "cell_type": "code",
   "execution_count": null,
   "metadata": {},
   "outputs": [],
   "source": []
  },
  {
   "cell_type": "code",
   "execution_count": null,
   "metadata": {},
   "outputs": [],
   "source": []
  },
  {
   "cell_type": "markdown",
   "metadata": {},
   "source": [
    "## Granice decyzyjne na sztucznie wygenerowanym zbiorze:"
   ]
  },
  {
   "cell_type": "code",
   "execution_count": null,
   "metadata": {},
   "outputs": [],
   "source": []
  },
  {
   "cell_type": "code",
   "execution_count": null,
   "metadata": {},
   "outputs": [],
   "source": []
  },
  {
   "cell_type": "markdown",
   "metadata": {
    "id": "RkYZp105tPbH"
   },
   "source": [
    "#### Random Forest\n"
   ]
  },
  {
   "cell_type": "markdown",
   "metadata": {
    "id": "KieAdg71tPbH"
   },
   "source": [
    "#### Boosting\n"
   ]
  },
  {
   "cell_type": "code",
   "execution_count": null,
   "metadata": {},
   "outputs": [],
   "source": []
  },
  {
   "cell_type": "code",
   "execution_count": null,
   "metadata": {},
   "outputs": [],
   "source": []
  },
  {
   "cell_type": "code",
   "execution_count": null,
   "metadata": {},
   "outputs": [],
   "source": []
  }
 ],
 "metadata": {
  "colab": {
   "name": "Zespoly_klasyfikatorow.ipynb",
   "provenance": []
  },
  "kernelspec": {
   "display_name": "Python 3 (ipykernel)",
   "language": "python",
   "name": "python3"
  },
  "language_info": {
   "codemirror_mode": {
    "name": "ipython",
    "version": 3
   },
   "file_extension": ".py",
   "mimetype": "text/x-python",
   "name": "python",
   "nbconvert_exporter": "python",
   "pygments_lexer": "ipython3",
   "version": "3.11.2"
  }
 },
 "nbformat": 4,
 "nbformat_minor": 1
}
