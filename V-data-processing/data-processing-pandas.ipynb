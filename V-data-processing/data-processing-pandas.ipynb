{
 "cells": [
  {
   "cell_type": "code",
   "execution_count": 2,
   "id": "20738a4f",
   "metadata": {},
   "outputs": [],
   "source": [
    "import pandas as pd\n",
    "import numpy as np"
   ]
  },
  {
   "cell_type": "code",
   "execution_count": 3,
   "id": "5eeaefc6",
   "metadata": {},
   "outputs": [
    {
     "data": {
      "text/plain": [
       "'1.5.3'"
      ]
     },
     "execution_count": 3,
     "metadata": {},
     "output_type": "execute_result"
    }
   ],
   "source": [
    "pd.__version__"
   ]
  },
  {
   "cell_type": "code",
   "execution_count": 4,
   "id": "f9fce903",
   "metadata": {},
   "outputs": [
    {
     "data": {
      "text/plain": [
       "(None, nan)"
      ]
     },
     "execution_count": 4,
     "metadata": {},
     "output_type": "execute_result"
    }
   ],
   "source": [
    "None, np.nan"
   ]
  },
  {
   "cell_type": "code",
   "execution_count": 6,
   "id": "21682763",
   "metadata": {},
   "outputs": [
    {
     "data": {
      "text/plain": [
       "0    1.0\n",
       "1    3.0\n",
       "2    4.0\n",
       "3    NaN\n",
       "4    6.0\n",
       "5    8.0\n",
       "dtype: float64"
      ]
     },
     "execution_count": 6,
     "metadata": {},
     "output_type": "execute_result"
    }
   ],
   "source": [
    "s = pd.Series([1, 3, 4, np.nan, 6, 8])\n",
    "s"
   ]
  },
  {
   "cell_type": "code",
   "execution_count": 7,
   "id": "ebb12e7e",
   "metadata": {},
   "outputs": [
    {
     "data": {
      "text/plain": [
       "pandas.core.series.Series"
      ]
     },
     "execution_count": 7,
     "metadata": {},
     "output_type": "execute_result"
    }
   ],
   "source": [
    "type(s)"
   ]
  },
  {
   "cell_type": "code",
   "execution_count": 11,
   "id": "3ac1c160",
   "metadata": {},
   "outputs": [
    {
     "data": {
      "text/plain": [
       "DatetimeIndex(['2013-01-01', '2013-01-02', '2013-01-03', '2013-01-04',\n",
       "               '2013-01-05', '2013-01-06'],\n",
       "              dtype='datetime64[ns]', freq='D')"
      ]
     },
     "execution_count": 11,
     "metadata": {},
     "output_type": "execute_result"
    }
   ],
   "source": [
    "dates = pd.date_range('20130101', periods =6)\n",
    "dates"
   ]
  },
  {
   "cell_type": "code",
   "execution_count": 12,
   "id": "4568fe6d",
   "metadata": {},
   "outputs": [
    {
     "data": {
      "text/plain": [
       "pandas.core.indexes.datetimes.DatetimeIndex"
      ]
     },
     "execution_count": 12,
     "metadata": {},
     "output_type": "execute_result"
    }
   ],
   "source": [
    "type(dates)"
   ]
  },
  {
   "cell_type": "code",
   "execution_count": 14,
   "id": "8e5ec6df",
   "metadata": {},
   "outputs": [
    {
     "data": {
      "text/html": [
       "<div>\n",
       "<style scoped>\n",
       "    .dataframe tbody tr th:only-of-type {\n",
       "        vertical-align: middle;\n",
       "    }\n",
       "\n",
       "    .dataframe tbody tr th {\n",
       "        vertical-align: top;\n",
       "    }\n",
       "\n",
       "    .dataframe thead th {\n",
       "        text-align: right;\n",
       "    }\n",
       "</style>\n",
       "<table border=\"1\" class=\"dataframe\">\n",
       "  <thead>\n",
       "    <tr style=\"text-align: right;\">\n",
       "      <th></th>\n",
       "      <th>A</th>\n",
       "      <th>B</th>\n",
       "      <th>C</th>\n",
       "    </tr>\n",
       "  </thead>\n",
       "  <tbody>\n",
       "    <tr>\n",
       "      <th>0</th>\n",
       "      <td>1</td>\n",
       "      <td>1</td>\n",
       "      <td>1</td>\n",
       "    </tr>\n",
       "    <tr>\n",
       "      <th>1</th>\n",
       "      <td>2</td>\n",
       "      <td>2</td>\n",
       "      <td>2</td>\n",
       "    </tr>\n",
       "    <tr>\n",
       "      <th>2</th>\n",
       "      <td>3</td>\n",
       "      <td>3</td>\n",
       "      <td>3</td>\n",
       "    </tr>\n",
       "  </tbody>\n",
       "</table>\n",
       "</div>"
      ],
      "text/plain": [
       "   A  B  C\n",
       "0  1  1  1\n",
       "1  2  2  2\n",
       "2  3  3  3"
      ]
     },
     "execution_count": 14,
     "metadata": {},
     "output_type": "execute_result"
    }
   ],
   "source": [
    "df = pd.DataFrame({'A' : [1, 2, 3],\n",
    "                  'B' : [1, 2, 3],\n",
    "                  'C' : [1, 2, 3]})\n",
    "df"
   ]
  },
  {
   "cell_type": "code",
   "execution_count": 15,
   "id": "f0a59d07",
   "metadata": {},
   "outputs": [
    {
     "data": {
      "text/plain": [
       "pandas.core.frame.DataFrame"
      ]
     },
     "execution_count": 15,
     "metadata": {},
     "output_type": "execute_result"
    }
   ],
   "source": [
    "type(df)"
   ]
  },
  {
   "cell_type": "code",
   "execution_count": 18,
   "id": "88a0e6d6",
   "metadata": {},
   "outputs": [
    {
     "data": {
      "text/html": [
       "<div>\n",
       "<style scoped>\n",
       "    .dataframe tbody tr th:only-of-type {\n",
       "        vertical-align: middle;\n",
       "    }\n",
       "\n",
       "    .dataframe tbody tr th {\n",
       "        vertical-align: top;\n",
       "    }\n",
       "\n",
       "    .dataframe thead th {\n",
       "        text-align: right;\n",
       "    }\n",
       "</style>\n",
       "<table border=\"1\" class=\"dataframe\">\n",
       "  <thead>\n",
       "    <tr style=\"text-align: right;\">\n",
       "      <th></th>\n",
       "      <th>A</th>\n",
       "      <th>B</th>\n",
       "      <th>C</th>\n",
       "      <th>D</th>\n",
       "    </tr>\n",
       "  </thead>\n",
       "  <tbody>\n",
       "    <tr>\n",
       "      <th>2013-01-01</th>\n",
       "      <td>0.279246</td>\n",
       "      <td>1.037761</td>\n",
       "      <td>0.453453</td>\n",
       "      <td>-1.618048</td>\n",
       "    </tr>\n",
       "    <tr>\n",
       "      <th>2013-01-02</th>\n",
       "      <td>1.502188</td>\n",
       "      <td>-2.681873</td>\n",
       "      <td>0.817943</td>\n",
       "      <td>-1.076079</td>\n",
       "    </tr>\n",
       "    <tr>\n",
       "      <th>2013-01-03</th>\n",
       "      <td>0.401963</td>\n",
       "      <td>0.501184</td>\n",
       "      <td>0.133135</td>\n",
       "      <td>-1.095632</td>\n",
       "    </tr>\n",
       "    <tr>\n",
       "      <th>2013-01-04</th>\n",
       "      <td>0.804234</td>\n",
       "      <td>0.053530</td>\n",
       "      <td>1.109272</td>\n",
       "      <td>-1.545593</td>\n",
       "    </tr>\n",
       "    <tr>\n",
       "      <th>2013-01-05</th>\n",
       "      <td>0.915758</td>\n",
       "      <td>0.385388</td>\n",
       "      <td>-2.101644</td>\n",
       "      <td>-0.692154</td>\n",
       "    </tr>\n",
       "    <tr>\n",
       "      <th>2013-01-06</th>\n",
       "      <td>-0.056490</td>\n",
       "      <td>0.621262</td>\n",
       "      <td>-0.186342</td>\n",
       "      <td>-0.550554</td>\n",
       "    </tr>\n",
       "  </tbody>\n",
       "</table>\n",
       "</div>"
      ],
      "text/plain": [
       "                   A         B         C         D\n",
       "2013-01-01  0.279246  1.037761  0.453453 -1.618048\n",
       "2013-01-02  1.502188 -2.681873  0.817943 -1.076079\n",
       "2013-01-03  0.401963  0.501184  0.133135 -1.095632\n",
       "2013-01-04  0.804234  0.053530  1.109272 -1.545593\n",
       "2013-01-05  0.915758  0.385388 -2.101644 -0.692154\n",
       "2013-01-06 -0.056490  0.621262 -0.186342 -0.550554"
      ]
     },
     "execution_count": 18,
     "metadata": {},
     "output_type": "execute_result"
    }
   ],
   "source": [
    "df = pd.DataFrame(np.random.randn(6,4),\n",
    "                 index=dates,\n",
    "                 columns=list('ABCD'))\n",
    "df"
   ]
  },
  {
   "cell_type": "code",
   "execution_count": 20,
   "id": "198d6ec7",
   "metadata": {},
   "outputs": [
    {
     "data": {
      "text/html": [
       "<div>\n",
       "<style scoped>\n",
       "    .dataframe tbody tr th:only-of-type {\n",
       "        vertical-align: middle;\n",
       "    }\n",
       "\n",
       "    .dataframe tbody tr th {\n",
       "        vertical-align: top;\n",
       "    }\n",
       "\n",
       "    .dataframe thead th {\n",
       "        text-align: right;\n",
       "    }\n",
       "</style>\n",
       "<table border=\"1\" class=\"dataframe\">\n",
       "  <thead>\n",
       "    <tr style=\"text-align: right;\">\n",
       "      <th></th>\n",
       "      <th>A</th>\n",
       "      <th>B</th>\n",
       "      <th>C</th>\n",
       "      <th>D</th>\n",
       "      <th>E</th>\n",
       "      <th>F</th>\n",
       "      <th>G</th>\n",
       "    </tr>\n",
       "  </thead>\n",
       "  <tbody>\n",
       "    <tr>\n",
       "      <th>0</th>\n",
       "      <td>1.0</td>\n",
       "      <td>2013-01-02</td>\n",
       "      <td>1.0</td>\n",
       "      <td>3</td>\n",
       "      <td>test</td>\n",
       "      <td>foo</td>\n",
       "      <td>False</td>\n",
       "    </tr>\n",
       "    <tr>\n",
       "      <th>1</th>\n",
       "      <td>1.0</td>\n",
       "      <td>2013-01-02</td>\n",
       "      <td>1.0</td>\n",
       "      <td>3</td>\n",
       "      <td>train</td>\n",
       "      <td>foo</td>\n",
       "      <td>True</td>\n",
       "    </tr>\n",
       "    <tr>\n",
       "      <th>2</th>\n",
       "      <td>1.0</td>\n",
       "      <td>2013-01-02</td>\n",
       "      <td>1.0</td>\n",
       "      <td>3</td>\n",
       "      <td>test</td>\n",
       "      <td>foo</td>\n",
       "      <td>True</td>\n",
       "    </tr>\n",
       "    <tr>\n",
       "      <th>3</th>\n",
       "      <td>1.0</td>\n",
       "      <td>2013-01-02</td>\n",
       "      <td>1.0</td>\n",
       "      <td>3</td>\n",
       "      <td>train</td>\n",
       "      <td>foo</td>\n",
       "      <td>False</td>\n",
       "    </tr>\n",
       "  </tbody>\n",
       "</table>\n",
       "</div>"
      ],
      "text/plain": [
       "     A          B    C  D      E    F      G\n",
       "0  1.0 2013-01-02  1.0  3   test  foo  False\n",
       "1  1.0 2013-01-02  1.0  3  train  foo   True\n",
       "2  1.0 2013-01-02  1.0  3   test  foo   True\n",
       "3  1.0 2013-01-02  1.0  3  train  foo  False"
      ]
     },
     "execution_count": 20,
     "metadata": {},
     "output_type": "execute_result"
    }
   ],
   "source": [
    "df2 = pd.DataFrame({\n",
    "                    'A': 1.,\n",
    "                    'B': pd.Timestamp('20130102'),\n",
    "                    'C': pd.Series(1, index=list(range(4)), dtype='float32'),\n",
    "                    'D': np.array([3] * 4, dtype='int32'),\n",
    "                    'E': pd.Categorical([\"test\", \"train\", \"test\", \"train\"]),\n",
    "                    'F': 'foo',\n",
    "                    'G' : [False, True,True,False]\n",
    "                   })\n",
    "df2"
   ]
  },
  {
   "cell_type": "code",
   "execution_count": 21,
   "id": "48af0dfc",
   "metadata": {},
   "outputs": [
    {
     "name": "stdout",
     "output_type": "stream",
     "text": [
      "<class 'pandas.core.frame.DataFrame'>\n",
      "Int64Index: 4 entries, 0 to 3\n",
      "Data columns (total 7 columns):\n",
      " #   Column  Non-Null Count  Dtype         \n",
      "---  ------  --------------  -----         \n",
      " 0   A       4 non-null      float64       \n",
      " 1   B       4 non-null      datetime64[ns]\n",
      " 2   C       4 non-null      float32       \n",
      " 3   D       4 non-null      int32         \n",
      " 4   E       4 non-null      category      \n",
      " 5   F       4 non-null      object        \n",
      " 6   G       4 non-null      bool          \n",
      "dtypes: bool(1), category(1), datetime64[ns](1), float32(1), float64(1), int32(1), object(1)\n",
      "memory usage: 292.0+ bytes\n"
     ]
    }
   ],
   "source": [
    "df2.info()"
   ]
  },
  {
   "cell_type": "code",
   "execution_count": 24,
   "id": "e8310d90",
   "metadata": {},
   "outputs": [
    {
     "data": {
      "text/html": [
       "<div>\n",
       "<style scoped>\n",
       "    .dataframe tbody tr th:only-of-type {\n",
       "        vertical-align: middle;\n",
       "    }\n",
       "\n",
       "    .dataframe tbody tr th {\n",
       "        vertical-align: top;\n",
       "    }\n",
       "\n",
       "    .dataframe thead th {\n",
       "        text-align: right;\n",
       "    }\n",
       "</style>\n",
       "<table border=\"1\" class=\"dataframe\">\n",
       "  <thead>\n",
       "    <tr style=\"text-align: right;\">\n",
       "      <th></th>\n",
       "      <th>DZIEN_DATA</th>\n",
       "      <th>SKL_ID</th>\n",
       "      <th>TOW_ID</th>\n",
       "      <th>SPRZ_NETTO</th>\n",
       "      <th>ZYSK_PROCENT</th>\n",
       "      <th>ZYSK_WART</th>\n",
       "    </tr>\n",
       "  </thead>\n",
       "  <tbody>\n",
       "    <tr>\n",
       "      <th>0</th>\n",
       "      <td>01.05.2022</td>\n",
       "      <td>1</td>\n",
       "      <td>1</td>\n",
       "      <td>416.0</td>\n",
       "      <td>9</td>\n",
       "      <td>37,44</td>\n",
       "    </tr>\n",
       "    <tr>\n",
       "      <th>1</th>\n",
       "      <td>02.05.2022</td>\n",
       "      <td>1</td>\n",
       "      <td>1</td>\n",
       "      <td>454.0</td>\n",
       "      <td>2</td>\n",
       "      <td>9,08</td>\n",
       "    </tr>\n",
       "    <tr>\n",
       "      <th>2</th>\n",
       "      <td>03.05.2022</td>\n",
       "      <td>1</td>\n",
       "      <td>1</td>\n",
       "      <td>392.0</td>\n",
       "      <td>13</td>\n",
       "      <td>50,96</td>\n",
       "    </tr>\n",
       "    <tr>\n",
       "      <th>3</th>\n",
       "      <td>04.05.2022</td>\n",
       "      <td>1</td>\n",
       "      <td>1</td>\n",
       "      <td>498.0</td>\n",
       "      <td>9</td>\n",
       "      <td>44,82</td>\n",
       "    </tr>\n",
       "    <tr>\n",
       "      <th>4</th>\n",
       "      <td>05.05.2022</td>\n",
       "      <td>1</td>\n",
       "      <td>1</td>\n",
       "      <td>341.0</td>\n",
       "      <td>15</td>\n",
       "      <td>51,15</td>\n",
       "    </tr>\n",
       "    <tr>\n",
       "      <th>...</th>\n",
       "      <td>...</td>\n",
       "      <td>...</td>\n",
       "      <td>...</td>\n",
       "      <td>...</td>\n",
       "      <td>...</td>\n",
       "      <td>...</td>\n",
       "    </tr>\n",
       "    <tr>\n",
       "      <th>130</th>\n",
       "      <td>11.05.2022</td>\n",
       "      <td>3</td>\n",
       "      <td>3</td>\n",
       "      <td>374.0</td>\n",
       "      <td>7</td>\n",
       "      <td>26,18</td>\n",
       "    </tr>\n",
       "    <tr>\n",
       "      <th>131</th>\n",
       "      <td>12.05.2022</td>\n",
       "      <td>3</td>\n",
       "      <td>3</td>\n",
       "      <td>390.0</td>\n",
       "      <td>4</td>\n",
       "      <td>15,6</td>\n",
       "    </tr>\n",
       "    <tr>\n",
       "      <th>132</th>\n",
       "      <td>13.05.2022</td>\n",
       "      <td>3</td>\n",
       "      <td>3</td>\n",
       "      <td>485.0</td>\n",
       "      <td>10</td>\n",
       "      <td>48,5</td>\n",
       "    </tr>\n",
       "    <tr>\n",
       "      <th>133</th>\n",
       "      <td>14.05.2022</td>\n",
       "      <td>3</td>\n",
       "      <td>3</td>\n",
       "      <td>479.0</td>\n",
       "      <td>3</td>\n",
       "      <td>14,37</td>\n",
       "    </tr>\n",
       "    <tr>\n",
       "      <th>134</th>\n",
       "      <td>15.05.2022</td>\n",
       "      <td>3</td>\n",
       "      <td>3</td>\n",
       "      <td>366.0</td>\n",
       "      <td>13</td>\n",
       "      <td>47,58</td>\n",
       "    </tr>\n",
       "  </tbody>\n",
       "</table>\n",
       "<p>135 rows × 6 columns</p>\n",
       "</div>"
      ],
      "text/plain": [
       "     DZIEN_DATA  SKL_ID  TOW_ID  SPRZ_NETTO  ZYSK_PROCENT ZYSK_WART\n",
       "0    01.05.2022       1       1       416.0             9     37,44\n",
       "1    02.05.2022       1       1       454.0             2      9,08\n",
       "2    03.05.2022       1       1       392.0            13     50,96\n",
       "3    04.05.2022       1       1       498.0             9     44,82\n",
       "4    05.05.2022       1       1       341.0            15     51,15\n",
       "..          ...     ...     ...         ...           ...       ...\n",
       "130  11.05.2022       3       3       374.0             7     26,18\n",
       "131  12.05.2022       3       3       390.0             4      15,6\n",
       "132  13.05.2022       3       3       485.0            10      48,5\n",
       "133  14.05.2022       3       3       479.0             3     14,37\n",
       "134  15.05.2022       3       3       366.0            13     47,58\n",
       "\n",
       "[135 rows x 6 columns]"
      ]
     },
     "execution_count": 24,
     "metadata": {},
     "output_type": "execute_result"
    }
   ],
   "source": [
    "dane_sprzedaz_df = pd.read_csv('data/dane_sprzedaz.csv', sep=',', encoding='utf-8')\n",
    "dane_sprzedaz_df"
   ]
  },
  {
   "cell_type": "code",
   "execution_count": 28,
   "id": "f1c846f1",
   "metadata": {},
   "outputs": [
    {
     "name": "stdout",
     "output_type": "stream",
     "text": [
      "<class 'pandas.core.frame.DataFrame'>\n",
      "RangeIndex: 135 entries, 0 to 134\n",
      "Data columns (total 6 columns):\n",
      " #   Column        Non-Null Count  Dtype  \n",
      "---  ------        --------------  -----  \n",
      " 0   DZIEN_DATA    135 non-null    object \n",
      " 1   SKL_ID        135 non-null    int64  \n",
      " 2   TOW_ID        135 non-null    int64  \n",
      " 3   SPRZ_NETTO    133 non-null    float64\n",
      " 4   ZYSK_PROCENT  135 non-null    int64  \n",
      " 5   ZYSK_WART     135 non-null    object \n",
      "dtypes: float64(1), int64(3), object(2)\n",
      "memory usage: 6.5+ KB\n"
     ]
    }
   ],
   "source": [
    "dane_sprzedaz_df.info()"
   ]
  },
  {
   "cell_type": "code",
   "execution_count": 25,
   "id": "47ee879a",
   "metadata": {},
   "outputs": [
    {
     "data": {
      "text/html": [
       "<div>\n",
       "<style scoped>\n",
       "    .dataframe tbody tr th:only-of-type {\n",
       "        vertical-align: middle;\n",
       "    }\n",
       "\n",
       "    .dataframe tbody tr th {\n",
       "        vertical-align: top;\n",
       "    }\n",
       "\n",
       "    .dataframe thead th {\n",
       "        text-align: right;\n",
       "    }\n",
       "</style>\n",
       "<table border=\"1\" class=\"dataframe\">\n",
       "  <thead>\n",
       "    <tr style=\"text-align: right;\">\n",
       "      <th></th>\n",
       "      <th>SKL_ID</th>\n",
       "      <th>TOW_ID</th>\n",
       "      <th>SPRZ_NETTO</th>\n",
       "      <th>ZYSK_PROCENT</th>\n",
       "    </tr>\n",
       "  </thead>\n",
       "  <tbody>\n",
       "    <tr>\n",
       "      <th>count</th>\n",
       "      <td>135.000000</td>\n",
       "      <td>135.000000</td>\n",
       "      <td>133.000000</td>\n",
       "      <td>135.000000</td>\n",
       "    </tr>\n",
       "    <tr>\n",
       "      <th>mean</th>\n",
       "      <td>2.000000</td>\n",
       "      <td>2.000000</td>\n",
       "      <td>397.473684</td>\n",
       "      <td>7.659259</td>\n",
       "    </tr>\n",
       "    <tr>\n",
       "      <th>std</th>\n",
       "      <td>0.819538</td>\n",
       "      <td>0.819538</td>\n",
       "      <td>54.623724</td>\n",
       "      <td>4.044829</td>\n",
       "    </tr>\n",
       "    <tr>\n",
       "      <th>min</th>\n",
       "      <td>1.000000</td>\n",
       "      <td>1.000000</td>\n",
       "      <td>300.000000</td>\n",
       "      <td>1.000000</td>\n",
       "    </tr>\n",
       "    <tr>\n",
       "      <th>25%</th>\n",
       "      <td>1.000000</td>\n",
       "      <td>1.000000</td>\n",
       "      <td>356.000000</td>\n",
       "      <td>4.000000</td>\n",
       "    </tr>\n",
       "    <tr>\n",
       "      <th>50%</th>\n",
       "      <td>2.000000</td>\n",
       "      <td>2.000000</td>\n",
       "      <td>390.000000</td>\n",
       "      <td>7.000000</td>\n",
       "    </tr>\n",
       "    <tr>\n",
       "      <th>75%</th>\n",
       "      <td>3.000000</td>\n",
       "      <td>3.000000</td>\n",
       "      <td>443.000000</td>\n",
       "      <td>11.000000</td>\n",
       "    </tr>\n",
       "    <tr>\n",
       "      <th>max</th>\n",
       "      <td>3.000000</td>\n",
       "      <td>3.000000</td>\n",
       "      <td>498.000000</td>\n",
       "      <td>15.000000</td>\n",
       "    </tr>\n",
       "  </tbody>\n",
       "</table>\n",
       "</div>"
      ],
      "text/plain": [
       "           SKL_ID      TOW_ID  SPRZ_NETTO  ZYSK_PROCENT\n",
       "count  135.000000  135.000000  133.000000    135.000000\n",
       "mean     2.000000    2.000000  397.473684      7.659259\n",
       "std      0.819538    0.819538   54.623724      4.044829\n",
       "min      1.000000    1.000000  300.000000      1.000000\n",
       "25%      1.000000    1.000000  356.000000      4.000000\n",
       "50%      2.000000    2.000000  390.000000      7.000000\n",
       "75%      3.000000    3.000000  443.000000     11.000000\n",
       "max      3.000000    3.000000  498.000000     15.000000"
      ]
     },
     "execution_count": 25,
     "metadata": {},
     "output_type": "execute_result"
    }
   ],
   "source": [
    "dane_sprzedaz_df.describe()"
   ]
  },
  {
   "cell_type": "code",
   "execution_count": 29,
   "id": "210e2336",
   "metadata": {},
   "outputs": [
    {
     "data": {
      "text/html": [
       "<div>\n",
       "<style scoped>\n",
       "    .dataframe tbody tr th:only-of-type {\n",
       "        vertical-align: middle;\n",
       "    }\n",
       "\n",
       "    .dataframe tbody tr th {\n",
       "        vertical-align: top;\n",
       "    }\n",
       "\n",
       "    .dataframe thead th {\n",
       "        text-align: right;\n",
       "    }\n",
       "</style>\n",
       "<table border=\"1\" class=\"dataframe\">\n",
       "  <thead>\n",
       "    <tr style=\"text-align: right;\">\n",
       "      <th></th>\n",
       "      <th>A</th>\n",
       "      <th>B</th>\n",
       "      <th>C</th>\n",
       "      <th>D</th>\n",
       "    </tr>\n",
       "  </thead>\n",
       "  <tbody>\n",
       "    <tr>\n",
       "      <th>2013-01-01</th>\n",
       "      <td>1.704851</td>\n",
       "      <td>-0.525659</td>\n",
       "      <td>0.819931</td>\n",
       "      <td>0.639669</td>\n",
       "    </tr>\n",
       "    <tr>\n",
       "      <th>2013-01-02</th>\n",
       "      <td>-0.717840</td>\n",
       "      <td>0.098022</td>\n",
       "      <td>2.812076</td>\n",
       "      <td>-1.093931</td>\n",
       "    </tr>\n",
       "    <tr>\n",
       "      <th>2013-01-03</th>\n",
       "      <td>-1.021685</td>\n",
       "      <td>0.593370</td>\n",
       "      <td>-0.506115</td>\n",
       "      <td>1.466346</td>\n",
       "    </tr>\n",
       "    <tr>\n",
       "      <th>2013-01-04</th>\n",
       "      <td>0.846103</td>\n",
       "      <td>-1.621606</td>\n",
       "      <td>1.206899</td>\n",
       "      <td>-0.116004</td>\n",
       "    </tr>\n",
       "    <tr>\n",
       "      <th>2013-01-05</th>\n",
       "      <td>0.220643</td>\n",
       "      <td>-0.231653</td>\n",
       "      <td>1.865159</td>\n",
       "      <td>-0.314346</td>\n",
       "    </tr>\n",
       "    <tr>\n",
       "      <th>2013-01-06</th>\n",
       "      <td>1.229805</td>\n",
       "      <td>0.694843</td>\n",
       "      <td>-0.229361</td>\n",
       "      <td>-1.471800</td>\n",
       "    </tr>\n",
       "  </tbody>\n",
       "</table>\n",
       "</div>"
      ],
      "text/plain": [
       "                   A         B         C         D\n",
       "2013-01-01  1.704851 -0.525659  0.819931  0.639669\n",
       "2013-01-02 -0.717840  0.098022  2.812076 -1.093931\n",
       "2013-01-03 -1.021685  0.593370 -0.506115  1.466346\n",
       "2013-01-04  0.846103 -1.621606  1.206899 -0.116004\n",
       "2013-01-05  0.220643 -0.231653  1.865159 -0.314346\n",
       "2013-01-06  1.229805  0.694843 -0.229361 -1.471800"
      ]
     },
     "execution_count": 29,
     "metadata": {},
     "output_type": "execute_result"
    }
   ],
   "source": [
    "df = pd.DataFrame(np.random.randn(6,4),\n",
    "                 index=dates,\n",
    "                 columns=list('ABCD'))\n",
    "df"
   ]
  },
  {
   "cell_type": "code",
   "execution_count": 32,
   "id": "970c2fd1",
   "metadata": {},
   "outputs": [
    {
     "data": {
      "text/html": [
       "<div>\n",
       "<style scoped>\n",
       "    .dataframe tbody tr th:only-of-type {\n",
       "        vertical-align: middle;\n",
       "    }\n",
       "\n",
       "    .dataframe tbody tr th {\n",
       "        vertical-align: top;\n",
       "    }\n",
       "\n",
       "    .dataframe thead th {\n",
       "        text-align: right;\n",
       "    }\n",
       "</style>\n",
       "<table border=\"1\" class=\"dataframe\">\n",
       "  <thead>\n",
       "    <tr style=\"text-align: right;\">\n",
       "      <th></th>\n",
       "      <th>A</th>\n",
       "      <th>B</th>\n",
       "      <th>C</th>\n",
       "      <th>D</th>\n",
       "    </tr>\n",
       "  </thead>\n",
       "  <tbody>\n",
       "    <tr>\n",
       "      <th>2013-01-01</th>\n",
       "      <td>1.704851</td>\n",
       "      <td>-0.525659</td>\n",
       "      <td>0.819931</td>\n",
       "      <td>0.639669</td>\n",
       "    </tr>\n",
       "    <tr>\n",
       "      <th>2013-01-02</th>\n",
       "      <td>-0.717840</td>\n",
       "      <td>0.098022</td>\n",
       "      <td>2.812076</td>\n",
       "      <td>-1.093931</td>\n",
       "    </tr>\n",
       "    <tr>\n",
       "      <th>2013-01-03</th>\n",
       "      <td>-1.021685</td>\n",
       "      <td>0.593370</td>\n",
       "      <td>-0.506115</td>\n",
       "      <td>1.466346</td>\n",
       "    </tr>\n",
       "    <tr>\n",
       "      <th>2013-01-04</th>\n",
       "      <td>0.846103</td>\n",
       "      <td>-1.621606</td>\n",
       "      <td>1.206899</td>\n",
       "      <td>-0.116004</td>\n",
       "    </tr>\n",
       "  </tbody>\n",
       "</table>\n",
       "</div>"
      ],
      "text/plain": [
       "                   A         B         C         D\n",
       "2013-01-01  1.704851 -0.525659  0.819931  0.639669\n",
       "2013-01-02 -0.717840  0.098022  2.812076 -1.093931\n",
       "2013-01-03 -1.021685  0.593370 -0.506115  1.466346\n",
       "2013-01-04  0.846103 -1.621606  1.206899 -0.116004"
      ]
     },
     "execution_count": 32,
     "metadata": {},
     "output_type": "execute_result"
    }
   ],
   "source": [
    "df.head(4)"
   ]
  },
  {
   "cell_type": "code",
   "execution_count": 36,
   "id": "e80ccfd9",
   "metadata": {},
   "outputs": [
    {
     "data": {
      "text/html": [
       "<div>\n",
       "<style scoped>\n",
       "    .dataframe tbody tr th:only-of-type {\n",
       "        vertical-align: middle;\n",
       "    }\n",
       "\n",
       "    .dataframe tbody tr th {\n",
       "        vertical-align: top;\n",
       "    }\n",
       "\n",
       "    .dataframe thead th {\n",
       "        text-align: right;\n",
       "    }\n",
       "</style>\n",
       "<table border=\"1\" class=\"dataframe\">\n",
       "  <thead>\n",
       "    <tr style=\"text-align: right;\">\n",
       "      <th></th>\n",
       "      <th>A</th>\n",
       "      <th>B</th>\n",
       "      <th>C</th>\n",
       "      <th>D</th>\n",
       "    </tr>\n",
       "  </thead>\n",
       "  <tbody>\n",
       "    <tr>\n",
       "      <th>2013-01-02</th>\n",
       "      <td>-0.717840</td>\n",
       "      <td>0.098022</td>\n",
       "      <td>2.812076</td>\n",
       "      <td>-1.093931</td>\n",
       "    </tr>\n",
       "    <tr>\n",
       "      <th>2013-01-03</th>\n",
       "      <td>-1.021685</td>\n",
       "      <td>0.593370</td>\n",
       "      <td>-0.506115</td>\n",
       "      <td>1.466346</td>\n",
       "    </tr>\n",
       "    <tr>\n",
       "      <th>2013-01-04</th>\n",
       "      <td>0.846103</td>\n",
       "      <td>-1.621606</td>\n",
       "      <td>1.206899</td>\n",
       "      <td>-0.116004</td>\n",
       "    </tr>\n",
       "    <tr>\n",
       "      <th>2013-01-05</th>\n",
       "      <td>0.220643</td>\n",
       "      <td>-0.231653</td>\n",
       "      <td>1.865159</td>\n",
       "      <td>-0.314346</td>\n",
       "    </tr>\n",
       "    <tr>\n",
       "      <th>2013-01-06</th>\n",
       "      <td>1.229805</td>\n",
       "      <td>0.694843</td>\n",
       "      <td>-0.229361</td>\n",
       "      <td>-1.471800</td>\n",
       "    </tr>\n",
       "  </tbody>\n",
       "</table>\n",
       "</div>"
      ],
      "text/plain": [
       "                   A         B         C         D\n",
       "2013-01-02 -0.717840  0.098022  2.812076 -1.093931\n",
       "2013-01-03 -1.021685  0.593370 -0.506115  1.466346\n",
       "2013-01-04  0.846103 -1.621606  1.206899 -0.116004\n",
       "2013-01-05  0.220643 -0.231653  1.865159 -0.314346\n",
       "2013-01-06  1.229805  0.694843 -0.229361 -1.471800"
      ]
     },
     "execution_count": 36,
     "metadata": {},
     "output_type": "execute_result"
    }
   ],
   "source": [
    "df.tail()"
   ]
  },
  {
   "cell_type": "code",
   "execution_count": 37,
   "id": "10b0a3db",
   "metadata": {},
   "outputs": [
    {
     "data": {
      "text/plain": [
       "array([[ 1.70485067, -0.52565887,  0.81993106,  0.63966908],\n",
       "       [-0.71783996,  0.09802216,  2.81207574, -1.09393061],\n",
       "       [-1.02168467,  0.59336995, -0.50611546,  1.4663457 ],\n",
       "       [ 0.84610257, -1.62160584,  1.20689898, -0.11600352],\n",
       "       [ 0.22064329, -0.23165253,  1.86515911, -0.31434575],\n",
       "       [ 1.22980491,  0.69484316, -0.22936085, -1.47180013]])"
      ]
     },
     "execution_count": 37,
     "metadata": {},
     "output_type": "execute_result"
    }
   ],
   "source": [
    "df.values"
   ]
  },
  {
   "cell_type": "code",
   "execution_count": 38,
   "id": "0af6323b",
   "metadata": {},
   "outputs": [
    {
     "data": {
      "text/plain": [
       "Index(['A', 'B', 'C', 'D'], dtype='object')"
      ]
     },
     "execution_count": 38,
     "metadata": {},
     "output_type": "execute_result"
    }
   ],
   "source": [
    "df.columns"
   ]
  },
  {
   "cell_type": "code",
   "execution_count": 39,
   "id": "0ed4e05f",
   "metadata": {},
   "outputs": [
    {
     "name": "stdout",
     "output_type": "stream",
     "text": [
      "   Column_A  Column_B  Column_C\n",
      "0        11        22        33\n",
      "1        44        55        66\n",
      "<class 'pandas.core.frame.DataFrame'>\n"
     ]
    }
   ],
   "source": [
    "import numpy as np\n",
    "import pandas as pd\n",
    "\n",
    "my_array = np.array([[11,22,33],[44,55,66]])\n",
    "\n",
    "df_numpy = pd.DataFrame(my_array, columns = ['Column_A','Column_B','Column_C'])\n",
    "\n",
    "print(df_numpy)\n",
    "print(type(df_numpy))"
   ]
  },
  {
   "cell_type": "code",
   "execution_count": 40,
   "id": "53f44f63",
   "metadata": {},
   "outputs": [
    {
     "data": {
      "text/html": [
       "<div>\n",
       "<style scoped>\n",
       "    .dataframe tbody tr th:only-of-type {\n",
       "        vertical-align: middle;\n",
       "    }\n",
       "\n",
       "    .dataframe tbody tr th {\n",
       "        vertical-align: top;\n",
       "    }\n",
       "\n",
       "    .dataframe thead th {\n",
       "        text-align: right;\n",
       "    }\n",
       "</style>\n",
       "<table border=\"1\" class=\"dataframe\">\n",
       "  <thead>\n",
       "    <tr style=\"text-align: right;\">\n",
       "      <th></th>\n",
       "      <th>col_1</th>\n",
       "      <th>col_2</th>\n",
       "    </tr>\n",
       "  </thead>\n",
       "  <tbody>\n",
       "    <tr>\n",
       "      <th>0</th>\n",
       "      <td>3</td>\n",
       "      <td>a</td>\n",
       "    </tr>\n",
       "    <tr>\n",
       "      <th>1</th>\n",
       "      <td>2</td>\n",
       "      <td>b</td>\n",
       "    </tr>\n",
       "    <tr>\n",
       "      <th>2</th>\n",
       "      <td>1</td>\n",
       "      <td>c</td>\n",
       "    </tr>\n",
       "    <tr>\n",
       "      <th>3</th>\n",
       "      <td>0</td>\n",
       "      <td>d</td>\n",
       "    </tr>\n",
       "  </tbody>\n",
       "</table>\n",
       "</div>"
      ],
      "text/plain": [
       "   col_1 col_2\n",
       "0      3     a\n",
       "1      2     b\n",
       "2      1     c\n",
       "3      0     d"
      ]
     },
     "execution_count": 40,
     "metadata": {},
     "output_type": "execute_result"
    }
   ],
   "source": [
    "data = {\n",
    "        'col_1': [3, 2, 1, 0], \n",
    "        'col_2': ['a', 'b', 'c', 'd']\n",
    "        }\n",
    "pd.DataFrame.from_dict(data)"
   ]
  },
  {
   "cell_type": "code",
   "execution_count": 41,
   "id": "a929e04a",
   "metadata": {},
   "outputs": [
    {
     "data": {
      "text/html": [
       "<div>\n",
       "<style scoped>\n",
       "    .dataframe tbody tr th:only-of-type {\n",
       "        vertical-align: middle;\n",
       "    }\n",
       "\n",
       "    .dataframe tbody tr th {\n",
       "        vertical-align: top;\n",
       "    }\n",
       "\n",
       "    .dataframe thead th {\n",
       "        text-align: right;\n",
       "    }\n",
       "</style>\n",
       "<table border=\"1\" class=\"dataframe\">\n",
       "  <thead>\n",
       "    <tr style=\"text-align: right;\">\n",
       "      <th></th>\n",
       "      <th>A</th>\n",
       "      <th>B</th>\n",
       "      <th>C</th>\n",
       "      <th>D</th>\n",
       "    </tr>\n",
       "  </thead>\n",
       "  <tbody>\n",
       "    <tr>\n",
       "      <th>2013-01-01</th>\n",
       "      <td>1.704851</td>\n",
       "      <td>-0.525659</td>\n",
       "      <td>0.819931</td>\n",
       "      <td>0.639669</td>\n",
       "    </tr>\n",
       "    <tr>\n",
       "      <th>2013-01-02</th>\n",
       "      <td>-0.717840</td>\n",
       "      <td>0.098022</td>\n",
       "      <td>2.812076</td>\n",
       "      <td>-1.093931</td>\n",
       "    </tr>\n",
       "    <tr>\n",
       "      <th>2013-01-03</th>\n",
       "      <td>-1.021685</td>\n",
       "      <td>0.593370</td>\n",
       "      <td>-0.506115</td>\n",
       "      <td>1.466346</td>\n",
       "    </tr>\n",
       "    <tr>\n",
       "      <th>2013-01-04</th>\n",
       "      <td>0.846103</td>\n",
       "      <td>-1.621606</td>\n",
       "      <td>1.206899</td>\n",
       "      <td>-0.116004</td>\n",
       "    </tr>\n",
       "    <tr>\n",
       "      <th>2013-01-05</th>\n",
       "      <td>0.220643</td>\n",
       "      <td>-0.231653</td>\n",
       "      <td>1.865159</td>\n",
       "      <td>-0.314346</td>\n",
       "    </tr>\n",
       "    <tr>\n",
       "      <th>2013-01-06</th>\n",
       "      <td>1.229805</td>\n",
       "      <td>0.694843</td>\n",
       "      <td>-0.229361</td>\n",
       "      <td>-1.471800</td>\n",
       "    </tr>\n",
       "  </tbody>\n",
       "</table>\n",
       "</div>"
      ],
      "text/plain": [
       "                   A         B         C         D\n",
       "2013-01-01  1.704851 -0.525659  0.819931  0.639669\n",
       "2013-01-02 -0.717840  0.098022  2.812076 -1.093931\n",
       "2013-01-03 -1.021685  0.593370 -0.506115  1.466346\n",
       "2013-01-04  0.846103 -1.621606  1.206899 -0.116004\n",
       "2013-01-05  0.220643 -0.231653  1.865159 -0.314346\n",
       "2013-01-06  1.229805  0.694843 -0.229361 -1.471800"
      ]
     },
     "execution_count": 41,
     "metadata": {},
     "output_type": "execute_result"
    }
   ],
   "source": [
    "df"
   ]
  },
  {
   "cell_type": "code",
   "execution_count": 42,
   "id": "3240d258",
   "metadata": {},
   "outputs": [
    {
     "data": {
      "text/plain": [
       "(6, 4)"
      ]
     },
     "execution_count": 42,
     "metadata": {},
     "output_type": "execute_result"
    }
   ],
   "source": [
    "df.shape"
   ]
  },
  {
   "cell_type": "code",
   "execution_count": 43,
   "id": "c27e58c6",
   "metadata": {},
   "outputs": [
    {
     "data": {
      "text/plain": [
       "24"
      ]
     },
     "execution_count": 43,
     "metadata": {},
     "output_type": "execute_result"
    }
   ],
   "source": [
    "df.size"
   ]
  },
  {
   "cell_type": "code",
   "execution_count": 44,
   "id": "16c30808",
   "metadata": {},
   "outputs": [
    {
     "data": {
      "text/plain": [
       "6"
      ]
     },
     "execution_count": 44,
     "metadata": {},
     "output_type": "execute_result"
    }
   ],
   "source": [
    "len(df)"
   ]
  },
  {
   "cell_type": "code",
   "execution_count": 46,
   "id": "fff41b7f",
   "metadata": {},
   "outputs": [
    {
     "data": {
      "text/html": [
       "<div>\n",
       "<style scoped>\n",
       "    .dataframe tbody tr th:only-of-type {\n",
       "        vertical-align: middle;\n",
       "    }\n",
       "\n",
       "    .dataframe tbody tr th {\n",
       "        vertical-align: top;\n",
       "    }\n",
       "\n",
       "    .dataframe thead th {\n",
       "        text-align: right;\n",
       "    }\n",
       "</style>\n",
       "<table border=\"1\" class=\"dataframe\">\n",
       "  <thead>\n",
       "    <tr style=\"text-align: right;\">\n",
       "      <th></th>\n",
       "      <th>A</th>\n",
       "      <th>B</th>\n",
       "      <th>C</th>\n",
       "      <th>D</th>\n",
       "    </tr>\n",
       "  </thead>\n",
       "  <tbody>\n",
       "    <tr>\n",
       "      <th>2013-01-03</th>\n",
       "      <td>-1.021685</td>\n",
       "      <td>0.593370</td>\n",
       "      <td>-0.506115</td>\n",
       "      <td>1.466346</td>\n",
       "    </tr>\n",
       "    <tr>\n",
       "      <th>2013-01-05</th>\n",
       "      <td>0.220643</td>\n",
       "      <td>-0.231653</td>\n",
       "      <td>1.865159</td>\n",
       "      <td>-0.314346</td>\n",
       "    </tr>\n",
       "  </tbody>\n",
       "</table>\n",
       "</div>"
      ],
      "text/plain": [
       "                   A         B         C         D\n",
       "2013-01-03 -1.021685  0.593370 -0.506115  1.466346\n",
       "2013-01-05  0.220643 -0.231653  1.865159 -0.314346"
      ]
     },
     "execution_count": 46,
     "metadata": {},
     "output_type": "execute_result"
    }
   ],
   "source": [
    "df.sample(2)"
   ]
  },
  {
   "cell_type": "code",
   "execution_count": 48,
   "id": "c7d861c5",
   "metadata": {},
   "outputs": [
    {
     "data": {
      "text/plain": [
       "A    float64\n",
       "B    float64\n",
       "C    float64\n",
       "D    float64\n",
       "dtype: object"
      ]
     },
     "execution_count": 48,
     "metadata": {},
     "output_type": "execute_result"
    }
   ],
   "source": [
    "df.dtypes"
   ]
  },
  {
   "cell_type": "code",
   "execution_count": 49,
   "id": "5bf9b1da",
   "metadata": {},
   "outputs": [
    {
     "data": {
      "text/plain": [
       "pandas.core.frame.DataFrame"
      ]
     },
     "execution_count": 49,
     "metadata": {},
     "output_type": "execute_result"
    }
   ],
   "source": [
    "type(df)"
   ]
  },
  {
   "cell_type": "code",
   "execution_count": 51,
   "id": "dc01d06f",
   "metadata": {},
   "outputs": [
    {
     "data": {
      "text/plain": [
       "pandas.core.series.Series"
      ]
     },
     "execution_count": 51,
     "metadata": {},
     "output_type": "execute_result"
    }
   ],
   "source": [
    "type(df.A) #chcecking out the type of specific column!"
   ]
  },
  {
   "cell_type": "code",
   "execution_count": 52,
   "id": "239f5f6b",
   "metadata": {},
   "outputs": [
    {
     "data": {
      "text/plain": [
       "2013-01-01    1.704851\n",
       "2013-01-02   -0.717840\n",
       "2013-01-03   -1.021685\n",
       "2013-01-04    0.846103\n",
       "2013-01-05    0.220643\n",
       "2013-01-06    1.229805\n",
       "Freq: D, Name: A, dtype: float64"
      ]
     },
     "execution_count": 52,
     "metadata": {},
     "output_type": "execute_result"
    }
   ],
   "source": [
    "df.A #Chcecking out "
   ]
  },
  {
   "cell_type": "code",
   "execution_count": 53,
   "id": "914049e9",
   "metadata": {},
   "outputs": [
    {
     "data": {
      "text/html": [
       "<div>\n",
       "<style scoped>\n",
       "    .dataframe tbody tr th:only-of-type {\n",
       "        vertical-align: middle;\n",
       "    }\n",
       "\n",
       "    .dataframe tbody tr th {\n",
       "        vertical-align: top;\n",
       "    }\n",
       "\n",
       "    .dataframe thead th {\n",
       "        text-align: right;\n",
       "    }\n",
       "</style>\n",
       "<table border=\"1\" class=\"dataframe\">\n",
       "  <thead>\n",
       "    <tr style=\"text-align: right;\">\n",
       "      <th></th>\n",
       "      <th>2013-01-01</th>\n",
       "      <th>2013-01-02</th>\n",
       "      <th>2013-01-03</th>\n",
       "      <th>2013-01-04</th>\n",
       "      <th>2013-01-05</th>\n",
       "      <th>2013-01-06</th>\n",
       "    </tr>\n",
       "  </thead>\n",
       "  <tbody>\n",
       "    <tr>\n",
       "      <th>A</th>\n",
       "      <td>1.704851</td>\n",
       "      <td>-0.717840</td>\n",
       "      <td>-1.021685</td>\n",
       "      <td>0.846103</td>\n",
       "      <td>0.220643</td>\n",
       "      <td>1.229805</td>\n",
       "    </tr>\n",
       "    <tr>\n",
       "      <th>B</th>\n",
       "      <td>-0.525659</td>\n",
       "      <td>0.098022</td>\n",
       "      <td>0.593370</td>\n",
       "      <td>-1.621606</td>\n",
       "      <td>-0.231653</td>\n",
       "      <td>0.694843</td>\n",
       "    </tr>\n",
       "    <tr>\n",
       "      <th>C</th>\n",
       "      <td>0.819931</td>\n",
       "      <td>2.812076</td>\n",
       "      <td>-0.506115</td>\n",
       "      <td>1.206899</td>\n",
       "      <td>1.865159</td>\n",
       "      <td>-0.229361</td>\n",
       "    </tr>\n",
       "    <tr>\n",
       "      <th>D</th>\n",
       "      <td>0.639669</td>\n",
       "      <td>-1.093931</td>\n",
       "      <td>1.466346</td>\n",
       "      <td>-0.116004</td>\n",
       "      <td>-0.314346</td>\n",
       "      <td>-1.471800</td>\n",
       "    </tr>\n",
       "  </tbody>\n",
       "</table>\n",
       "</div>"
      ],
      "text/plain": [
       "   2013-01-01  2013-01-02  2013-01-03  2013-01-04  2013-01-05  2013-01-06\n",
       "A    1.704851   -0.717840   -1.021685    0.846103    0.220643    1.229805\n",
       "B   -0.525659    0.098022    0.593370   -1.621606   -0.231653    0.694843\n",
       "C    0.819931    2.812076   -0.506115    1.206899    1.865159   -0.229361\n",
       "D    0.639669   -1.093931    1.466346   -0.116004   -0.314346   -1.471800"
      ]
     },
     "execution_count": 53,
     "metadata": {},
     "output_type": "execute_result"
    }
   ],
   "source": [
    "df.T #Transposition - changing columns with rows "
   ]
  },
  {
   "cell_type": "code",
   "execution_count": 55,
   "id": "b4700e4f",
   "metadata": {},
   "outputs": [],
   "source": [
    "df_sample = df.sample(2)"
   ]
  },
  {
   "cell_type": "code",
   "execution_count": 68,
   "id": "1f23fc97",
   "metadata": {},
   "outputs": [
    {
     "data": {
      "text/html": [
       "<div>\n",
       "<style scoped>\n",
       "    .dataframe tbody tr th:only-of-type {\n",
       "        vertical-align: middle;\n",
       "    }\n",
       "\n",
       "    .dataframe tbody tr th {\n",
       "        vertical-align: top;\n",
       "    }\n",
       "\n",
       "    .dataframe thead th {\n",
       "        text-align: right;\n",
       "    }\n",
       "</style>\n",
       "<table border=\"1\" class=\"dataframe\">\n",
       "  <thead>\n",
       "    <tr style=\"text-align: right;\">\n",
       "      <th></th>\n",
       "      <th>A</th>\n",
       "      <th>B</th>\n",
       "      <th>C</th>\n",
       "      <th>D</th>\n",
       "    </tr>\n",
       "  </thead>\n",
       "  <tbody>\n",
       "    <tr>\n",
       "      <th>2013-01-04</th>\n",
       "      <td>0.846103</td>\n",
       "      <td>-1.621606</td>\n",
       "      <td>1.206899</td>\n",
       "      <td>-0.116004</td>\n",
       "    </tr>\n",
       "    <tr>\n",
       "      <th>2013-01-01</th>\n",
       "      <td>1.704851</td>\n",
       "      <td>-0.525659</td>\n",
       "      <td>0.819931</td>\n",
       "      <td>0.639669</td>\n",
       "    </tr>\n",
       "    <tr>\n",
       "      <th>2013-01-05</th>\n",
       "      <td>0.220643</td>\n",
       "      <td>-0.231653</td>\n",
       "      <td>1.865159</td>\n",
       "      <td>-0.314346</td>\n",
       "    </tr>\n",
       "    <tr>\n",
       "      <th>2013-01-02</th>\n",
       "      <td>-0.717840</td>\n",
       "      <td>0.098022</td>\n",
       "      <td>2.812076</td>\n",
       "      <td>-1.093931</td>\n",
       "    </tr>\n",
       "    <tr>\n",
       "      <th>2013-01-03</th>\n",
       "      <td>-1.021685</td>\n",
       "      <td>0.593370</td>\n",
       "      <td>-0.506115</td>\n",
       "      <td>1.466346</td>\n",
       "    </tr>\n",
       "    <tr>\n",
       "      <th>2013-01-06</th>\n",
       "      <td>1.229805</td>\n",
       "      <td>0.694843</td>\n",
       "      <td>-0.229361</td>\n",
       "      <td>-1.471800</td>\n",
       "    </tr>\n",
       "  </tbody>\n",
       "</table>\n",
       "</div>"
      ],
      "text/plain": [
       "                   A         B         C         D\n",
       "2013-01-04  0.846103 -1.621606  1.206899 -0.116004\n",
       "2013-01-01  1.704851 -0.525659  0.819931  0.639669\n",
       "2013-01-05  0.220643 -0.231653  1.865159 -0.314346\n",
       "2013-01-02 -0.717840  0.098022  2.812076 -1.093931\n",
       "2013-01-03 -1.021685  0.593370 -0.506115  1.466346\n",
       "2013-01-06  1.229805  0.694843 -0.229361 -1.471800"
      ]
     },
     "execution_count": 68,
     "metadata": {},
     "output_type": "execute_result"
    }
   ],
   "source": [
    "df.sort_values(by=\"B\", ascending = True)"
   ]
  },
  {
   "cell_type": "code",
   "execution_count": 69,
   "id": "9123d7d2",
   "metadata": {},
   "outputs": [
    {
     "data": {
      "text/html": [
       "<div>\n",
       "<style scoped>\n",
       "    .dataframe tbody tr th:only-of-type {\n",
       "        vertical-align: middle;\n",
       "    }\n",
       "\n",
       "    .dataframe tbody tr th {\n",
       "        vertical-align: top;\n",
       "    }\n",
       "\n",
       "    .dataframe thead th {\n",
       "        text-align: right;\n",
       "    }\n",
       "</style>\n",
       "<table border=\"1\" class=\"dataframe\">\n",
       "  <thead>\n",
       "    <tr style=\"text-align: right;\">\n",
       "      <th></th>\n",
       "      <th>A</th>\n",
       "      <th>B</th>\n",
       "      <th>C</th>\n",
       "      <th>D</th>\n",
       "    </tr>\n",
       "  </thead>\n",
       "  <tbody>\n",
       "    <tr>\n",
       "      <th>2013-01-01</th>\n",
       "      <td>1.704851</td>\n",
       "      <td>-0.525659</td>\n",
       "      <td>0.819931</td>\n",
       "      <td>0.639669</td>\n",
       "    </tr>\n",
       "    <tr>\n",
       "      <th>2013-01-02</th>\n",
       "      <td>-0.717840</td>\n",
       "      <td>0.098022</td>\n",
       "      <td>2.812076</td>\n",
       "      <td>-1.093931</td>\n",
       "    </tr>\n",
       "    <tr>\n",
       "      <th>2013-01-03</th>\n",
       "      <td>-1.021685</td>\n",
       "      <td>0.593370</td>\n",
       "      <td>-0.506115</td>\n",
       "      <td>1.466346</td>\n",
       "    </tr>\n",
       "    <tr>\n",
       "      <th>2013-01-04</th>\n",
       "      <td>0.846103</td>\n",
       "      <td>-1.621606</td>\n",
       "      <td>1.206899</td>\n",
       "      <td>-0.116004</td>\n",
       "    </tr>\n",
       "    <tr>\n",
       "      <th>2013-01-05</th>\n",
       "      <td>0.220643</td>\n",
       "      <td>-0.231653</td>\n",
       "      <td>1.865159</td>\n",
       "      <td>-0.314346</td>\n",
       "    </tr>\n",
       "    <tr>\n",
       "      <th>2013-01-06</th>\n",
       "      <td>1.229805</td>\n",
       "      <td>0.694843</td>\n",
       "      <td>-0.229361</td>\n",
       "      <td>-1.471800</td>\n",
       "    </tr>\n",
       "  </tbody>\n",
       "</table>\n",
       "</div>"
      ],
      "text/plain": [
       "                   A         B         C         D\n",
       "2013-01-01  1.704851 -0.525659  0.819931  0.639669\n",
       "2013-01-02 -0.717840  0.098022  2.812076 -1.093931\n",
       "2013-01-03 -1.021685  0.593370 -0.506115  1.466346\n",
       "2013-01-04  0.846103 -1.621606  1.206899 -0.116004\n",
       "2013-01-05  0.220643 -0.231653  1.865159 -0.314346\n",
       "2013-01-06  1.229805  0.694843 -0.229361 -1.471800"
      ]
     },
     "execution_count": 69,
     "metadata": {},
     "output_type": "execute_result"
    }
   ],
   "source": [
    "df #data frame bez interwencji"
   ]
  },
  {
   "cell_type": "code",
   "execution_count": 65,
   "id": "4cec8c09",
   "metadata": {},
   "outputs": [
    {
     "data": {
      "text/html": [
       "<div>\n",
       "<style scoped>\n",
       "    .dataframe tbody tr th:only-of-type {\n",
       "        vertical-align: middle;\n",
       "    }\n",
       "\n",
       "    .dataframe tbody tr th {\n",
       "        vertical-align: top;\n",
       "    }\n",
       "\n",
       "    .dataframe thead th {\n",
       "        text-align: right;\n",
       "    }\n",
       "</style>\n",
       "<table border=\"1\" class=\"dataframe\">\n",
       "  <thead>\n",
       "    <tr style=\"text-align: right;\">\n",
       "      <th></th>\n",
       "      <th>A</th>\n",
       "      <th>B</th>\n",
       "      <th>C</th>\n",
       "      <th>D</th>\n",
       "    </tr>\n",
       "  </thead>\n",
       "  <tbody>\n",
       "    <tr>\n",
       "      <th>0</th>\n",
       "      <td>1.704851</td>\n",
       "      <td>-0.525659</td>\n",
       "      <td>0.819931</td>\n",
       "      <td>0.639669</td>\n",
       "    </tr>\n",
       "    <tr>\n",
       "      <th>1</th>\n",
       "      <td>-0.717840</td>\n",
       "      <td>0.098022</td>\n",
       "      <td>2.812076</td>\n",
       "      <td>-1.093931</td>\n",
       "    </tr>\n",
       "    <tr>\n",
       "      <th>2</th>\n",
       "      <td>-1.021685</td>\n",
       "      <td>0.593370</td>\n",
       "      <td>-0.506115</td>\n",
       "      <td>1.466346</td>\n",
       "    </tr>\n",
       "    <tr>\n",
       "      <th>3</th>\n",
       "      <td>0.846103</td>\n",
       "      <td>-1.621606</td>\n",
       "      <td>1.206899</td>\n",
       "      <td>-0.116004</td>\n",
       "    </tr>\n",
       "    <tr>\n",
       "      <th>4</th>\n",
       "      <td>0.220643</td>\n",
       "      <td>-0.231653</td>\n",
       "      <td>1.865159</td>\n",
       "      <td>-0.314346</td>\n",
       "    </tr>\n",
       "    <tr>\n",
       "      <th>5</th>\n",
       "      <td>1.229805</td>\n",
       "      <td>0.694843</td>\n",
       "      <td>-0.229361</td>\n",
       "      <td>-1.471800</td>\n",
       "    </tr>\n",
       "  </tbody>\n",
       "</table>\n",
       "</div>"
      ],
      "text/plain": [
       "          A         B         C         D\n",
       "0  1.704851 -0.525659  0.819931  0.639669\n",
       "1 -0.717840  0.098022  2.812076 -1.093931\n",
       "2 -1.021685  0.593370 -0.506115  1.466346\n",
       "3  0.846103 -1.621606  1.206899 -0.116004\n",
       "4  0.220643 -0.231653  1.865159 -0.314346\n",
       "5  1.229805  0.694843 -0.229361 -1.471800"
      ]
     },
     "execution_count": 65,
     "metadata": {},
     "output_type": "execute_result"
    }
   ],
   "source": [
    "df.reset_index(drop=True) #resetowanie indexu w Data Framie "
   ]
  },
  {
   "cell_type": "code",
   "execution_count": 66,
   "id": "d72a54d6",
   "metadata": {},
   "outputs": [
    {
     "data": {
      "text/html": [
       "<div>\n",
       "<style scoped>\n",
       "    .dataframe tbody tr th:only-of-type {\n",
       "        vertical-align: middle;\n",
       "    }\n",
       "\n",
       "    .dataframe tbody tr th {\n",
       "        vertical-align: top;\n",
       "    }\n",
       "\n",
       "    .dataframe thead th {\n",
       "        text-align: right;\n",
       "    }\n",
       "</style>\n",
       "<table border=\"1\" class=\"dataframe\">\n",
       "  <thead>\n",
       "    <tr style=\"text-align: right;\">\n",
       "      <th></th>\n",
       "      <th>index</th>\n",
       "      <th>A</th>\n",
       "      <th>B</th>\n",
       "      <th>C</th>\n",
       "      <th>D</th>\n",
       "    </tr>\n",
       "  </thead>\n",
       "  <tbody>\n",
       "    <tr>\n",
       "      <th>0</th>\n",
       "      <td>2013-01-01</td>\n",
       "      <td>1.704851</td>\n",
       "      <td>-0.525659</td>\n",
       "      <td>0.819931</td>\n",
       "      <td>0.639669</td>\n",
       "    </tr>\n",
       "    <tr>\n",
       "      <th>1</th>\n",
       "      <td>2013-01-02</td>\n",
       "      <td>-0.717840</td>\n",
       "      <td>0.098022</td>\n",
       "      <td>2.812076</td>\n",
       "      <td>-1.093931</td>\n",
       "    </tr>\n",
       "    <tr>\n",
       "      <th>2</th>\n",
       "      <td>2013-01-03</td>\n",
       "      <td>-1.021685</td>\n",
       "      <td>0.593370</td>\n",
       "      <td>-0.506115</td>\n",
       "      <td>1.466346</td>\n",
       "    </tr>\n",
       "    <tr>\n",
       "      <th>3</th>\n",
       "      <td>2013-01-04</td>\n",
       "      <td>0.846103</td>\n",
       "      <td>-1.621606</td>\n",
       "      <td>1.206899</td>\n",
       "      <td>-0.116004</td>\n",
       "    </tr>\n",
       "    <tr>\n",
       "      <th>4</th>\n",
       "      <td>2013-01-05</td>\n",
       "      <td>0.220643</td>\n",
       "      <td>-0.231653</td>\n",
       "      <td>1.865159</td>\n",
       "      <td>-0.314346</td>\n",
       "    </tr>\n",
       "    <tr>\n",
       "      <th>5</th>\n",
       "      <td>2013-01-06</td>\n",
       "      <td>1.229805</td>\n",
       "      <td>0.694843</td>\n",
       "      <td>-0.229361</td>\n",
       "      <td>-1.471800</td>\n",
       "    </tr>\n",
       "  </tbody>\n",
       "</table>\n",
       "</div>"
      ],
      "text/plain": [
       "       index         A         B         C         D\n",
       "0 2013-01-01  1.704851 -0.525659  0.819931  0.639669\n",
       "1 2013-01-02 -0.717840  0.098022  2.812076 -1.093931\n",
       "2 2013-01-03 -1.021685  0.593370 -0.506115  1.466346\n",
       "3 2013-01-04  0.846103 -1.621606  1.206899 -0.116004\n",
       "4 2013-01-05  0.220643 -0.231653  1.865159 -0.314346\n",
       "5 2013-01-06  1.229805  0.694843 -0.229361 -1.471800"
      ]
     },
     "execution_count": 66,
     "metadata": {},
     "output_type": "execute_result"
    }
   ],
   "source": [
    "df.reset_index(drop=False) #resetowanie indexu w Data Framie "
   ]
  },
  {
   "cell_type": "code",
   "execution_count": 70,
   "id": "dd921ea9",
   "metadata": {},
   "outputs": [
    {
     "data": {
      "text/plain": [
       "A    2.261877\n",
       "B   -0.992682\n",
       "C    5.968589\n",
       "D   -0.890065\n",
       "dtype: float64"
      ]
     },
     "execution_count": 70,
     "metadata": {},
     "output_type": "execute_result"
    }
   ],
   "source": [
    "df.sum()"
   ]
  },
  {
   "cell_type": "code",
   "execution_count": 74,
   "id": "5977e195",
   "metadata": {},
   "outputs": [
    {
     "data": {
      "text/plain": [
       "A   -1.021685\n",
       "B   -1.621606\n",
       "C   -0.506115\n",
       "D   -1.471800\n",
       "dtype: float64"
      ]
     },
     "execution_count": 74,
     "metadata": {},
     "output_type": "execute_result"
    }
   ],
   "source": [
    "df.min()"
   ]
  },
  {
   "cell_type": "code",
   "execution_count": null,
   "id": "d5340e02",
   "metadata": {},
   "outputs": [],
   "source": []
  }
 ],
 "metadata": {
  "kernelspec": {
   "display_name": "Python 3 (ipykernel)",
   "language": "python",
   "name": "python3"
  },
  "language_info": {
   "codemirror_mode": {
    "name": "ipython",
    "version": 3
   },
   "file_extension": ".py",
   "mimetype": "text/x-python",
   "name": "python",
   "nbconvert_exporter": "python",
   "pygments_lexer": "ipython3",
   "version": "3.11.2"
  }
 },
 "nbformat": 4,
 "nbformat_minor": 5
}
