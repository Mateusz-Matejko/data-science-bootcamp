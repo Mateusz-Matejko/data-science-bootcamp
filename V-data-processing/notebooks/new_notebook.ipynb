{
 "cells": [
  {
   "cell_type": "code",
   "execution_count": 14,
   "id": "134fd1d3",
   "metadata": {},
   "outputs": [],
   "source": [
    "import pandas as pd\n",
    "import numpy as np"
   ]
  },
  {
   "cell_type": "code",
   "execution_count": 15,
   "id": "01ab3f55",
   "metadata": {},
   "outputs": [
    {
     "data": {
      "text/html": [
       "<div>\n",
       "<style scoped>\n",
       "    .dataframe tbody tr th:only-of-type {\n",
       "        vertical-align: middle;\n",
       "    }\n",
       "\n",
       "    .dataframe tbody tr th {\n",
       "        vertical-align: top;\n",
       "    }\n",
       "\n",
       "    .dataframe thead th {\n",
       "        text-align: right;\n",
       "    }\n",
       "</style>\n",
       "<table border=\"1\" class=\"dataframe\">\n",
       "  <thead>\n",
       "    <tr style=\"text-align: right;\">\n",
       "      <th></th>\n",
       "      <th>NAZWA</th>\n",
       "      <th>CENA</th>\n",
       "    </tr>\n",
       "  </thead>\n",
       "  <tbody>\n",
       "    <tr>\n",
       "      <th>0</th>\n",
       "      <td>JABŁKA</td>\n",
       "      <td>zł 3.22</td>\n",
       "    </tr>\n",
       "    <tr>\n",
       "      <th>1</th>\n",
       "      <td>GRUSZKI</td>\n",
       "      <td>zł 3.22</td>\n",
       "    </tr>\n",
       "    <tr>\n",
       "      <th>2</th>\n",
       "      <td>MALINY</td>\n",
       "      <td>zł 3.22</td>\n",
       "    </tr>\n",
       "  </tbody>\n",
       "</table>\n",
       "</div>"
      ],
      "text/plain": [
       "     NAZWA     CENA\n",
       "0   JABŁKA  zł 3.22\n",
       "1  GRUSZKI  zł 3.22\n",
       "2   MALINY  zł 3.22"
      ]
     },
     "execution_count": 15,
     "metadata": {},
     "output_type": "execute_result"
    }
   ],
   "source": [
    "df = pd.DataFrame({\n",
    "    'NAZWA': ['JABŁKA', 'GRUSZKI', 'MALINY'],\n",
    "    'CENA': ['zł 3.22', 'zł 3.22',  'zł 3.22']\n",
    "})\n",
    "df"
   ]
  },
  {
   "cell_type": "code",
   "execution_count": 16,
   "id": "faf02460",
   "metadata": {},
   "outputs": [],
   "source": [
    "remove_zl = lambda x: float(x[3:])"
   ]
  },
  {
   "cell_type": "code",
   "execution_count": 17,
   "id": "882f2b68",
   "metadata": {},
   "outputs": [
    {
     "data": {
      "text/html": [
       "<div>\n",
       "<style scoped>\n",
       "    .dataframe tbody tr th:only-of-type {\n",
       "        vertical-align: middle;\n",
       "    }\n",
       "\n",
       "    .dataframe tbody tr th {\n",
       "        vertical-align: top;\n",
       "    }\n",
       "\n",
       "    .dataframe thead th {\n",
       "        text-align: right;\n",
       "    }\n",
       "</style>\n",
       "<table border=\"1\" class=\"dataframe\">\n",
       "  <thead>\n",
       "    <tr style=\"text-align: right;\">\n",
       "      <th></th>\n",
       "      <th>NAZWA</th>\n",
       "      <th>CENA</th>\n",
       "      <th>CENA_W_ZL</th>\n",
       "    </tr>\n",
       "  </thead>\n",
       "  <tbody>\n",
       "    <tr>\n",
       "      <th>0</th>\n",
       "      <td>JABŁKA</td>\n",
       "      <td>zł 3.22</td>\n",
       "      <td>3.22</td>\n",
       "    </tr>\n",
       "    <tr>\n",
       "      <th>1</th>\n",
       "      <td>GRUSZKI</td>\n",
       "      <td>zł 3.22</td>\n",
       "      <td>3.22</td>\n",
       "    </tr>\n",
       "    <tr>\n",
       "      <th>2</th>\n",
       "      <td>MALINY</td>\n",
       "      <td>zł 3.22</td>\n",
       "      <td>3.22</td>\n",
       "    </tr>\n",
       "  </tbody>\n",
       "</table>\n",
       "</div>"
      ],
      "text/plain": [
       "     NAZWA     CENA  CENA_W_ZL\n",
       "0   JABŁKA  zł 3.22       3.22\n",
       "1  GRUSZKI  zł 3.22       3.22\n",
       "2   MALINY  zł 3.22       3.22"
      ]
     },
     "execution_count": 17,
     "metadata": {},
     "output_type": "execute_result"
    }
   ],
   "source": [
    "df['CENA_W_ZL'] = df.CENA.apply(remove_zl)\n",
    "df"
   ]
  },
  {
   "cell_type": "code",
   "execution_count": 18,
   "id": "44c19532",
   "metadata": {},
   "outputs": [
    {
     "data": {
      "text/html": [
       "<div>\n",
       "<style scoped>\n",
       "    .dataframe tbody tr th:only-of-type {\n",
       "        vertical-align: middle;\n",
       "    }\n",
       "\n",
       "    .dataframe tbody tr th {\n",
       "        vertical-align: top;\n",
       "    }\n",
       "\n",
       "    .dataframe thead th {\n",
       "        text-align: right;\n",
       "    }\n",
       "</style>\n",
       "<table border=\"1\" class=\"dataframe\">\n",
       "  <thead>\n",
       "    <tr style=\"text-align: right;\">\n",
       "      <th></th>\n",
       "      <th>Name</th>\n",
       "      <th>Symbol</th>\n",
       "      <th>Industry</th>\n",
       "      <th>Shares</th>\n",
       "      <th>Shares2</th>\n",
       "    </tr>\n",
       "  </thead>\n",
       "  <tbody>\n",
       "    <tr>\n",
       "      <th>0</th>\n",
       "      <td>Microsoft Corporation</td>\n",
       "      <td>MSFT</td>\n",
       "      <td>Tech</td>\n",
       "      <td>100</td>\n",
       "      <td>1000</td>\n",
       "    </tr>\n",
       "    <tr>\n",
       "      <th>1</th>\n",
       "      <td>Google, LLC</td>\n",
       "      <td>GOOG</td>\n",
       "      <td>Tech</td>\n",
       "      <td>50</td>\n",
       "      <td>500</td>\n",
       "    </tr>\n",
       "    <tr>\n",
       "      <th>2</th>\n",
       "      <td>Tesla, Inc.</td>\n",
       "      <td>TSLA</td>\n",
       "      <td>Automotive</td>\n",
       "      <td>150</td>\n",
       "      <td>1500</td>\n",
       "    </tr>\n",
       "    <tr>\n",
       "      <th>3</th>\n",
       "      <td>Apple Inc.</td>\n",
       "      <td>AAPL</td>\n",
       "      <td>Tech</td>\n",
       "      <td>200</td>\n",
       "      <td>2000</td>\n",
       "    </tr>\n",
       "    <tr>\n",
       "      <th>4</th>\n",
       "      <td>Netflix, Inc.</td>\n",
       "      <td>NFLX</td>\n",
       "      <td>Entertainment</td>\n",
       "      <td>80</td>\n",
       "      <td>800</td>\n",
       "    </tr>\n",
       "  </tbody>\n",
       "</table>\n",
       "</div>"
      ],
      "text/plain": [
       "                    Name Symbol       Industry  Shares  Shares2\n",
       "0  Microsoft Corporation   MSFT           Tech     100     1000\n",
       "1            Google, LLC   GOOG           Tech      50      500\n",
       "2            Tesla, Inc.   TSLA     Automotive     150     1500\n",
       "3             Apple Inc.   AAPL           Tech     200     2000\n",
       "4          Netflix, Inc.   NFLX  Entertainment      80      800"
      ]
     },
     "execution_count": 18,
     "metadata": {},
     "output_type": "execute_result"
    }
   ],
   "source": [
    "data = {\n",
    "    'Name': ['Microsoft Corporation', 'Google, LLC', 'Tesla, Inc.',\\\n",
    "             'Apple Inc.', 'Netflix, Inc.'],\n",
    "    'Symbol': ['MSFT', 'GOOG', 'TSLA', 'AAPL', 'NFLX'],\n",
    "    'Industry': ['Tech', 'Tech', 'Automotive', 'Tech', 'Entertainment'],\n",
    "    'Shares': [100, 50, 150, 200, 80],\n",
    "    'Shares2': [1000, 500, 1500, 2000, 800]\n",
    "}\n",
    "df = pd.DataFrame(data)\n",
    "dfdata = {\n",
    "    'Name': ['Microsoft Corporation', 'Google, LLC', 'Tesla, Inc.',\\\n",
    "             'Apple Inc.', 'Netflix, Inc.'],\n",
    "    'Symbol': ['MSFT', 'GOOG', 'TSLA', 'AAPL', 'NFLX'],\n",
    "    'Industry': ['Tech', 'Tech', 'Automotive', 'Tech', 'Entertainment'],\n",
    "    'Shares': [100, 50, 150, 200, 80],\n",
    "    'Shares2': [1000, 500, 1500, 2000, 800]\n",
    "}\n",
    "df = pd.DataFrame(data)\n",
    "df"
   ]
  },
  {
   "cell_type": "code",
   "execution_count": 19,
   "id": "a6f20cb1",
   "metadata": {},
   "outputs": [
    {
     "data": {
      "text/html": [
       "<div>\n",
       "<style scoped>\n",
       "    .dataframe tbody tr th:only-of-type {\n",
       "        vertical-align: middle;\n",
       "    }\n",
       "\n",
       "    .dataframe tbody tr th {\n",
       "        vertical-align: top;\n",
       "    }\n",
       "\n",
       "    .dataframe thead th {\n",
       "        text-align: right;\n",
       "    }\n",
       "</style>\n",
       "<table border=\"1\" class=\"dataframe\">\n",
       "  <thead>\n",
       "    <tr style=\"text-align: right;\">\n",
       "      <th></th>\n",
       "      <th>Name</th>\n",
       "      <th>Symbol</th>\n",
       "      <th>Industry</th>\n",
       "      <th>Shares</th>\n",
       "      <th>Shares2</th>\n",
       "    </tr>\n",
       "  </thead>\n",
       "  <tbody>\n",
       "    <tr>\n",
       "      <th>0</th>\n",
       "      <td>Microsoft Corporation</td>\n",
       "      <td>MSFT</td>\n",
       "      <td>Tech</td>\n",
       "      <td>100</td>\n",
       "      <td>1000</td>\n",
       "    </tr>\n",
       "    <tr>\n",
       "      <th>1</th>\n",
       "      <td>Google, LLC</td>\n",
       "      <td>GOOG</td>\n",
       "      <td>Tech</td>\n",
       "      <td>50</td>\n",
       "      <td>500</td>\n",
       "    </tr>\n",
       "    <tr>\n",
       "      <th>4</th>\n",
       "      <td>Netflix, Inc.</td>\n",
       "      <td>NFLX</td>\n",
       "      <td>Entertainment</td>\n",
       "      <td>80</td>\n",
       "      <td>800</td>\n",
       "    </tr>\n",
       "  </tbody>\n",
       "</table>\n",
       "</div>"
      ],
      "text/plain": [
       "                    Name Symbol       Industry  Shares  Shares2\n",
       "0  Microsoft Corporation   MSFT           Tech     100     1000\n",
       "1            Google, LLC   GOOG           Tech      50      500\n",
       "4          Netflix, Inc.   NFLX  Entertainment      80      800"
      ]
     },
     "execution_count": 19,
     "metadata": {},
     "output_type": "execute_result"
    }
   ],
   "source": [
    "df[ ~(df.Shares > 100) & (df.Shares != 500)]"
   ]
  },
  {
   "cell_type": "code",
   "execution_count": 20,
   "id": "896821ed",
   "metadata": {},
   "outputs": [
    {
     "name": "stdout",
     "output_type": "stream",
     "text": [
      "chipotle.tsv       dane_sprzedaz.csv  parking.csv        rating.csv\r\n"
     ]
    }
   ],
   "source": [
    "ls data"
   ]
  },
  {
   "cell_type": "code",
   "execution_count": 23,
   "id": "928f093a",
   "metadata": {},
   "outputs": [],
   "source": [
    "df = pd.read_csv(\"data/dane_sprzedaz.csv\", encoding=\"utf-8\")"
   ]
  },
  {
   "cell_type": "code",
   "execution_count": null,
   "id": "4b6727be",
   "metadata": {},
   "outputs": [],
   "source": []
  },
  {
   "cell_type": "code",
   "execution_count": null,
   "id": "a6f25a3a",
   "metadata": {},
   "outputs": [],
   "source": []
  },
  {
   "cell_type": "code",
   "execution_count": null,
   "id": "d27a82cc",
   "metadata": {},
   "outputs": [],
   "source": []
  }
 ],
 "metadata": {
  "kernelspec": {
   "display_name": "Python 3 (ipykernel)",
   "language": "python",
   "name": "python3"
  },
  "language_info": {
   "codemirror_mode": {
    "name": "ipython",
    "version": 3
   },
   "file_extension": ".py",
   "mimetype": "text/x-python",
   "name": "python",
   "nbconvert_exporter": "python",
   "pygments_lexer": "ipython3",
   "version": "3.11.2"
  }
 },
 "nbformat": 4,
 "nbformat_minor": 5
}
