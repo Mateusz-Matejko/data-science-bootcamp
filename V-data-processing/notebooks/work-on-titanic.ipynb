{
 "cells": [
  {
   "cell_type": "code",
   "execution_count": null,
   "id": "4accbc79",
   "metadata": {},
   "outputs": [],
   "source": [
    "import numpy as np # linear algebra\n",
    "import pandas as pd # data processing, CSV file I/O (e.g. pd.read_csv)\n",
    "import matplotlib.pyplot as plt # for data visualization\n",
    "import seaborn as sns # for statistical data visualization\n",
    "import pylab \n",
    "import scipy.stats as stats\n",
    "import datetime\n",
    "%matplotlib inline\n",
    "\n",
    "pd.set_option('display.max_columns', None)\n",
    "\n",
    "# Input data files are available in the \"../input/\" directory.\n",
    "# For example, running this (by clicking run or pressing Shift+Enter) will list all files under the input directory"
   ]
  },
  {
   "cell_type": "code",
   "execution_count": null,
   "id": "e7d738f3",
   "metadata": {},
   "outputs": [],
   "source": [
    "pip install seaborn"
   ]
  },
  {
   "cell_type": "code",
   "execution_count": null,
   "id": "83e063b5",
   "metadata": {},
   "outputs": [],
   "source": [
    "titanic = pd.read_csv('data/train.csv')"
   ]
  },
  {
   "cell_type": "code",
   "execution_count": null,
   "id": "2d79bb7d",
   "metadata": {},
   "outputs": [],
   "source": [
    "titanic['Sex']"
   ]
  },
  {
   "cell_type": "code",
   "execution_count": null,
   "id": "8f50e9f6",
   "metadata": {},
   "outputs": [],
   "source": [
    "pd.get_dummies(titanic['Sex'], drop_first=True).head()"
   ]
  },
  {
   "cell_type": "code",
   "execution_count": null,
   "id": "8ee4eb83",
   "metadata": {},
   "outputs": [],
   "source": [
    "s = pd.Series(data=[x**2 for x in range(11)],\n",
    "              index=list('abcdefghijk'))\n",
    "s"
   ]
  },
  {
   "cell_type": "code",
   "execution_count": null,
   "id": "03442664",
   "metadata": {
    "scrolled": true
   },
   "outputs": [],
   "source": [
    "pd.cut(s,3)"
   ]
  },
  {
   "cell_type": "code",
   "execution_count": null,
   "id": "7f60a272",
   "metadata": {},
   "outputs": [],
   "source": [
    "pip install pickle5"
   ]
  },
  {
   "cell_type": "code",
   "execution_count": null,
   "id": "76c1b4d0",
   "metadata": {},
   "outputs": [],
   "source": [
    "import pickle"
   ]
  },
  {
   "cell_type": "code",
   "execution_count": null,
   "id": "fcf0f6e1",
   "metadata": {},
   "outputs": [],
   "source": [
    "test = {\n",
    "    \"Hello\": \"World\",\n",
    "}"
   ]
  },
  {
   "cell_type": "code",
   "execution_count": null,
   "id": "b710aeb4",
   "metadata": {},
   "outputs": [],
   "source": [
    "test_dict = {\n",
    "    \"hello\": \"World\"\n",
    "    }\n",
    "with open(\"data/test.pickle\", \"wb\") as outfile:\n",
    "    pickle.dump(test_dict, outfile)"
   ]
  },
  {
   "cell_type": "code",
   "execution_count": null,
   "id": "0ecdde7b",
   "metadata": {},
   "outputs": [],
   "source": [
    "!pip install tensorflow"
   ]
  },
  {
   "cell_type": "code",
   "execution_count": null,
   "id": "a3810633",
   "metadata": {},
   "outputs": [],
   "source": [
    "\n",
    "import numpy as np\n",
    "import tensorflow as tf\n",
    "from tensorflow.keras.datasets import mnist\n",
    "from tensorflow.keras.models import Sequential\n",
    "from tensorflow.keras.layers import Conv2D, Dense, AveragePooling2D, Dropout, Flatten\n",
    "from tensorflow.keras.utils import to_categorical\n",
    "from tensorflow.keras.callbacks import EarlyStopping\n",
    " \n",
    "# Load MNIST digits\n",
    "(X_train, y_train), (X_test, y_test) = mnist.load_data()\n",
    " \n",
    "# Reshape data to (n_samples, height, wiedth, n_channel)\n",
    "X_train = np.expand_dims(X_train, axis=3).astype(\"float32\")\n",
    "X_test = np.expand_dims(X_test, axis=3).astype(\"float32\")\n",
    " \n",
    "# One-hot encode the output\n",
    "y_train = to_categorical(y_train)\n",
    "y_test = to_categorical(y_test)\n",
    " \n",
    "# LeNet5 model\n",
    "model = Sequential([\n",
    "    Conv2D(6, (5,5), input_shape=(28,28,1), padding=\"same\", activation=\"tanh\"),\n",
    "    AveragePooling2D((2,2), strides=2),\n",
    "    Conv2D(16, (5,5), activation=\"tanh\"),\n",
    "    AveragePooling2D((2,2), strides=2),\n",
    "    Conv2D(120, (5,5), activation=\"tanh\"),\n",
    "    Flatten(),\n",
    "    Dense(84, activation=\"tanh\"),\n",
    "    Dense(10, activation=\"softmax\")\n",
    "])\n",
    " \n",
    "# Train the model\n",
    "model.compile(loss=\"categorical_crossentropy\", optimizer=\"adam\", metrics=[\"accuracy\"])\n",
    "earlystopping = EarlyStopping(monitor=\"val_loss\", patience=4, restore_best_weights=True)\n",
    "model.fit(X_train, y_train, validation_data=(X_test, y_test), epochs=100, batch_size=32, callbacks=[earlystopping])\n",
    " \n",
    "# Evaluate the model\n",
    "print(model.evaluate(X_test, y_test, verbose=0))\n",
    " \n",
    "# Pickle to serialize and deserialize\n",
    "pickled_model = pickle.dumps(model)\n",
    "reconstructed = pickle.loads(pickled_model)\n",
    " \n",
    "# Evaluate again\n",
    "print(reconstructed.evaluate(X_test, y_test, verbose=0))"
   ]
  },
  {
   "cell_type": "code",
   "execution_count": null,
   "id": "24cfac38",
   "metadata": {},
   "outputs": [],
   "source": []
  }
 ],
 "metadata": {
  "kernelspec": {
   "display_name": "Python 3 (ipykernel)",
   "language": "python",
   "name": "python3"
  },
  "language_info": {
   "codemirror_mode": {
    "name": "ipython",
    "version": 3
   },
   "file_extension": ".py",
   "mimetype": "text/x-python",
   "name": "python",
   "nbconvert_exporter": "python",
   "pygments_lexer": "ipython3",
   "version": "3.11.2"
  }
 },
 "nbformat": 4,
 "nbformat_minor": 5
}
