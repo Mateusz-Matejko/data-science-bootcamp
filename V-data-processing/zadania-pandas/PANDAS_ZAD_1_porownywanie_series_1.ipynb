{
 "cells": [
  {
   "cell_type": "markdown",
   "id": "65f04276",
   "metadata": {},
   "source": [
    "\"\"\"\n",
    "**1. Porównywanie pd.Series**\n",
    "\n",
    "Utwórz dwa obiekty typu `pd.Series`, zawierające 100 wartości 0 lub 1. Wykorzystaj w tym celu generator liczb losowych z biblioteki NumPy [np.random.randint](https://docs.scipy.org/doc/numpy-1.15.1/reference/generated/numpy.random.randint.html#numpy-random-randint).\n",
    "\n",
    "Następnie wyświetl wszystkie indeksy, na których wartości w obu Series się zgadzają.\n",
    "\"\"\""
   ]
  },
  {
   "cell_type": "code",
   "execution_count": 1,
   "id": "3dbbe12d",
   "metadata": {},
   "outputs": [],
   "source": [
    "### wczytaj biblioteki\n",
    "import numpy as np\n",
    "import pandas as pd"
   ]
  },
  {
   "cell_type": "code",
   "execution_count": 10,
   "id": "ebddbd7c",
   "metadata": {},
   "outputs": [],
   "source": [
    "### przypisz do obiektu a za pomoca pd.Series z funkcja w srodku \n",
    "\n",
    "series1 = pd.Series(np.random.randint(0, 2, 100))"
   ]
  },
  {
   "cell_type": "code",
   "execution_count": 8,
   "id": "145186c3",
   "metadata": {},
   "outputs": [],
   "source": [
    "### przypisz do obiektu b za pomoca pd.Series z funkcja w srodku \n",
    "series2 = pd.Series(np.random.randint(0, 2, 100))"
   ]
  },
  {
   "cell_type": "code",
   "execution_count": 13,
   "id": "d450495e",
   "metadata": {},
   "outputs": [
    {
     "data": {
      "text/plain": [
       "49"
      ]
     },
     "execution_count": 13,
     "metadata": {},
     "output_type": "execute_result"
    }
   ],
   "source": [
    "### dla obiektu a wpisz w nawiasach kwadratowych warunek rowności a i b oraz dodaj atrybut index\n",
    "compression = lambda x, y: x == y\n",
    "compression(series1, series2).sum()"
   ]
  },
  {
   "cell_type": "code",
   "execution_count": null,
   "id": "0fa22d3b",
   "metadata": {},
   "outputs": [],
   "source": []
  }
 ],
 "metadata": {
  "kernelspec": {
   "display_name": "Python 3 (ipykernel)",
   "language": "python",
   "name": "python3"
  },
  "language_info": {
   "codemirror_mode": {
    "name": "ipython",
    "version": 3
   },
   "file_extension": ".py",
   "mimetype": "text/x-python",
   "name": "python",
   "nbconvert_exporter": "python",
   "pygments_lexer": "ipython3",
   "version": "3.11.2"
  }
 },
 "nbformat": 4,
 "nbformat_minor": 5
}
